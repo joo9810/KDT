{
 "cells": [
  {
   "cell_type": "markdown",
   "metadata": {},
   "source": [
    "#### 데이터셋 다운로드\n",
    "- 데이터 URL 사용\n",
    "    * urllib 패키지 활용 : from urllib.request import urlretrieve\n",
    "    * 함수 : "
   ]
  },
  {
   "cell_type": "code",
   "execution_count": 11,
   "metadata": {},
   "outputs": [],
   "source": [
    "# 모듈 로딩\n",
    "from urllib.request import urlretrieve\n",
    "import os\n",
    "\n",
    "# 파이토치의 내장 이미지 데이터셋\n",
    "from torchvision import datasets"
   ]
  },
  {
   "cell_type": "code",
   "execution_count": 5,
   "metadata": {},
   "outputs": [],
   "source": [
    "LOGO_URL = 'https://www.google.co.kr/images/branding/googlelogo/2x/googlelogo_color_272x92dp.png'\n",
    "PATH = '../image/'\n",
    "FILE_NAME = '../image/logo.png'"
   ]
  },
  {
   "cell_type": "code",
   "execution_count": 6,
   "metadata": {},
   "outputs": [],
   "source": [
    "# 데이터 저장 폴더 존재 여부 체크 후 생성\n",
    "if not os.path.exists(PATH):\n",
    "    os.mkdir(PATH)"
   ]
  },
  {
   "cell_type": "code",
   "execution_count": 7,
   "metadata": {},
   "outputs": [
    {
     "data": {
      "text/plain": [
       "('../image/logo.png', <http.client.HTTPMessage at 0x1067ae5b0>)"
      ]
     },
     "execution_count": 7,
     "metadata": {},
     "output_type": "execute_result"
    }
   ],
   "source": [
    "# 데이터 다운로드 후 이미지 저장\n",
    "urlretrieve(LOGO_URL, FILE_NAME)"
   ]
  },
  {
   "cell_type": "code",
   "execution_count": 12,
   "metadata": {},
   "outputs": [
    {
     "name": "stdout",
     "output_type": "stream",
     "text": [
      "Downloading http://yann.lecun.com/exdb/mnist/train-images-idx3-ubyte.gz\n",
      "Failed to download (trying next):\n",
      "HTTP Error 403: Forbidden\n",
      "\n",
      "Downloading https://ossci-datasets.s3.amazonaws.com/mnist/train-images-idx3-ubyte.gz\n",
      "Downloading https://ossci-datasets.s3.amazonaws.com/mnist/train-images-idx3-ubyte.gz to ../data/MNIST/MNIST/raw/train-images-idx3-ubyte.gz\n"
     ]
    },
    {
     "name": "stderr",
     "output_type": "stream",
     "text": [
      "100.0%\n"
     ]
    },
    {
     "name": "stdout",
     "output_type": "stream",
     "text": [
      "Extracting ../data/MNIST/MNIST/raw/train-images-idx3-ubyte.gz to ../data/MNIST/MNIST/raw\n",
      "\n",
      "Downloading http://yann.lecun.com/exdb/mnist/train-labels-idx1-ubyte.gz\n",
      "Failed to download (trying next):\n",
      "HTTP Error 403: Forbidden\n",
      "\n",
      "Downloading https://ossci-datasets.s3.amazonaws.com/mnist/train-labels-idx1-ubyte.gz\n",
      "Downloading https://ossci-datasets.s3.amazonaws.com/mnist/train-labels-idx1-ubyte.gz to ../data/MNIST/MNIST/raw/train-labels-idx1-ubyte.gz\n"
     ]
    },
    {
     "name": "stderr",
     "output_type": "stream",
     "text": [
      "100.0%\n"
     ]
    },
    {
     "name": "stdout",
     "output_type": "stream",
     "text": [
      "Extracting ../data/MNIST/MNIST/raw/train-labels-idx1-ubyte.gz to ../data/MNIST/MNIST/raw\n",
      "\n",
      "Downloading http://yann.lecun.com/exdb/mnist/t10k-images-idx3-ubyte.gz\n",
      "Failed to download (trying next):\n",
      "HTTP Error 403: Forbidden\n",
      "\n",
      "Downloading https://ossci-datasets.s3.amazonaws.com/mnist/t10k-images-idx3-ubyte.gz\n",
      "Downloading https://ossci-datasets.s3.amazonaws.com/mnist/t10k-images-idx3-ubyte.gz to ../data/MNIST/MNIST/raw/t10k-images-idx3-ubyte.gz\n"
     ]
    },
    {
     "name": "stderr",
     "output_type": "stream",
     "text": [
      "100.0%\n"
     ]
    },
    {
     "name": "stdout",
     "output_type": "stream",
     "text": [
      "Extracting ../data/MNIST/MNIST/raw/t10k-images-idx3-ubyte.gz to ../data/MNIST/MNIST/raw\n",
      "\n",
      "Downloading http://yann.lecun.com/exdb/mnist/t10k-labels-idx1-ubyte.gz\n",
      "Failed to download (trying next):\n",
      "HTTP Error 403: Forbidden\n",
      "\n",
      "Downloading https://ossci-datasets.s3.amazonaws.com/mnist/t10k-labels-idx1-ubyte.gz\n",
      "Downloading https://ossci-datasets.s3.amazonaws.com/mnist/t10k-labels-idx1-ubyte.gz to ../data/MNIST/MNIST/raw/t10k-labels-idx1-ubyte.gz\n"
     ]
    },
    {
     "name": "stderr",
     "output_type": "stream",
     "text": [
      "100.0%"
     ]
    },
    {
     "name": "stdout",
     "output_type": "stream",
     "text": [
      "Extracting ../data/MNIST/MNIST/raw/t10k-labels-idx1-ubyte.gz to ../data/MNIST/MNIST/raw\n",
      "\n"
     ]
    },
    {
     "name": "stderr",
     "output_type": "stream",
     "text": [
      "\n"
     ]
    },
    {
     "data": {
      "text/plain": [
       "Dataset MNIST\n",
       "    Number of datapoints: 60000\n",
       "    Root location: ../data/MNIST\n",
       "    Split: Train"
      ]
     },
     "execution_count": 12,
     "metadata": {},
     "output_type": "execute_result"
    }
   ],
   "source": [
    "# MNIST 데이터셋 다운로드\n",
    "datasets.MNIST('../data/MNIST', download=True)"
   ]
  },
  {
   "cell_type": "markdown",
   "metadata": {},
   "source": [
    "- 바이너리 데이터 읽기"
   ]
  },
  {
   "cell_type": "code",
   "execution_count": 41,
   "metadata": {},
   "outputs": [
    {
     "name": "stdout",
     "output_type": "stream",
     "text": [
      "filelist => \n",
      "['t10k-images-idx3-ubyte', 't10k-labels-idx1-ubyte', 'train-images-idx3-ubyte', 'train-labels-idx1-ubyte']\n"
     ]
    }
   ],
   "source": [
    "# 데이터 파일 리스트 준비\n",
    "MNIST_PATH = '../data/MNIST/raw/'\n",
    "filelist = os.listdir(MNIST_PATH)\n",
    "file_list = []\n",
    "for file in filelist:\n",
    "    if file[-3:] != '.gz':\n",
    "        file_list.append(file)\n",
    "\n",
    "print(f'filelist => \\n{file_list}')"
   ]
  },
  {
   "cell_type": "code",
   "execution_count": 43,
   "metadata": {},
   "outputs": [
    {
     "name": "stdout",
     "output_type": "stream",
     "text": [
      "b'\\x00\\x00\\x08\\x03'\n",
      "b\"\\x00\\x00'\\x10\"\n",
      "b'\\x00\\x00\\x00\\x1c'\n"
     ]
    }
   ],
   "source": [
    "# 데이터 파일 읽기\n",
    "with open(MNIST_PATH+file_list[0], mode='rb') as f:\n",
    "    data = f.read(4)\n",
    "    print(data)\n",
    "\n",
    "    data = f.read(4)\n",
    "    print(data)\n",
    "\n",
    "    data = f.read(4)\n",
    "    print(data)"
   ]
  },
  {
   "cell_type": "markdown",
   "metadata": {},
   "source": [
    "-  바이너리 데이터를 원하는 자료형으로 읽기\n",
    "    * 파이썬 내장 모듈 strunct 사용"
   ]
  },
  {
   "cell_type": "code",
   "execution_count": 45,
   "metadata": {},
   "outputs": [],
   "source": [
    "# 모듈 로딩\n",
    "import struct"
   ]
  },
  {
   "cell_type": "code",
   "execution_count": 65,
   "metadata": {},
   "outputs": [],
   "source": [
    "# 데이터 파일 읽어서 데이터셋 파일 생성\n",
    "def makeDataFile(imgfile, labelfile, datasetfile):\n",
    "    with open(imgfile, mode='rb') as data_f:\n",
    "        with open(labelfile, mode = 'rb') as label_f:\n",
    "            with open(datasetfile, mode = 'w') as dataset_f:\n",
    "\n",
    "                # 파일의 헤더 정보 읽기\n",
    "                _, img_cnt = struct.unpack('>II', data_f.read(8))\n",
    "                rows, cols = struct.unpack('>II', data_f.read(8))\n",
    "\n",
    "                _, _ = struct.unpack('>II', label_f.read(8))\n",
    "\n",
    "                for n in range(img_cnt):\n",
    "                    # 이미지 raw 데이터\n",
    "                    pixels = data_f.read(rows*cols) # read는 바이너리로 읽음\n",
    "                    # pixels = b'\\x00\\x7F\\xAA\\xFF' 이런 형태로 들어옴\n",
    "                    # print(list(pixels))  # 출력: [0, 127, 170, 255]\n",
    "\n",
    "                    # sdata = list(map(lambda n:str(n), pixels))\n",
    "                    sdata = list(map(str, pixels))\n",
    "                    # pixels에 있는걸 리스트로 저장하면 숫자로 풀어짐\n",
    "                    # print(sdata)\n",
    "\n",
    "                    # 이미지 라벨\n",
    "                    label = struct.unpack('B', label_f.read(1))[0]\n",
    "                    # 2진수로 들어온걸 unpack으로 풀면 10진수 숫자로 들어옴\n",
    "                    # 얘는 리스트로 굳이 안만들 것이기 때문에 unpack으로 바로 풀기\n",
    "                    # print(label)\n",
    "\n",
    "                    # 피쳐와 라벨 연결\n",
    "                    sdata.append(str(label))\n",
    "                    # print(sdata)\n",
    "\n",
    "                    # 데이터 파일에 기록\n",
    "                    img_label=','.join(sdata)\n",
    "                    dataset_f.write(img_label+'\\n')\n",
    "                    # print(img_label)"
   ]
  },
  {
   "cell_type": "code",
   "execution_count": 62,
   "metadata": {},
   "outputs": [
    {
     "data": {
      "text/plain": [
       "['t10k-images-idx3-ubyte',\n",
       " 't10k-labels-idx1-ubyte',\n",
       " 'train-images-idx3-ubyte',\n",
       " 'train-labels-idx1-ubyte']"
      ]
     },
     "execution_count": 62,
     "metadata": {},
     "output_type": "execute_result"
    }
   ],
   "source": [
    "file_list"
   ]
  },
  {
   "cell_type": "code",
   "execution_count": 63,
   "metadata": {},
   "outputs": [],
   "source": [
    "DS_PATH = '../data/'\n",
    "MNIST_PATH = '../data/MNIST/raw/'\n",
    "\n",
    "TRAIN_FILE = DS_PATH + 'mnist_train.csv'\n",
    "TEST_FILE = DS_PATH + 'mnist_test.csv'\n",
    "\n",
    "# makeDataFile(MNIST_PATH+file_list[0], MNIST_PATH+file_list[1], TEST_FILE)\n",
    "makeDataFile(MNIST_PATH+file_list[2], MNIST_PATH+file_list[3], TRAIN_FILE)"
   ]
  },
  {
   "cell_type": "code",
   "execution_count": 64,
   "metadata": {},
   "outputs": [
    {
     "name": "stdout",
     "output_type": "stream",
     "text": [
      "[0, 127, 170, 255]\n"
     ]
    }
   ],
   "source": [
    "# 예를 들어 data_f.read(4)로 4바이트를 읽었다고 가정합시다.\n",
    "binary_data = b'\\x00\\x7F\\xAA\\xFF'  # 4바이트의 바이너리 데이터\n",
    "\n",
    "# 각각의 바이트는 사실 10진수로 변환될 수 있는 값입니다.\n",
    "print(list(binary_data))  # 출력: [0, 127, 170, 255]\n"
   ]
  },
  {
   "cell_type": "code",
   "execution_count": null,
   "metadata": {},
   "outputs": [],
   "source": []
  }
 ],
 "metadata": {
  "kernelspec": {
   "display_name": "TORCH_CV_38",
   "language": "python",
   "name": "python3"
  },
  "language_info": {
   "codemirror_mode": {
    "name": "ipython",
    "version": 3
   },
   "file_extension": ".py",
   "mimetype": "text/x-python",
   "name": "python",
   "nbconvert_exporter": "python",
   "pygments_lexer": "ipython3",
   "version": "3.8.19"
  }
 },
 "nbformat": 4,
 "nbformat_minor": 2
}
