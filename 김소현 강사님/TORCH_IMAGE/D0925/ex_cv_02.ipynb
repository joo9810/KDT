{
 "cells": [
  {
   "cell_type": "markdown",
   "metadata": {},
   "source": [
    "### Video 처리\n",
    "- cv2.VideoCapture(동영상 또는 카메라번호)함수"
   ]
  },
  {
   "cell_type": "code",
   "execution_count": 19,
   "metadata": {},
   "outputs": [],
   "source": [
    "# 모듈 로딩\n",
    "import cv2\n",
    "import numpy as np"
   ]
  },
  {
   "cell_type": "code",
   "execution_count": 20,
   "metadata": {},
   "outputs": [],
   "source": [
    "# 데이터 및 디바이스 설정\n",
    "DIR_PATH = '../image/'\n",
    "\n",
    "CAM_DEVICE = 0"
   ]
  },
  {
   "cell_type": "markdown",
   "metadata": {},
   "source": [
    "- [카메라 관련 영상 처리]"
   ]
  },
  {
   "cell_type": "code",
   "execution_count": 16,
   "metadata": {},
   "outputs": [
    {
     "name": "stdout",
     "output_type": "stream",
     "text": [
      "2024 10 9 25\n"
     ]
    },
    {
     "data": {
      "text/plain": [
       "'capture 24.09.25 10.24.57.jpg'"
      ]
     },
     "execution_count": 16,
     "metadata": {},
     "output_type": "execute_result"
    }
   ],
   "source": [
    "import time\n",
    "\n",
    "# print(time.ctime().replace(':', '-'))\n",
    "\n",
    "# 현재 날짜 시간 정보 저장 인스턴스\n",
    "cur_time = time.localtime()\n",
    "\n",
    "print(cur_time.tm_year, cur_time.tm_hour, cur_time.tm_mon, cur_time.tm_mday)\n",
    "\n",
    "time.strftime('%y/%m/%d %H_%M_%S', cur_time)\n",
    "\n",
    "SAVE_FILE = f'capture {time.strftime(\"%y.%m.%d %H.%M.%S\", cur_time)}.jpg'\n",
    "SAVE_FILE"
   ]
  },
  {
   "cell_type": "code",
   "execution_count": 33,
   "metadata": {},
   "outputs": [
    {
     "name": "stdout",
     "output_type": "stream",
     "text": [
      "영상 재생 정지\n"
     ]
    }
   ],
   "source": [
    "# 카메라와 연결 여부 체크\n",
    "camera = cv2.VideoCapture(CAM_DEVICE)\n",
    "\n",
    "if camera.isOpened():\n",
    "    while True:\n",
    "        ret, img = camera.read()\n",
    "        if ret:\n",
    "            cv2.imshow('VIDEO', img)\n",
    "            if cv2.waitKey(10) != -1: # 매 img 프레임마다 10밀리초 만큼 입력을 대기\n",
    "                print(\"영상 재생 종료\")\n",
    "                SAVE_FILE = f'capture {time.strftime(\"%y.%m.%d %H.%M.%S\", cur_time)}.jpg'\n",
    "                cv2.imwrite(DIR_PATH+SAVE_FILE, img)\n",
    "                cv2.destroyAllWindows()\n",
    "                for i in range(5):\n",
    "                    cv2.waitKey(1)\n",
    "                break\n",
    "        else:\n",
    "            print(\"영상 읽기 실패\")\n",
    "            break\n",
    "else:\n",
    "    print(\"카메라 연결 여부 체크 바랍니다.\")"
   ]
  },
  {
   "cell_type": "code",
   "execution_count": null,
   "metadata": {},
   "outputs": [],
   "source": []
  }
 ],
 "metadata": {
  "kernelspec": {
   "display_name": "TORCH_CV_38",
   "language": "python",
   "name": "python3"
  },
  "language_info": {
   "codemirror_mode": {
    "name": "ipython",
    "version": 3
   },
   "file_extension": ".py",
   "mimetype": "text/x-python",
   "name": "python",
   "nbconvert_exporter": "python",
   "pygments_lexer": "ipython3",
   "version": "3.8.19"
  }
 },
 "nbformat": 4,
 "nbformat_minor": 2
}
