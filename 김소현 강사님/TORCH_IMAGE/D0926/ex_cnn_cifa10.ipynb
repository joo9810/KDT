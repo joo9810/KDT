{
 "cells": [
  {
   "cell_type": "markdown",
   "metadata": {},
   "source": [
    "### CNN 이미지 분류 모델\n",
    "- 이미지 데이터셋 준비\n",
    "    * torchvision의 내장 데이터셋 활용 CIFAR10\n",
    "- 이미지 분류 모델\n",
    "    * 커스텀 CNN 구현"
   ]
  },
  {
   "cell_type": "markdown",
   "metadata": {},
   "source": [
    "[1] 모듈 로딩 및 데이터 준비 <hr>"
   ]
  },
  {
   "cell_type": "code",
   "execution_count": 239,
   "metadata": {},
   "outputs": [],
   "source": [
    "# 모듈 로딩\n",
    "import torch\n",
    "import torch.nn as nn \n",
    "import torch.nn.functional as F\n",
    "from torchvision.datasets import CIFAR10        # torchvision 내장 데이터셋 관련 모듈\n",
    "from torchvision.transforms import ToTensor     # torchvision 데이터 변환 관련 모듈\n",
    "from torch.utils.data import DataLoader         # 데이터셋 관련 모듈 로딩\n",
    "import matplotlib.pyplot as plt\n",
    "from torchinfo import summary"
   ]
  },
  {
   "cell_type": "code",
   "execution_count": 240,
   "metadata": {},
   "outputs": [
    {
     "name": "stdout",
     "output_type": "stream",
     "text": [
      "Files already downloaded and verified\n"
     ]
    }
   ],
   "source": [
    "# 데이터 로딩\n",
    "DIR_PATH = '/Users/anhyojun/WorkSpace/LocalData/cifa10'\n",
    "\n",
    "# Pytorch의 Dataset 형태 로딩\n",
    "cifarDS = CIFAR10(DIR_PATH, train=True, download=True, transform=ToTensor())"
   ]
  },
  {
   "cell_type": "code",
   "execution_count": 241,
   "metadata": {},
   "outputs": [
    {
     "name": "stdout",
     "output_type": "stream",
     "text": [
      "cifarDS.classes : ['airplane', 'automobile', 'bird', 'cat', 'deer', 'dog', 'frog', 'horse', 'ship', 'truck']\n",
      "cifarDS.class_to_idx : {'airplane': 0, 'automobile': 1, 'bird': 2, 'cat': 3, 'deer': 4, 'dog': 5, 'frog': 6, 'horse': 7, 'ship': 8, 'truck': 9}\n",
      "cifarDS.data.shape : (50000, 32, 32, 3)\n",
      "len(cifarDS.targets) : 50000\n"
     ]
    }
   ],
   "source": [
    "# Dataset의 속성 확인\n",
    "print(f'cifarDS.classes : {cifarDS.classes}')\n",
    "print(f'cifarDS.class_to_idx : {cifarDS.class_to_idx}')\n",
    "print(f'cifarDS.data.shape : {cifarDS.data.shape}')\n",
    "print(f'len(cifarDS.targets) : {len(cifarDS.targets)}')"
   ]
  },
  {
   "cell_type": "markdown",
   "metadata": {},
   "source": [
    "[2] 데이터 로더 <hr>\n",
    "- 학습 시 배치크기만큼 데이터와 라벨/타겟을 로딩"
   ]
  },
  {
   "cell_type": "code",
   "execution_count": 242,
   "metadata": {},
   "outputs": [],
   "source": [
    "BATCH_SIZE = 1\n",
    "\n",
    "cifarDL = DataLoader(cifarDS, batch_size = BATCH_SIZE)"
   ]
  },
  {
   "cell_type": "code",
   "execution_count": 243,
   "metadata": {},
   "outputs": [
    {
     "name": "stdout",
     "output_type": "stream",
     "text": [
      "torch.Size([32, 32, 3])\n"
     ]
    },
    {
     "data": {
      "image/png": "[encoded data removed]",
      "text/plain": [
       "<Figure size 640x480 with 1 Axes>"
      ]
     },
     "metadata": {},
     "output_type": "display_data"
    }
   ],
   "source": [
    "for data, target in cifarDL:\n",
    "    data = data\n",
    "    target = target\n",
    "    break\n",
    "\n",
    "INDEX = 0\n",
    "\n",
    "data1 = data[[INDEX]].squeeze().permute(1,2,0)\n",
    "print(data1.shape)\n",
    "name = [key for key, value in cifarDS.class_to_idx.items() if value == target[INDEX].item()][0]\n",
    "plt.title(name)\n",
    "plt.imshow(data1) # (height, width, channel) 형태로 줘야 함\n",
    "plt.show()"
   ]
  },
  {
   "cell_type": "markdown",
   "metadata": {},
   "source": [
    "[3] 커스텀 모델 설계 및 정의 <hr>\n",
    "- 모델 목적 : 이미지 분류 모델\n",
    "- 학습 방법 : 지도학습 > 분류 > 다중분류 (10개)\n",
    "- 클래스 이름 : ImageMCF\n",
    "- 클래스 구조 : 특징추출부분 => CNN + 학습부분 FC\n",
    "- 부모 클래스 : nn.Module"
   ]
  },
  {
   "cell_type": "code",
   "execution_count": 244,
   "metadata": {},
   "outputs": [],
   "source": [
    "class ImageMCF(nn.Module):\n",
    "    # 모델 구조 설계 즉, 생성자 메서드\n",
    "    def __init__(self):\n",
    "        # 부모 생성\n",
    "        super().__init__()\n",
    "        # 모델 층 구성\n",
    "        self.in_layer = nn.Conv2d(in_channels=3, out_channels=10, kernel_size=3)\n",
    "        self.p_layer = nn.MaxPool2d(kernel_size=2, stride=2)\n",
    "\n",
    "        # 학습 관련 층\n",
    "        self.hd_layer = nn.Linear(in_features=15*15*10, out_features=50)\n",
    "        self.out_layer = nn.Linear(in_features=50, out_features=10)\n",
    "\n",
    "    # 전방향/순방향 학습 메서드\n",
    "    def forward(self, input):\n",
    "        # 합성곱 계층\n",
    "        output = self.in_layer(input)\n",
    "        print(f'[output1] {output.shape}')\n",
    "        output = F.relu(output)\n",
    "        print(f'[output2] {output.shape}')\n",
    "\n",
    "        # 풀링 계층\n",
    "        output = self.p_layer(output)\n",
    "        print(f'[output3] {output.shape}')\n",
    "\n",
    "        # 은닉 계층\n",
    "        output = output.view(output.shape[0], -1)\n",
    "        print(f'[output4] {output.shape}')\n",
    "        output = F.relu(self.hd_layer(output))\n",
    "        print(f'[output5] {output.shape}')\n",
    "\n",
    "        # 출력 계층\n",
    "        output = self.out_layer(output)\n",
    "        print(f'[output6] {output.shape}')\n",
    "\n",
    "        return output\n"
   ]
  },
  {
   "cell_type": "code",
   "execution_count": 245,
   "metadata": {},
   "outputs": [
    {
     "data": {
      "text/plain": [
       "=================================================================\n",
       "Layer (type:depth-idx)                   Param #\n",
       "=================================================================\n",
       "ImageMCF                                 --\n",
       "├─Conv2d: 1-1                            280\n",
       "├─MaxPool2d: 1-2                         --\n",
       "├─Linear: 1-3                            112,550\n",
       "├─Linear: 1-4                            510\n",
       "=================================================================\n",
       "Total params: 113,340\n",
       "Trainable params: 113,340\n",
       "Non-trainable params: 0\n",
       "================================================================="
      ]
     },
     "execution_count": 245,
     "metadata": {},
     "output_type": "execute_result"
    }
   ],
   "source": [
    "# [테스트] 모델 인스턴스 생성\n",
    "m = ImageMCF()\n",
    "\n",
    "summary(m)"
   ]
  },
  {
   "cell_type": "code",
   "execution_count": 246,
   "metadata": {},
   "outputs": [
    {
     "name": "stdout",
     "output_type": "stream",
     "text": [
      "[target] => tensor([6])\n",
      "torch.Size([1, 3, 32, 32])\n",
      "[output1] torch.Size([1, 10, 30, 30])\n",
      "[output2] torch.Size([1, 10, 30, 30])\n",
      "[output3] torch.Size([1, 10, 15, 15])\n",
      "[output4] torch.Size([1, 2250])\n",
      "[output5] torch.Size([1, 50])\n",
      "[output6] torch.Size([1, 10])\n",
      "pre => tensor([8])\n"
     ]
    }
   ],
   "source": [
    "# [테스트] Dataset, DataLoader\n",
    "for data, target in cifarDL:\n",
    "    print(f'[target] => {target}')\n",
    "    print(data.shape)\n",
    "    pre = m(data)\n",
    "    print(f'pre => {pre.argmax(dim=1)}')\n",
    "    break"
   ]
  },
  {
   "cell_type": "code",
   "execution_count": 247,
   "metadata": {},
   "outputs": [
    {
     "name": "stdout",
     "output_type": "stream",
     "text": [
      ">>[in_layer.weight]----------\n",
      "torch.Size([10, 3, 3, 3])\n",
      ">>[in_layer.bias]----------\n",
      "torch.Size([10])\n",
      ">>[hd_layer.weight]----------\n",
      "torch.Size([50, 2250])\n",
      ">>[hd_layer.bias]----------\n",
      "torch.Size([50])\n",
      ">>[out_layer.weight]----------\n",
      "torch.Size([10, 50])\n",
      ">>[out_layer.bias]----------\n",
      "torch.Size([10])\n"
     ]
    }
   ],
   "source": [
    "for name, param in m.named_parameters():\n",
    "    print(f'>>[{name}]----------\\n{param.shape}')"
   ]
  },
  {
   "cell_type": "code",
   "execution_count": 248,
   "metadata": {},
   "outputs": [],
   "source": [
    "class ImageMCF2(nn.Module):\n",
    "    # 모델 구조 설계 즉, 생성자 메서드\n",
    "    def __init__(self):\n",
    "        # 부모 생성\n",
    "        super().__init__()\n",
    "        # 모델 층 구성\n",
    "        self.cnn_layer = nn.Sequential(\n",
    "            nn.Conv2d(in_channels=3, out_channels=10, kernel_size=3),\n",
    "            nn.ReLU(),\n",
    "            nn.MaxPool2d(kernel_size=2, stride=2)\n",
    "        )\n",
    "        \n",
    "        # 학습 관련 층\n",
    "        self.hd_layer = nn.Linear(in_features=10*15*15, out_features=50)\n",
    "        self.out_layer = nn.Linear(in_features=50, out_features=10)\n",
    "\n",
    "    # 전방향/순방향 학습 메서드\n",
    "    def forward(self, input):\n",
    "        # 이미지 특징 맵 추출\n",
    "        output = self.cnn_layer(input)\n",
    "        print(f'[cnn_layer output] {output.shape}')\n",
    "\n",
    "        # 4D -> 2D (샘플수, 피쳐수)\n",
    "        output = output.view(output.shape[0], -1)\n",
    "        print(f'[view output] {output.shape}')\n",
    "\n",
    "        output = F.relu(self.hd_layer(output))\n",
    "        print(f'[hd_layer output5] {output.shape}')\n",
    "\n",
    "        # 출력 계층\n",
    "        output = self.out_layer(output)\n",
    "        print(f'[out_layer output6] {output.shape}')\n",
    "\n",
    "        return output"
   ]
  },
  {
   "cell_type": "code",
   "execution_count": 249,
   "metadata": {},
   "outputs": [
    {
     "data": {
      "text/plain": [
       "=================================================================\n",
       "Layer (type:depth-idx)                   Param #\n",
       "=================================================================\n",
       "ImageMCF2                                --\n",
       "├─Sequential: 1-1                        --\n",
       "│    └─Conv2d: 2-1                       280\n",
       "│    └─ReLU: 2-2                         --\n",
       "│    └─MaxPool2d: 2-3                    --\n",
       "├─Linear: 1-2                            112,550\n",
       "├─Linear: 1-3                            510\n",
       "=================================================================\n",
       "Total params: 113,340\n",
       "Trainable params: 113,340\n",
       "Non-trainable params: 0\n",
       "================================================================="
      ]
     },
     "execution_count": 249,
     "metadata": {},
     "output_type": "execute_result"
    }
   ],
   "source": [
    "# [테스트] 모델 인스턴스 생성\n",
    "m2 = ImageMCF2()\n",
    "\n",
    "summary(m2)"
   ]
  },
  {
   "cell_type": "code",
   "execution_count": 250,
   "metadata": {},
   "outputs": [
    {
     "name": "stdout",
     "output_type": "stream",
     "text": [
      "[target] => tensor([6])\n",
      "torch.Size([1, 3, 32, 32])\n",
      "[cnn_layer output] torch.Size([1, 10, 15, 15])\n",
      "[view output] torch.Size([1, 2250])\n",
      "[hd_layer output5] torch.Size([1, 50])\n",
      "[out_layer output6] torch.Size([1, 10])\n",
      "pre => tensor([6])\n"
     ]
    }
   ],
   "source": [
    "# [테스트] Dataset, DataLoader\n",
    "for data, target in cifarDL:\n",
    "    print(f'[target] => {target}')\n",
    "    print(data.shape)\n",
    "    pre = m2(data)\n",
    "    print(f'pre => {pre.argmax(dim=1)}')\n",
    "    break"
   ]
  },
  {
   "cell_type": "code",
   "execution_count": 251,
   "metadata": {},
   "outputs": [
    {
     "name": "stdout",
     "output_type": "stream",
     "text": [
      ">>[cnn_layer.0.weight]----------\n",
      "torch.Size([10, 3, 3, 3])\n",
      ">>[cnn_layer.0.bias]----------\n",
      "torch.Size([10])\n",
      ">>[hd_layer.weight]----------\n",
      "torch.Size([50, 2250])\n",
      ">>[hd_layer.bias]----------\n",
      "torch.Size([50])\n",
      ">>[out_layer.weight]----------\n",
      "torch.Size([10, 50])\n",
      ">>[out_layer.bias]----------\n",
      "torch.Size([10])\n"
     ]
    }
   ],
   "source": [
    "for name, param in m2.named_parameters():\n",
    "    print(f'>>[{name}]----------\\n{param.shape}')"
   ]
  },
  {
   "cell_type": "code",
   "execution_count": 252,
   "metadata": {},
   "outputs": [],
   "source": [
    "class ImageMCF3(nn.Module):\n",
    "    # 모델 구조 설계 즉, 생성자 메서드\n",
    "    def __init__(self):\n",
    "        # 부모 생성\n",
    "        super().__init__()\n",
    "        # 모델 층 구성\n",
    "        self.cnn_layer = nn.Sequential(\n",
    "            nn.Conv2d(in_channels=3, out_channels=10, kernel_size=3),\n",
    "            nn.ReLU(),\n",
    "            nn.MaxPool2d(kernel_size=2, stride=2)\n",
    "        )\n",
    "        # (1 x 3 x 32 x 32) => (1, 10, 15, 15)\n",
    "\n",
    "        self.cnn_layer2 = nn.Sequential(\n",
    "            nn.Conv2d(in_channels=10, out_channels=30, kernel_size=3),\n",
    "            nn.ReLU(),\n",
    "            nn.MaxPool2d(kernel_size=2, stride=2)\n",
    "        )\n",
    "        # (1, 10, 15, 15) => (1, 30, 6, 6)\n",
    "\n",
    "        # 학습 관련 층\n",
    "        self.hd_layer = nn.Linear(in_features=30*6*6, out_features=50)\n",
    "        self.out_layer = nn.Linear(in_features=50, out_features=10)\n",
    "\n",
    "    # 전방향/순방향 학습 메서드\n",
    "    def forward(self, input):\n",
    "        # 이미지 특징 맵 추출\n",
    "        output = self.cnn_layer(input)\n",
    "        print(f'[cnn_layer output] {output.shape}')\n",
    "\n",
    "        output = self.cnn_layer2(output)\n",
    "        print(f'[cnn_layer output] {output.shape}')\n",
    "\n",
    "        # 4D -> 2D (샘플수, 피쳐수)\n",
    "        output = output.view(output.shape[0], -1)\n",
    "        print(f'[view output] {output.shape}')\n",
    "\n",
    "        output = F.relu(self.hd_layer(output))\n",
    "        print(f'[hd_layer output5] {output.shape}')\n",
    "\n",
    "        # 출력 계층\n",
    "        output = self.out_layer(output)\n",
    "        print(f'[out_layer output6] {output.shape}')\n",
    "\n",
    "        return output"
   ]
  },
  {
   "cell_type": "code",
   "execution_count": 253,
   "metadata": {},
   "outputs": [
    {
     "data": {
      "text/plain": [
       "=================================================================\n",
       "Layer (type:depth-idx)                   Param #\n",
       "=================================================================\n",
       "ImageMCF3                                --\n",
       "├─Sequential: 1-1                        --\n",
       "│    └─Conv2d: 2-1                       280\n",
       "│    └─ReLU: 2-2                         --\n",
       "│    └─MaxPool2d: 2-3                    --\n",
       "├─Sequential: 1-2                        --\n",
       "│    └─Conv2d: 2-4                       2,730\n",
       "│    └─ReLU: 2-5                         --\n",
       "│    └─MaxPool2d: 2-6                    --\n",
       "├─Linear: 1-3                            54,050\n",
       "├─Linear: 1-4                            510\n",
       "=================================================================\n",
       "Total params: 57,570\n",
       "Trainable params: 57,570\n",
       "Non-trainable params: 0\n",
       "================================================================="
      ]
     },
     "execution_count": 253,
     "metadata": {},
     "output_type": "execute_result"
    }
   ],
   "source": [
    "# [테스트] 모델 인스턴스 생성\n",
    "m3 = ImageMCF3()\n",
    "\n",
    "summary(m3)"
   ]
  },
  {
   "cell_type": "code",
   "execution_count": 254,
   "metadata": {},
   "outputs": [
    {
     "name": "stdout",
     "output_type": "stream",
     "text": [
      "[target] => tensor([6])\n",
      "torch.Size([1, 3, 32, 32])\n",
      "[cnn_layer output] torch.Size([1, 10, 15, 15])\n",
      "[cnn_layer output] torch.Size([1, 30, 6, 6])\n",
      "[view output] torch.Size([1, 1080])\n",
      "[hd_layer output5] torch.Size([1, 50])\n",
      "[out_layer output6] torch.Size([1, 10])\n",
      "pre => tensor([6])\n"
     ]
    }
   ],
   "source": [
    "# [테스트] Dataset, DataLoader\n",
    "for data, target in cifarDL:\n",
    "    print(f'[target] => {target}')\n",
    "    print(data.shape)\n",
    "    pre = m3(data)\n",
    "    print(f'pre => {pre.argmax(dim=1)}')\n",
    "    break"
   ]
  },
  {
   "cell_type": "code",
   "execution_count": 255,
   "metadata": {},
   "outputs": [
    {
     "name": "stdout",
     "output_type": "stream",
     "text": [
      ">>[cnn_layer.0.weight]----------\n",
      "torch.Size([10, 3, 3, 3])\n",
      ">>[cnn_layer.0.bias]----------\n",
      "torch.Size([10])\n",
      ">>[cnn_layer2.0.weight]----------\n",
      "torch.Size([30, 10, 3, 3])\n",
      ">>[cnn_layer2.0.bias]----------\n",
      "torch.Size([30])\n",
      ">>[hd_layer.weight]----------\n",
      "torch.Size([50, 1080])\n",
      ">>[hd_layer.bias]----------\n",
      "torch.Size([50])\n",
      ">>[out_layer.weight]----------\n",
      "torch.Size([10, 50])\n",
      ">>[out_layer.bias]----------\n",
      "torch.Size([10])\n"
     ]
    }
   ],
   "source": [
    "for name, param in m3.named_parameters():\n",
    "    print(f'>>[{name}]----------\\n{param.shape}')"
   ]
  }
 ],
 "metadata": {
  "kernelspec": {
   "display_name": "TORCH_CV_38",
   "language": "python",
   "name": "python3"
  },
  "language_info": {
   "codemirror_mode": {
    "name": "ipython",
    "version": 3
   },
   "file_extension": ".py",
   "mimetype": "text/x-python",
   "name": "python",
   "nbconvert_exporter": "python",
   "pygments_lexer": "ipython3",
   "version": "3.8.19"
  }
 },
 "nbformat": 4,
 "nbformat_minor": 2
}
