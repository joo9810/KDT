{
 "cells": [
  {
   "cell_type": "code",
   "execution_count": 12,
   "metadata": {},
   "outputs": [],
   "source": [
    "from bs4 import BeautifulSoup\n",
    "from selenium import webdriver\n",
    "from selenium.webdriver.chrome.service import Service\n",
    "from selenium.webdriver.common.by import By\n",
    "import time\n",
    "\n",
    "from sklearn.model_selection import train_test_split\n",
    "from sklearn.feature_extraction.text import TfidfVectorizer\n",
    "\n",
    "import MeCab\n",
    "from konlpy.tag import Okt\n",
    "\n",
    "import sys\n",
    "sys.path.append('/Users/anhyojun/WorkSpace/KDT2/MyModule')\n",
    "from KDTModule import *\n",
    "\n",
    "import torch.optim as optim\n",
    "from torch.utils.data import DataLoader\n",
    "\n",
    "import pandas as pd\n",
    "import joblib\n",
    "\n",
    "from deep_translator import GoogleTranslator"
   ]
  },
  {
   "cell_type": "code",
   "execution_count": 3,
   "metadata": {},
   "outputs": [
    {
     "data": {
      "text/plain": [
       "<torch._C.Generator at 0x134653210>"
      ]
     },
     "execution_count": 3,
     "metadata": {},
     "output_type": "execute_result"
    }
   ],
   "source": [
    "# 시드 설정\n",
    "torch.manual_seed(1)"
   ]
  },
  {
   "cell_type": "code",
   "execution_count": 4,
   "metadata": {},
   "outputs": [],
   "source": [
    "text_list = []\n",
    "label_list = []\n",
    "PATH = '/Users/anhyojun/WorkSpace/KDT2/김소현 강사님/프로젝트/6번째 프로젝트/txt/'\n",
    "txt_name = ['domestic2.txt', 'game2.txt', 'habby2.txt', 'overseas2.txt',\n",
    "            'photo2.txt', 'restaurant2.txt', 'sports2.txt', 'vehicle2.txt']\n",
    "for index, name in enumerate(txt_name):\n",
    "    with open(PATH+name, 'r', encoding='utf-8') as f:\n",
    "        text_list += f.readlines()\n",
    "        label_list += [index] * 1000"
   ]
  },
  {
   "cell_type": "code",
   "execution_count": 5,
   "metadata": {},
   "outputs": [
    {
     "data": {
      "text/plain": [
       "(['  산청펜션 맑은하늘펜션 자연의 평온한 분위기  산청펜션 맑은하늘펜션 자연의 평온한 분위기 안녕하세요 ෆ 일상에 지쳤다면, 산청펜션 맑은하늘펜션에서 힐링 어떠신가요? 경남 산청에 위치한 이 펜션은 일므 그대로 맑은 하늘과 깨끗한 자연이 자랑 인데요 특히 가족 단위나 친구들과 함께 가기에도 딱 좋은 힐링 공간이랍니다 맑은하늘펜션 산청펜션 맑은하늘펜션은 지리산의 맑은 공기와 자연을 만끽할 수 있는 곳이에요 봄에는 꽃구경, 여름에는 시원한 계곡, 가을에는 단풍, 겨울에는 조용한 휴식까지 사계절 내내 다양한 즐길 거리가 있어요 특히 주변에 다양한 산행 코스와 계곡이 있어서 자연 속에서 휴식과 힐링을 할 수 있죠 이곳에 오는 것만으로도 스트레스가 풀리고 힐링되는 느낌을 받을 수 있답니다 :) 가족 단위로 방문하면 아이들은 자연 속에서 마음껏 뛰놀 수 있고, 어른들은 조용하게 휴식을 취할 수 있고요 친구나 동호회 모임 등 단체루 방문해도 좋은데요 대형객실과 다양한 편의시설이 마련되어 있어서 많은 인원이 함께 머물기에도 편해요 자연과 함께하는 워크샵이나 힐링을 원하는 회사 단체 방문객도 만족할 만한 장소랍니다 객실은 편안하고 세련되게 꾸며져 있으며 자연을 배경으로 하여 평... \\n',\n",
       "  '  2024 대구 정원박람회 / 대구 금호강 하중도 금호꽃섬 코스모스 댑싸리 / 기본정보 일정 주차  대구에서 펼쳐지는 대한민국 정원 르네상스! 🌱✨ 2024 대구 정원박람회가 10월 11일부터 10월 15일까지 금호강 하중도에서 열립니다~! 시민, 학생, 가족 등 다양한 참여자들이 정성껏 가꾼 이색 정원 전시와🌼👩🎨 트렌드를 알아볼 수 있는 정원산업전,🌱 공연과 전시, 체험으로 알찬 정원 페스티벌까지!🎈 꽃과 자연의 아름다움이 가득한 2024 대구정원박람회에서 힐링의 시간을 가져보세요💕 2024 대구정원박람회 📍위치: 대구 북구 노곡동 665 (하중도) 📅일시: 10월 11일부터 15일까지 🚗주차: 노곡체육공원 주차장 이용 🚃대중교통: 북구3, 칠곡2 하차 후 노곡교 인도 이용 ⭕상시개방, 무료 이용 가능, 화장실 구비 대구정원박람회가 열리는 하중도는포항시에서 발원한 금호강 강물이 영천, 경산시를 지나 낙동강에 합류했고 먼 길 동안 끌고 온 흙이 대국 북구에 쌓이면서 자연스럽게 형성된 섬이라고 해요~! 🏝️ 정말 신기하죠? 이번 박람회에서는 학생정원, 시민정원, 시민정원사, 가족정원, 기업협력정원 등 다양한 참여자들이 정성껏 만든 정원이 전시될 예정이에요! 🌺 매 박람회마다 볼 거리가 넘치는 대구정원박람회! 참여자마다 ... \\n',\n",
       "  '  쭈꾸미배낚시가격 태안대박3호펜션 쭈꾸미낚시체험예약  쭈꾸미배낚시가격 태안대박3호펜션 쭈꾸미낚시체험예약 주꾸미 제철 배낚시 체험 1.쭈꾸미배낚시가격 태안대박3호펜션 쭈꾸미낚시체험예약 2.배낚시가격 3.태안대박3호 펜션예약 생애 처음으로 한 주꾸미낚시 1 안녕하세요. 개미농부 베짱이농부입ㄴ다. 오늘은 생애 처음으로 주꾸미 낚시를 해본 경험과 여행후기를 남겨보려고 합니다^^ 저는 유트브로 동영상을 자주보는데 그중에서도 자주보는 영상이 바로 낚시영상입니다.ㅎㅎ 2 주말농장으로 농사짓고 집짓는 거에도 관심이 많이있는데 그만큼 관심있는 다른분야가 바로 낚시인데요. 낚시를 해본 경험은 어렸을때 시골에서 꺽지낚시도 해보고 쪽대로 민물에서 쪽대질로 물고기를 잡아보기도 했으며 3 또 민물낚시로 대낚시를 해본 경험도 있고 바닷가에서 가볍게 릴낚시 루어낚시를 해본 경험도 있지만 주꾸미 낚시 배낚시는 처음해보게되었어요!! 정말이지 재미있을거 같아서 가기전부터 기대가 되더라구요 ㅎㅎ 주꾸미배낚시가격 태안대박3호펜션 쭈꾸미낚시체험예약 4 9월 10월은 주꾸미 제철이라서 넣으면 나온다는 주꾸미낚시는 초보자들도 할 수 있는 간편하고도 재미있는 낚시로 많이 ㅇㄹ려져 있는데요! 5 이렇게 ... \\n',\n",
       "  '  서귀포배낚시 후기 , 서귀포바다배낚시체험  *광고가 포함된 리뷰입니다! :) 안녕하세요, 여러분 🥰✨ 돼냥이입니다~ 🐷 오늘은 서귀포잠수함 근처 #서귀포바다배낚시체험 을 한 후기를 공유해 드리고자 합니다 🙂 2시간 동안 낚시를 했는데 시간이 너무 부족하다 느꼈을 만큼 재밌었어요 🔥 특히 10월 날씨가 너무 좋아서 바닷바람 맞기에도 부담 없었네요 ㅎㅎ #서귀포바다배낚시체험 은 서귀포잠수함 주소를 찍고 오셔서 주차를 하시면 돼요! 항구 쪽으로 내려오시면 흰 포터가 세워져 있는데 여기가 집합 장소입니다 =] 일찍 와서 항구 한 바퀴 돌아봤네요 \\U0001fae2 전 날에 비가 와서 오늘 날씨를 걱정했는데 날씨가 충분히 개서 낚시하기 좋았답니다. #서귀포바다배낚시체험 배 내부입니다! 혹시 멀미를 하시거나 낚시를 그만하고 싶으시면 선실에 들어가 누워계셔도 돼요 ㅎㅎ 그리고 출항 30분 전에 꼭 멀미약을 드시길 바라요! 오늘 같이 타신 분들 중에 멀미약 드시고도 토하시는 분이 계셨어요ㅠㅠ\\U0001f972 안전교육도 철저히 진행해 주시고! 낚시를 처음 하시는 분들을 위해서는 낚시하는 방법을 자세히 알려주십니다. 그 유명한 #정방폭포 가 눈앞에 보이는 곳에서 배를 세우고 낚시를 진행했어요! 목장갑을... \\n',\n",
       "  '  10월 성수 타이레놀 팝업스토어 후기 나만의 잡지 선물  오늘의 팝업 여행은? 타이레놀 팝업스토어 글 / 사진 © 팝업요정 당니 성수 팝업스토어 추천 타이레놀 팝업스토어 정보 성수 팝업스토어 추천 타이레놀 팝업스토어 위치 : 서울 성동구 성수이18길 6 기간 : 10월 9일 ~ 10월 27일 시간 : 오전 11시 ~ 오후 8시 어제 오픈한 따끈따끈 신상 팝업! 국민 진통제 타이레놀 팝업스토어가 오픈을 했어요. 성수동에서 팝업을 많이하는 공간인 성수이로18길 6에서 진행하고 있으며 주변에 성수역이 있어 접근성도 좋답니다 :) 사실 뷰티 팝업과 패션 팝업 등 다양한 분야의 브랜드에서 팝업을 진행하지만 의약품 팝업은 이색적이라 어떨지 궁금했는데요! 다양한 프로그램이 진행됐던 성수 팝업스토어랍니다. 타이레놀 팝업스토어는 사전예약이 따로 없고 현장 웨이팅 등록을 통해 입장이 가능했어요. 웨이팅 기계에 등록을 해야 하며 전화번호와 동반 인원 입력, 호출 후 10분 내에 입장을 해야 한답니다! 공휴일 기준으로 10시 47분 웨이팅 등록, 11시 40분 입장으로 시간이 꽤 걸렸어요 :( 다양한 즐길거리 가득! 타이레놀 팝업스토어 체험 타이레놀 팝업스토어는 총 7개의 공간으로 다양한 체험을 진행하며 팝업이 진행 됐어요. 혼자... \\n'],\n",
       " [0, 0, 0, 0, 0])"
      ]
     },
     "execution_count": 5,
     "metadata": {},
     "output_type": "execute_result"
    }
   ],
   "source": [
    "text_list[:5], label_list[:5]"
   ]
  },
  {
   "cell_type": "code",
   "execution_count": 40,
   "metadata": {},
   "outputs": [],
   "source": [
    "domestic = text_list[:300]\n",
    "game = text_list[1000:1300]\n",
    "habby = text_list[2000:2300]\n",
    "overseas = text_list[3000:3300]\n",
    "photo = text_list[4082:4300]\n",
    "restaurant = text_list[5000:5300]\n",
    "sports = text_list[6000:6300]\n",
    "vehicle = text_list[7000:7300]\n",
    "\n",
    "all_data = photo + restaurant + sports + vehicle"
   ]
  },
  {
   "cell_type": "code",
   "execution_count": 43,
   "metadata": {},
   "outputs": [
    {
     "name": "stdout",
     "output_type": "stream",
     "text": [
      "Recommended shooting location: Hwangsando, Haida NanoPro ND64 67mm filter Recommended shooting location: Hwangsando, Haida NanoPro ND64 67mm filter Hello. I am a photo & IT creator, Jayubunbang. In the previous article, I introduced the Haida magnetic filter kit. Basically, the ND filter is a neutral density filter that acts like sunglasses to reduce the amount of light and slow down the shutter speed, making it a good filter to use when taking special photos. There are various types of ND filters. The Haida magnetic filter kit introduced in the previous article contained ND 1000, 64, and 8, and in this article, I will introduce a filter that shows the ND64 value with a 67mm fixed filter. The purpose may be slightly different, but ND64 often does not exceed 30 seconds when used during the day, so it has the advantage of being able to shoot comfortably without a release. It is used for the purpose of hiding the appearance of pedestrians passing by during the day or taking calm shots at the beach by shooting long exposures of about 3~4 seconds. The Haida NanoPro ND64 plastic case contains an ND64 filter and a card with a small table that makes it easy to calculate when shooting ND. ND64 shooting...\n",
      "추천 촬영지 : 황산도, 하이다 나노프로 ND64 67mm 필터 추천 촬영지 : 황산도, 하이다 나노프로 ND64 67mm 필터 안녕하세요. 저는 사진&IT 크리에이터 자유분방입니다. 이전 글에서 하이다 자기필터 키트를 소개해드렸습니다. 기본적으로 ND필터는 선글라스처럼 빛의 양을 줄이고 셔터스피드를 느리게 해주는 중성밀도 필터로, 특별한 사진을 찍을 때 사용하기 좋은 필터입니다. ND필터는 다양한 종류가 있는데요. 이전 글에서 소개해드린 하이다 자기필터 키트에는 ND 1000, 64, 8이 들어있었고, 이번 글에서는 67mm 고정필터로 ND64값을 보여주는 필터를 소개해드리겠습니다. 용도는 조금 다를 수 있겠지만, ND64는 낮에 사용하면 30초를 넘지 않는 경우가 많아 릴리즈 없이도 편안하게 촬영할 수 있다는 장점이 있습니다. 낮에 지나가는 보행자의 모습을 숨기거나 해변에서 3~4초 정도의 장시간 노출로 촬영하여 차분한 사진을 찍는 용도로 사용합니다. 하이다 나노프로 ND64 플라스틱 케이스에는 ND64 필터와 ND 촬영 시 계산하기 쉬운 작은 테이블이 있는 카드가 들어 있습니다. ND64 촬영...\n",
      "Is it possible to do all Gimpo family photo makeup? Incheon Seo-gu family photo studio Is it possible to do all Gimpo family photo makeup? Incheon Seo-gu family photo studio When taking a family photo, many people may be wondering whether to get their hair and makeup done and go to the photo shoot, or prepare at home and just take the photos at the photo studio. You may not feel the importance of #hair and #makeup because you think it would be okay if you did some retouching, but in fact, there is a huge difference between the hair and makeup being touched and not being touched in the photo. Incheon Seo-gu family photo studio Let me explain with an easy example. There is a big reason why celebrities shoot commercials or CFs with their hair and makeup fully on. Of course, retouching is done even if they shoot commercials with their makeup on and their hair touched up, but there can be a big difference in the results between retouching when they are not prepared and retouching when they are prepared. That is why they put a lot of effort into hair and makeup before going into a photo shoot or commercial shoot. When you look at celebrities on the screen in Incheon Family Photo, you feel like their makeup isn't too heavy and is just right, but...\n",
      "김포 가족사진 메이크업 전부 가능할까?인천서구 가족사진관 김포 가족사진 메이크업 전부 가능할까?인천서구 가족사진관 가족사진을 찍을 때 많은 분들이 헤어와 메이크업을 하고 촬영장에 갈지, 집에서 준비해서 사진관에서 그냥 찍을지 고민이 많으실 겁니다. 리터칭만 하면 될 것 같아서 #헤어와 #메이크업의 중요성을 잘 느끼지 못하실 수도 있지만, 사실 사진에서 헤어와 메이크업을 만진 것과 만지지 않은 것은 엄청난 차이가 있습니다.인천서구 가족사진관 쉬운 예를 들어서 설명드리겠습니다.연예인들이 헤어와 메이크업을 풀로 하고 광고나 CF를 찍는 데는 큰 이유가 있습니다.물론 메이크업을 하고 헤어를 터치업한 채로 광고를 찍더라도 리터칭은 하지만, 준비하지 않은 상태에서 리터칭을 하는 것과 준비한 상태에서 리터칭을 하는 것은 결과에 엄청난 차이가 날 수 있습니다. 그래서 화보 촬영이나 광고 촬영에 들어가기 전에 헤어와 메이크업에 많은 노력을 기울인다. 인천 패밀리 포토에 나오는 연예인들을 보면 메이크업이 너무 진하지 않고 딱 맞는 것 같지만...\n",
      "We took a friendship photo at the Seomyeon Jeonpo Self-Photography Studio Studio Store We took a friendship photo at the Seomyeon Jeonpo Self-Photography Studio Studio Store Last summer, three of us visited the Seomyeon, Jeonpo Self-Studio #StudioStore. Studio Store Location 🚀 Located on Jeonpo-gil, 3rd floor, 25 Seojeon-ro 47beon-gil, Busanjin-gu, Busan (Reservations available through KakaoTalk) On the way into the studio I made a reservation because I thought the studio store had a unique sensibility. I made a reservation because I really liked the store's sensibility, mood, colors, and composition in the photos that could have been taken plainly. On the way in, there were photos neatly lined up like a portfolio, so it was fun to look at them. Shooting props and preparation before shooting You can wear various props before shooting, and you can take them with you. While we waited, we wore various props and fixed our makeup. It was a humid rainy season that day, so my friends who had loose hair had their hair curled again. Types and prices of photo rooms in studio stores White Room (for 2 people) Composition: Horizontal/vertical Time: 20 minutes Size: 5*7 inches Basic: Provide all original files + print according to the number of people (+10,000 won per additional person) Retouching: Provide all original files + 2 correction cuts 2 cuts per person...\n",
      "서면 전포 셀프사진관 스튜디오 매장에서 우정사진 찍었어요 서면 전포 셀프사진관 스튜디오 매장에서 우정사진 찍었어요 작년 여름 저희 셋이 서면 전포 셀프스튜디오 #스튜디오스토어를 방문했습니다.스튜디오 매장 위치 🚀 부산광역시 부산진구 서전로 47번길 25, 전포길 ​​3층에 위치 (카카오톡으로 예약 가능) 스튜디오에 들어가는 길에 스튜디오 매장이 특유의 감성이 있을 것 같아서 예약했어요.그냥 찍어도 될 법한 사진 속 매장의 감성, 무드, 컬러, 구성이 너무 마음에 들어서 예약했어요.들어가는 길에 포트폴리오처럼 사진이 깔끔하게 정리되어 있어서 보는 재미가 있었어요.촬영소품 및 촬영 전 준비 촬영 전 다양한 소품을 착용하실 수 있으며, 가져가실 수 있어요.대기하는 동안 다양한 소품을 착용하고 메이크업을 수정했어요. 그날은 습한 장마철이어서 머리카락이 풀어진 친구들은 다시 컬링을 했습니다. 스튜디오 매장 사진실 종류와 가격 화이트룸(2인) 구성: 가로/세로 소요시간: 20분 크기: 5*7인치 기본: 원본 파일 전부 제공 + 인원수에 맞춰 인화(인원 추가 시 10,000원 ​​추가) 리터칭: 원본 파일 전부 제공 + 수정컷 2장 1인당 2컷...\n",
      "Seoul Gonggam Studio Shopping Mall Photography Nukicut Product Photography Seoul Gonggam Studio Shopping Mall Photography Nukicut Product Photography Recently, I had the opportunity to request a product photography shoot at Gonggam Studio located in Seoul. We needed high-quality product images to be used mainly in shopping malls, and Nukicut photography with clean background removal was especially important, so we were looking for a place with expertise. The reason we chose Gonggam Studio among various studios was because their portfolios and reviews were very positive, and to cut to the conclusion, the results of the Gonggam Studio shoot were beyond our expectations. 1. Thorough preliminary consultation and planning Before proceeding with the shoot at Gonggam Studio, the preliminary consultation was very thorough. They asked us in detail about which products to shoot, what the characteristics of the products were, and what the purpose of the shoot was, so we trusted them. The shoot we requested was mainly product images to be used in shopping malls, and among them, Nukicut photography was important, so lighting and background settings that matched the characteristics of each product were necessary. The Gonggam Studio team suggested the most appropriate shooting method and direction according to the characteristics of each product and the purpose of the shoot. It's really... different in that each product requires different shooting methods.\n",
      "서울 공감스튜디오 쇼핑몰 사진 누키컷 제품사진 서울 공감스튜디오 쇼핑몰 사진 누키컷 제품사진 얼마 전 서울에 위치한 공감스튜디오에서 제품사진 촬영을 의뢰할 기회가 있었습니다. 주로 쇼핑몰에서 사용할 고품질의 제품 이미지가 필요했고, 특히 깔끔한 배경 제거가 가능한 누키컷 촬영이 중요했기 때문에 전문성이 있는 곳을 찾고 있었습니다. 여러 스튜디오 중 공감스튜디오를 선택한 이유는 포트폴리오와 리뷰가 매우 긍정적이었고, 결론적으로 공감스튜디오 촬영 결과는 기대 이상이었습니다. 1. 철저한 사전 협의 및 계획 공감스튜디오에서 촬영을 진행하기 전에 사전 협의가 매우 철저했습니다. 어떤 제품을 촬영할지, 제품의 특성은 무엇이고, 촬영의 목적은 무엇인지 자세히 물어보셨기 때문에 신뢰했습니다. 의뢰한 촬영은 주로 쇼핑몰에서 사용할 제품 이미지였고, 그 중에서도 누키컷 촬영이 중요했기 때문에 각 제품의 특성에 맞는 조명과 배경 설정이 필요했습니다. 공감스튜디오팀은 각 상품의 특성과 촬영 목적에 따라 가장 적합한 촬영 방법과 연출을 제안해 주었습니다. 정말... 각 상품마다 다른 촬영 방법이 필요하다는 점에서 다릅니다.\n",
      "Girl group Twice visual Tzuyu photo pictorial solo album Run Away Girl group Twice's sculptural beauty Tzuyu goddess released a solo album 'abouTZU' on September 6, 2014! Wow~ Following Jihyo and Nayeon, another Twice member has debuted as a soloist! Congratulations~! First, look at the beautiful appearance of Tzuyu goddess in the music video! Thank you JYP for uploading the video! Beauty itself! the Taiwanese sensation! Tzuyu's solo song, a new song~ In the music video, you can enjoy Tzuyu's visuals that are like a dream fantasy, along with a highly immersive story. Did you see Tzuyu's new charm for yourself? Did you see it? The title song of this single, 'Run Away', is a song that reinterprets synth-pop and dance genres in a modern way, and Tzuyu's delicate vocals and strong beats are impressive. The intro starts with a piano melody, and then comes the Four on the floor rhythm with a strong beat. In the chorus, the synth bass makes your heart pound! Tzuyu's delicate vocals further emphasize the message of the lyrics. The lyrics of this song were written by JYP Entertainment's head producer Park Jin-young, and Johnny ... who worked with global musicians such as Lauv, OneRepublic, and Max.\n",
      "걸그룹 트와이스 비주얼 쯔위 화보 화보 솔로 앨범 Run Away 걸그룹 트와이스의 조각미 여신 쯔위가 2014년 9월 6일 솔로 앨범 'abouTZU'를 발매했습니다!와~ 지효와 나연에 이어 또 다른 트와이스 멤버가 솔로로 데뷔했습니다!축하합니다~!먼저 뮤직비디오 속 쯔위 여신의 아름다운 모습을 감상하세요!영상 올려주신 JYP에 감사드립니다!미모 그 자체!대만의 센세이션!쯔위의 솔로곡, 신곡~ 뮤직비디오에서는 몽환적인 판타지 같은 쯔위의 비주얼과 몰입도 높은 스토리를 감상할 수 있습니다.쯔위의 새로운 매력을 직접 보셨나요?보셨나요?이번 싱글의 타이틀곡 'Run Away'는 신스팝과 댄스 장르를 현대적으로 재해석한 곡으로, 쯔위의 섬세한 보컬과 강렬한 비트가 인상적입니다. 인트로는 피아노 선율로 시작해서, 강렬한 비트의 Four on the floor 리듬이 이어진다. 후렴구에서는 신스 베이스가 심장을 두근거리게 한다! 쯔위의 섬세한 보컬이 가사의 메시지를 더욱 강조한다. 이 곡의 가사는 JYP 엔터테인먼트의 수장 프로듀서 박진영과 Lauv, OneRepublic, Max 등 글로벌 뮤지션들과 작업한 Johnny ... 가 작사했다.\n",
      "[Jamsil Profile] The reason why I chose Tag One Studio for my first profile Hello :D This is a collection of pieces that are trying to develop a small business ERP. These days, even ordinary people, not celebrities, take a lot of body profiles or personal profiles~ I thought it would be nice to take a pretty picture of myself before the end of this year! So, I visited Tag One Studio, which is known for taking good profile pictures among Jamsil profile photo studios~! I got off at Exit 4 of Seokchon Gobun Station and walked straight, and I could see it in just 1 minute! From the entrance, there was a large full-length mirror and a phrase that was as exciting as the first profile, \"You are the prettiest in the picture\". When I went in, there were a lot of profile pictures hanging everywhere~! There were so many different types! In addition to personal profiles, weddings, pets, couples, families, etc., there were also pictures of pocha without borders!! They also took actor profilesㅎ Profile pictures are quite expensive and you only get a few pictures, so choosing a studio is very important!!! They say that you have to look into it carefully because each studio has a different atmosphere and Photoshop feel. That's why I chose Jamsil Profile Photo Tag One Studio! As you may have noticed from the photos above, quality is the basic...\n",
      "[잠실 프로필] 첫 프로필을 위해 태그원 스튜디오를 선택한 이유 안녕하세요 :D 소규모 사업 ERP를 개발하려는 분들의 모임입니다.요즘은 연예인이 아닌 일반인들도 바디프로필이나 개인프로필을 많이 찍잖아요~ 올해가 가기 전에 제 예쁜 사진을 찍어보는 건 어떨까 생각했어요!그래서 잠실 프로필 사진 스튜디오 중에서도 프로필 사진 잘 찍기로 유명한 태그원 스튜디오를 찾아갔어요~!석촌고분역 4번 출구에서 내려서 쭉 걸어가니까 1분만에 보였어요!입구부터 전신거울이 크게 있고 첫 프로필만큼이나 설레는 문구가 \"사진 속 당신이 제일 예뻐\"라고 적혀 있었어요.들어가보니 프로필 사진이 곳곳에 많이 걸려 있었어요~!종류가 정말 다양했어요!개인 프로필, 웨딩, 반려동물, 커플, 가족 등 외에도 국경 없는 포차 사진도 있었어요!! 배우 프로필도 찍어주셨어요ㅎ 프로필 사진은 꽤 비싸고 몇 장밖에 못 찍으니까 스튜디오 선택이 정말 중요해요!!! 스튜디오마다 분위기와 포토샵 느낌이 다르니까 꼼꼼히 살펴봐야 한다고 하더라고요. 그래서 잠실 프로필 사진 태그원 스튜디오를 선택했어요! 위에 사진에서 보셨겠지만 퀄리티가 기본이죠...\n",
      "Hoengseong Luge Experience Center I rode the Hoengseong Luge Hoengseong Luge Experience Center I rode the Hoengseong Luge in Gangwon-do! Travel date: November 10, 2020 / Text, photos: Pure Sidae Joo Se-hwan A few days ago, I visited a newly opened luge experience center in Hoengseong, Gangwon-do with my travel companions. Hoengseong Luge Experience Center in Gangwon-do is a great place to visit as a day trip, as it is only a 2-hour drive from Seoul. Hoengseong Luge is located 5.2 km away from the Saemal IC on the Yeongdong Expressway, less than 10 minutes. With a total track length of 2.4 km, it is the longest course in Korea and opened in August 2020. Hoengseong Luge is an eco-friendly development project by Hoengseong-gun without any separate development activities on a road that had been abandoned when a tunnel was built on the national road between Seoul and Gangneung. The existing road and forest were left as they were, and various themes were created on top of them to add interest. Upon arrival, I looked at the signboard and saw that the luge, which runs along the winding old road, is 2.4km long and boasts the longest single course in the world. To experience the Hoengseong Luge, you must go to the starting point, and shuttle buses and electric carts run frequently. To ride the Hoengseong Luge, you must first purchase a ticket and then take the electric cart or shuttle bus...\n",
      "횡성루지체험관 횡성루지 탔어요 횡성루지체험관 강원도 횡성루지 탔어요!여행일자: 2020년 11월 10일 / 글, 사진: 퓨어시대 주세환 며칠 전, 여행 동행자들과 강원도 횡성에 새로 오픈한 루지체험관을 방문했습니다. 강원도 횡성루지체험관은 서울에서 차로 2시간 거리에 있어 당일치기로 방문하기 좋은 곳입니다. 횡성루지는 영동고속도로 새말IC에서 5.2km 떨어져 있어 10분 이내 거리에 있습니다. 총 트랙 길이가 2.4km로 국내 최장 코스로 2020년 8월에 개장했습니다.횡성루지는 서울과 강릉을 잇는 국도에 터널을 뚫고 방치된 도로를 횡성군이 별도의 개발 활동 없이 친환경적으로 개발하는 사업입니다.기존 도로와 숲을 그대로 두고, 그 위에 다양한 테마를 조성해 흥미를 더했습니다.도착해서 안내판을 보니 구불구불한 옛길을 따라 달리는 루지는 길이가 2.4km로 세계에서 가장 긴 단일 코스를 자랑합니다.횡성루지를 체험하려면 출발지까지 가야 하며, 셔틀버스와 전동카트가 자주 운행됩니다.횡성루지를 타려면 먼저 티켓을 구매한 후 전동카트나 셔틀버스를 타야 합니다...\n",
      "<Photography Notes> How to Take Good Reflection Photos Photography Notes How to Take Good Reflection Photos Review from Last Time 1. Utilize the Rule of Thirds Divide the screen into thirds horizontally and vertically, and take pictures so that the boundaries of the sea and land are located on the horizontal thirds, and the main subject is located at the intersection of the thirds. The pictures will look quite stable, and viewers will feel aesthetically satisfied. 2. Take pictures aligned vertically and horizontally Take pictures aligned vertically and horizontally. In order to align vertically and horizontally, your position should be parallel to the position you want to take the picture, and it is important to position the center if possible. 3. Frame-in-frame composition The frame-in-frame composition is a composition that almost never fails. Today's topic is 'reflection'. Reflection Reflection is always an element that adds to the charm of a photo. 'Reflection' can be thought of as an image reflected in a mirror. Take pictures using the reflection in the mirror. When you look at the water, wall, or floor, you will encounter another reality as if it were a mirror. Also, objects are reflected in mirrors, but still water is one of the best elements for creating reflections. The less wind there is, the cleaner the reflection will be. Of course, wind...\n",
      "<사진 노트> 반사 사진을 잘 찍는 방법 사진 노트 반사 사진을 잘 찍는 방법 지난 번 리뷰 1. 삼분법 활용 화면을 수평과 수직으로 삼등분하여 바다와 육지의 경계가 수평 삼분법에 위치하도록 촬영하고, 피사체가 삼분법의 교차점에 위치하도록 촬영합니다. 사진이 상당히 안정적으로 보이고, 보는 사람은 심미적으로 만족감을 느낄 것입니다. 2. 수직과 수평을 맞춰 촬영 수직과 수평을 맞춰 촬영합니다. 수직과 수평을 맞추려면 촬영하려는 위치와 평행해야 하며, 가능하면 중앙에 위치하는 것이 중요합니다. 3. 프레임 인 프레임 구성 프레임 인 프레임 구성은 거의 실패하지 않는 구성입니다. 오늘의 주제는 '반사'입니다. 반사 반사는 항상 사진의 매력을 더하는 요소입니다. '반사'는 거울에 비친 이미지라고 생각하면 됩니다. 거울에 비친 반사를 활용해 사진을 촬영하세요. 물이나 벽, 바닥을 보면 마치 거울인 것처럼 또 다른 현실을 마주하게 됩니다. 또한 물체는 거울에 반사되지만, 고요한 물은 반사를 만드는 데 가장 좋은 요소 중 하나입니다. 바람이 적을수록 반사가 더 깨끗해집니다. 물론, 바람은...\n",
      "Hwaseong Dongori | Meat Restaurant | Sopalbaek - Hyangnam Beef with Good Price and Best Taste Sopalbaek - Hyangnam Meat Restaurant with Good Price and Best Taste When choosing a meat restaurant, isn't one of the important criteria the 'quality for the price'? Sopalbaek, located in Hyangnam, is the best meat restaurant that satisfies both of these criteria, providing both cost-effectiveness and taste. 1. Eliminating the bubble in price One of the biggest charms of 'Sopalbaek' is its reasonable price. In particular, the owner has been making efforts to reduce the burden of meat prices in response to the recent high price era. He is careful to provide high-quality cuts such as beef ribs at a reasonable price by eliminating the bubble in the market price, so that customers can enjoy high-quality meat at a lower price. Beef ribs are originally known as an expensive cut, but Sopalbaek provides high-quality beef ribs at a low price, so you can visit without feeling burdened when having a family gathering or a meal with friends. 2. The best taste and service There is no need to say anything about the taste of the meat. In addition to using fresh meat, the flavor of the meat is maximized through the aging process. The beef ribs, which feature moderate marbling and a soft texture, boast a taste that melts in your mouth. Meat...\n",
      "화성동고리 | 고기집 | 소팔백 - 착한가격과 최고의 맛을 자랑하는 향남소고기 소팔백 - 착한가격과 최고의 맛을 자랑하는 향남소고기집 고기집을 선택할 때 중요한 기준 중 하나가 '가격 대비 품질'이 아닐까요? 향남에 위치한 소팔백은 이 두 가지 기준을 모두 충족하는 최고의 고기집으로, 가성비와 맛을 모두 제공합니다. 1. 가격 거품 제거 '소팔백'의 가장 큰 매력 중 하나는 합리적인 가격입니다. 특히 사장님은 최근 고가 시대에 대응해 고기값 부담을 줄이기 위해 노력해 왔습니다. 시장 가격 거품을 제거하여 갈비 등 고품질 부위를 합리적인 가격에 공급하고, 고객들이 저렴한 가격으로 고품질 고기를 즐길 수 있도록 세심하게 신경 쓰고 있습니다. 소갈비는 원래 비싼 부위로 알려져 있지만 소팔백은 저렴한 가격으로 고품질의 소갈비를 제공하기 때문에 가족 모임이나 친구들과의 식사 시 부담 없이 방문할 수 있습니다. 2. 최고의 맛과 서비스 고기의 맛은 말할 것도 없습니다. 신선한 고기를 사용하는 것 외에도 숙성 과정을 통해 고기의 풍미를 극대화합니다. 적당한 마블링과 부드러운 식감이 특징인 소갈비는 입에서 녹는 맛을 자랑합니다. 고기...\n",
      "Incheon Health Food Body Care Auraji Samsan Branch Incheon Health Food Body Care Auraji Samsan Branch Hello. ෆ It's a famous restaurant in Incheon and my family often visits it. We visited Auraji Samsan Branch! I think there's no one in Incheon who doesn't know it :) It's especially famous for its Chueojeongsik. It's a great place for family gatherings or group dinners! Auraji Samsan Branch Auraji Samsan Branch is located in Samsan-dong, Bupyeong! We went by car, but the parking lot is so big and well-maintained that we didn't have to worry about parking at all. If you look at the exterior, it's really clean and luxurious! The 2nd and 3rd floors are Auraji, and there's a cafe on the 4th floor :) Auraji Samsan Branch's menu mainly consists of Korean health food, but there are various menus carefully prepared with fresh ingredients waiting for you! We ordered Chueojeongsik for 2, Hanwoo Ttukbaegi Bulgogi, and added minari pancake as a side. Auraji also has robot serving, and the staff comes and sets it up for us! Banchan Auraji's side dish lineup is so gorgeous! Pickled kimchi, bean sprouts, salad, pickled garlic shoots, shrimp paste, cubed radish! Shrimp paste is really JMT,,,, 💞 The taste and quality of each side dish is high, so I'm very satisfied :) Nutrition pot...\n",
      "인천 건강식품 바디케어 아우라지 삼산점 인천 건강식품 바디케어 아우라지 삼산점 안녕하세요.ෆ 인천에서 유명한 맛집으로 저희 가족이 자주 가는 곳입니다. 아우라지 삼산점을 방문했습니다! 인천에서 모르는 사람이 없을 것 같아요 :) 추어정식으로 특히 유명한데요. 가족 모임이나 단체 회식에 좋은 곳이에요! 아우라지 삼산점 아우라지 삼산점은 부평 삼산동에 위치해 있어요! 저희는 차로 갔는데 주차장이 너무 넓고 잘 정비되어 있어서 주차 걱정이 전혀 없었어요. 외관을 보시면 정말 깨끗하고 고급스러워요! 2, 3층이 아우라지이고 4층에는 카페도 있어요 :) 아우라지 삼산점은 한식 건강식품이 주 메뉴이지만 신선한 재료로 정성스럽게 만든 다양한 메뉴가 여러분을 기다리고 있어요! 추어정식 2인분, 한우떡배기불고기 주문하고 미나리전도 사이드로 추가했어요 아우라지에도 로봇서빙이 있는데 직원분들이 와서 세팅해줘요! 반찬 아우라지의 사이드 메뉴 라인업이 너무 화려해요! 절인김치, 콩나물, 샐러드, 절인마늘순, 새우장, 무우무침! 새우장은 진짜 JMT,,,, 💞 사이드 메뉴 하나하나 맛과 품질이 높아서 대만족이에요 :) 영양밥솥...\n",
      "Gyeongsan Jung-san-dong gourmet restaurant, rib house with playroom, Chowon Charcoal Grilled Ribs Gyeongsan Galbi House Gyeongsan Jung-san-dong gourmet restaurant, rib house with playroom, Chowon Charcoal Grilled Ribs Ming-ha!! Don't you know? This is Ming🫶 I visited the Gyeongsan Charcoal Grilled Ribs house that I always saw when I went to Daegu! I'll introduce you to the Gyeongsan playroom restaurant that has become a galbi one-tier in my heart! It's Chowon Charcoal Grilled Ribs located in Gyeongsan Jung-san-dong. When using public transportation, 🚌It is a 4-minute walk from Gyeongnam Shinsung Apartment bus stop 🚇It is a 13-minute walk from Exit 2 of Jeongpyeong Station on Subway Line 2. Since it boasts a huge site, there is a spacious private parking lot right in front of the building, and valet parking is also available, so please keep that in mind! There are also seating areas in the interior that is so wide that you can't count the number of tables. It is also a room restaurant with three rooms, so you can dine privately, and it is a famous restaurant in Jung-san-dong, Gyeongsan that can accommodate various gatherings such as group meetings and company dinners. It has been open for over 6 years, but it is comfortable and clean as if it was just opened. A must-have when eating out with kids! It is a Gyeongsan playroom restaurant where kids can relieve boredom and adults can eat comfortably. There are many high chairs prepared so that you can visit with babies without any problems, so it is perfect for a family meal...\n",
      "경산 중산동 맛집, 놀이방 있는 갈비집, 초원 숯불갈비 경산갈비집 경산 중산동 맛집, 놀이방 있는 갈비집, 초원 숯불갈비 밍하!! 몰랐어? 밍이에요🫶 대구에 가면 꼭 보던 경산 숯불갈비집을 방문했어요! 제 마음속 갈비 원티가 된 경산 놀이방 식당을 소개해드릴게요! 경산 중산동에 있는 초원 숯불갈비예요. 대중교통 이용시 🚌경남 신성아파트 버스정류장에서 도보 4분거리입니다 🚇지하철 2호선 정평역 2번 출구에서 도보 13분거리입니다.엄청난 부지를 자랑하기 때문에 건물 바로 앞에 널찍한 전용 주차장이 있고 발렛파킹도 가능하니 꼭 기억해주세요!실내에는 테이블 수를 셀 수 없을 만큼 넓은 좌석 공간도 있습니다.또한 3개의 룸이 있는 룸식당이라 프라이빗하게 식사하실 수 있으며, 단체모임, 회사 회식 등 다양한 모임을 수용할 수 있는 경산 중산동의 유명 맛집입니다.오픈한지 6년이 넘었지만, 오픈한지 얼마 안된 듯 편안하고 깨끗합니다.아이들과 외식할 때 꼭 가봐야 할 곳!아이들은 지루함을 풀고 어른들은 편안하게 식사할 수 있는 경산 놀이방식당입니다. 아기를 데리고 가도 걱정없이 방문할 수 있도록 유아용 의자가 많이 준비되어 있어 가족식사하기 딱 좋습니다...\n",
      "Refresh Coffee My Own Money My Country Visit Review: A Hidden Gem in Ogeum-dong Hello, neighbors~~ This is Lara :) Today, I'm going to introduce you to a special cafe in Songpa. That cafe is Refresh Coffee. I had a gathering with my cousins ​​a while ago, and they introduced me to a great place, so I ended up visiting this place. Although it's a neighborhood cafe, the atmosphere and the taste of the coffee are just as good as any famous cafe. In today's post, I'll introduce everything about the atmosphere, service, and recommended menu, so read until the end! 🚩 Location: 1F, Refresh Coffee, 298 Jungang-daero, Songpa-gu, Seoul 🕛 Business hours: 09:00-22:00 every day ☎ Phone number: 0507-1328-2714 🚗 Parking: Available in the parking lot behind the building Refresh Coffee doesn't have its own parking space. There is a ground-level parking lot behind the building that is shared with other stores, and can accommodate about 10 cars. However, since it is likely to be full, we recommend walking if possible. 😊 1. Cafe interior & exterior and directions Refresh Coffee is located between Bangi Station and Ogeum Station. It is within walking distance of both subway stations, so it is very accessible. It is a very convenient location for those who come by subway. And the surrounding area...\n",
      "리프레쉬커피 내돈내나라 방문후기: 오금동 숨은 보석 안녕하세요 이웃님들~~ 라라입니다:) 오늘은 송파에 있는 특별한 카페를 소개해드리려고 합니다. 그 카페는 리프레쉬커피입니다. 얼마 전 사촌들과 모임을 했는데, 좋은 곳을 소개해줘서 방문하게 되었습니다. 동네 카페지만 분위기와 커피 맛은 어느 유명 카페 못지않습니다. 오늘의 포스팅에서는 분위기, 서비스, 추천 메뉴 등 모든 것을 소개해드릴 테니 끝까지 읽어주세요! 🚩 위치: 서울특별시 송파구 중앙대로 298, 리프레쉬커피 1층 🕛 영업시간: 매일 09:00-22:00 ☎ 전화번호: 0507-1328-2714 🚗 주차: 건물 뒤 주차장 이용 가능 리프레쉬커피는 자체 주차 공간이 없습니다. 건물 뒤에 다른 매장과 공유하는 지상 주차장이 있는데, 10대 정도 주차가 가능합니다. 다만, 만차일 가능성이 높으니 가능하면 걸어서 가는 것을 추천합니다. 😊 1. 카페 내부 및 외부와 길찾기 리프레쉬 커피는 방이역과 오금역 사이에 있습니다. 두 지하철역에서 걸어서 갈 수 있는 거리에 있어서 접근성이 매우 좋습니다. 지하철로 오시는 분들에게는 매우 편리한 위치입니다. 그리고 주변 지역은...\n",
      "Icheon Yakiniku restaurant with a proper atmosphere, Motenashi. Hello. It's delicious :-) Today, I'm going to review Motenashi, a yakiniku restaurant with a proper atmosphere. 1227, Iseopdaecheon-ro, Icheon-si, Gyeonggi-do 1st floor 0507-1432-9226 Everyday 16:00 - 03:00 Last order 02:00 There are a lot of yakiniku restaurants in Icheon these days, and among them, I really want to recommend Motenashi. Doesn't that door with its travel-like atmosphere make you want to open it?ㅋ Yakiniku is a Japanese meat dish that means grilled meat. It's a meat dish that is seasoned and grilled on a charcoal grill, and it's easy to grill little by little, and it's delicious, and I think that's why I've been seeing it a lot these days. When you enter Motenashi, it feels dark, but it's actually calm, and maybe that's why it makes you want to drink ㅋㅋ It has rooms, and it's a good space for small gatherings, so it's good for eating a lot. The sound and atmosphere from the kitchen combined to give it a feeling like something out of a Japanese movie. There is a charcoal grill like this on each table. I like to eat small meals like this, so I really wanted this charcoal grill. It's a motenashi menu. I ordered two servings of ribs and a sea urchin shrimp set, a hearty dinner...\n",
      "이천 제대로 된 분위기의 야키니쿠집 모테나시 안녕하세요. 맛있어요 :-) 오늘은 제대로 된 분위기의 야키니쿠집 모테나시를 리뷰해보겠습니다. 경기도 이천시 이섭대천로 1227 1층 0507-1432-9226 매일 16:00 - 03:00 마지막 주문 02:00 요즘 이천에 야키니쿠집이 많이 생기는데, 그중에서도 모테나시를 꼭 추천하고 싶어요. 여행지 같은 분위기의 저 문이 열고 싶게 만들지 않나요?ㅋ 야키니쿠는 구운 고기를 뜻하는 일본식 고기 요리입니다. 숯불 그릴에 양념해서 구운 고기 요리로, 조금씩 구워 먹기 편하고 맛있어서 요즘 많이 보게 된 것 같아요. 모테나시에 들어가면 어두운 느낌이 들지만 사실은 차분한 분위기고 그래서 술 마시고 싶어지는 거 아닐까 ㅋㅋ 방도 있고, 소그룹 모임에 좋은 공간이라 많이 먹기에 좋음 주방에서 나는 소리와 분위기가 합쳐져서 일본영화에 나올 법한 느낌이 들어요 각 테이블에 이런 숯불 그릴이 있어요 저는 이렇게 간단하게 먹는 걸 좋아해서 이 숯불 그릴이 정말 갖고 싶었어요 모테나시 메뉴에요 갈비 두인분과 성게 새우 세트를 주문했는데 푸짐한 저녁...\n",
      "A must-visit Yeongdeungpo company dinner! Last weekend, I met my old school friends for a friend's wedding. I was secretly happy to see them in Yeongdeungpo, which is not far away. After finishing the meal, I chatted with my friends for a while, and I got hungry quickly. After chatting for a while, I decided to go eat something delicious, so I headed to a restaurant my friend knew well. In this area, there is a famous restaurant that serves good duck meat as a company dinner in Yeongdeungpo. The place we went to was a duck restaurant called Tongkeun Saengori. It was very conveniently located, with many bus stops nearby and a subway station right in front. 28 Yeongsin-ro 32-gil, Yeongdeungpo-gu, Seoul / Address Yeongdeungpo-dong 4-ga 95 Tongkeun Saengori Business hours: 10:00 ~ 22:00 When I arrived at the restaurant, the sign was so big that I could see it right away, and I liked that I could check the menu and pictures in front of the store. On one side, there was a brief story about the duck. Knowing that there were so many good things in it, I felt like it tasted even better when I ate it. Then I went inside. It was warm and had traces of time...\n",
      "영등포 회사 회식 꼭 가봐야 할 곳! 지난 주말에 친구 결혼식에 학교 친구들을 만났어요. 멀지 않은 영등포에서 만나서 은근히 기뻤어요. 식사를 마치고 친구들과 잠시 수다를 떨다가 금세 배가 고파졌어요. 수다를 떨다가 맛있는 것을 먹으러 가기로 해서 친구가 잘 아는 식당으로 갔어요. 이 지역에 영등포에서 회사 회식으로 오리고기를 잘하는 유명한 식당이 있어요. 우리가 간 곳은 통큰생고기라는 오리집이었어요. 근처에 버스 정류장이 많고 지하철역도 바로 앞에 있어서 매우 편리했어요. 서울특별시 영등포구 영신로32길 28 / 주소 영등포동4가 95 통큰생고리 영업시간 : 10:00 ~ 22:00 식당에 도착하니 간판이 엄청 크게 있어서 바로 눈에 띄었고, 가게 앞에서 메뉴와 사진을 확인할 수 있어서 좋았습니다. 한쪽에는 오리에 대한 간단한 스토리가 적혀 있었는데, 좋은 게 너무 많다는 걸 알고 있어서 먹었을 때 더 맛있었던 것 같았습니다. 그러고 안으로 들어갔습니다. 따뜻하고 세월의 흔적이...\n",
      "Gyeongdong Market Andong House Hand-cut Noodles Black and White Chef Imocasse Restaurant Kalguksu Boiled Pork Steamed Review - Location, Waiting, Parking Summary Black and White Chef Imocasse Restaurant Gyeongdong Market Andong House Hello, this is Kwak Du-gi! Today, I'm going to tell you about my visit to Black and White Chef Imocasse Restaurant Gyeongdong Market Andong House! I wanted to go to the restaurants of the chefs who appeared on Black and White Chef, but they were all fully booked so I couldn't go. However, Imocasse's Gyeongdong Market Andong House, which aired on Episode 10 this week, said that you don't need a reservation, so I quickly went! Location Gyeongdong Market is more complicated than I thought, so finding Andong House is a bit difficult.. First, after arriving at Gyeongdong Market, search for No Brand Gyeongdong Market on Kakao Map or Naver Map and find it. You will see the entrance to the underground shopping mall in the new building. Go down to the first basement level here! When you go down, there is a seafood market on the left and a restaurant area on the right. If you go toward the restaurant area, you will see Andong House right away!! Address: 36-gil, Gosanja-ro, Dongdaemun-gu, Seoul, 1st basement floor parking lot of the new building. Parking is available at the new building underground parking lot of Gyeongdong Shopping Mall operated by Gyeongdong Market. 2,000 won for 30 minutes / 3,000 won for 1 hour / 6,000 won for 2 hours / 12,000 won for 4 hours. Imocasse No. 1 Restaurant Andongjip Imocasse, of course I thought you wouldn't be there, but you are!!!!! I heard that Joyful Drinking Table only serves dinner, so you mostly come to Andongjip during the day...\n",
      "경동시장 안동하우스 손칼국수 블랙앤화이트셰프 이모카세 레스토랑 칼국수 삶은 돼지찜 후기 - 위치, 대기, 주차 요약 블랙앤화이트셰프 이모카세 레스토랑 경동시장 안동하우스 안녕하세요, 곽두기입니다! 오늘은 블랙앤화이트셰프 이모카세 레스토랑 경동시장 안동하우스 방문기를 전해드리겠습니다! 블랙앤화이트셰프에 출연한 셰프들의 식당을 가고 싶었는데, 다 만석이라 갈 수가 없었습니다. 그런데 이번 주 10화에 방영된 이모카세의 경동시장 안동하우스는 예약이 필요 없다고 해서 재빨리 갔습니다! 위치 경동시장은 생각보다 복잡해서 안동하우스를 찾는 게 조금 어렵네요.. 먼저 경동시장에 도착한 후 카카오맵이나 네이버맵에서 노브랜드 경동시장을 검색해서 찾으세요. 신관에 지하상가 입구가 보일 겁니다. 여기서 지하 1층으로 내려가세요! 내려가면 왼쪽에 해산물 시장, 오른쪽에 식당가가 있어요. 식당가 쪽으로 가면 바로 안동하우스가 보여요!! 주소: 서울특별시 동대문구 고산자로 36길, 신축건물 지하 1층 주차장. 주차는 경동시장에서 운영하는 경동쇼핑몰 신축건물 지하주차장에 가능. 30분 2,000원 ​​/ 1시간 3,000원 ​​/ 2시간 6,000원 ​​/ 4시간 12,000원. 이모카스 1호점 안동집 이모카스 당연히 없을 줄 알았는데 있잖아!!!!! 조이풀드링킹테이블은 저녁만 제공한다고 해서 낮에는 주로 안동집에 오시더라...\n",
      "Black and White Chef Cheon Man Baek Ban Palgongsan Mom's Table Main Branch Weekend Waiting Honest Review Black and White Chef Cheon Man Baek Ban Palgongsan Mom's Table Main Branch I've been watching Black and White Chef a lot lately and it's really fun. Among them, I visited the main branch of Palgongsan Mom's Table, which was unfortunately eliminated because there was no rice. Location There are many branches of Palgongsan Mom's Table Main Branch, but I visited this one because it was the main branch. The owner wasn't there on the day I went ㅠ.ㅠ I visited on Sunday. Business Information [Business Hours] 11:00~21:00 Break Time 15:30~17:00 Last Order 20:00 Closed on Thursdays [Phone Number] 0507-1316-8144 The area nearby is used as a parking lot, so you don't have to worry about not being able to park. However, it's a place that's hard to get to without a car. Black and White Chef Cheon Man Baek Ban As expected, there was a waiting line due to its popularity. I visited at 2 PM on Sunday, and even though it was past lunch time, there were still many people waiting in line. I saw an article that you can wait in line with a waiting catch table machine, but you can also wait in line with an app! However, we were told that those who registered with the app cannot eat during the break time, but those who registered with the machine can, so we decided to wait without worrying about not being able to eat! We registered for the wait at 2 PM and were able to enter at 3 PM! Many...\n",
      "블랙앤화이트 셰프 천만백반 팔공산 맘스테이블 본점 주말기다림 솔직후기 블랙앤화이트 셰프 천만백반 팔공산 맘스테이블 본점 요즘 블랙앤화이트 셰프 많이 봤는데 정말 재밌어요.그중에서 팔공산 맘스테이블 본점을 방문했는데 아쉽게도 밥이 없어서 탈락했어요.위치 팔공산 맘스테이블 본점은 지점이 여러개 있는데 여기가 본점이라서 방문했어요.제가 간날은 사장님이 안계셨어요 ㅠ.ㅠ저는 일요일에 방문했어요.영업정보 [영업시간] 11:00~21:00 브레이크타임 15:30~17:00 라스트오더 20:00 목요일 휴무 [전화번호] 0507-1316-8144 주변이 주차장으로 활용되고 있어서 주차못할 걱정은 없어요. 다만 차가 없으면 가기 힘든 곳이에요. 블랙앤화이트 셰프 천만백반 예상대로 인기로 인해 대기줄이 있었어요. 일요일 오후 2시에 방문했는데 점심시간이 지났는데도 여전히 많은 사람들이 줄을 서 있었어요. 대기테이블 머신으로 줄을 설 수 있다는 기사를 봤는데, 앱으로도 줄을 설 수 있어요! 다만 앱으로 등록한 사람은 브레이크타임에 먹을 수 없지만 머신으로 등록한 사람은 먹을 수 있다고 해서 못 먹을 걱정 없이 기다리기로 했어요! 저희는 오후 2시에 대기 등록을 하고 오후 3시에 입장할 수 있었어요! 많은...\n",
      "Seoul Station Steakhouse NOPS - Cost-effective T-bone steak combo, Wolfgang Steakhouse's second brand? ◆Seoul Station Steakhouse NOPS◆ Wolfgang Steakhouse is a chain that launched as a second brand in Cheongdam. In addition to Seoul Station, there are branches in Samseong, Sadang, Seorae Village, Hannam, and Pangyo. NOPS is a self-description that says, \"No Problem Steakhouse,\" \"A brand that declared the popularization of steak, which has a high barrier to entry.\" Korean steak is actually very expensive, so I think it's a great attempt if it tastes good. As a steak enthusiast, I can't help but run there. Let's start with a good T-bone steak story. It's 163m from Seoul Station No. 4 on Subway Lines 1 and 4 and the Airport Railroad, and on the 2nd floor of the Grand Central Building. It's close to Seoryeong, a very popular Pyongyang Naengmyeon specialty restaurant, so it would be nice to enjoy T-bone steak and then wash it down with Pyongnaeng and take a walk at Namdaemun Market or Namsan. #SeoulStationSteakRestaurant #NOPS #SteakRestaurant #T-BoneSteak #Porterhouse #CostEffectiveSteak #WolfgangSteakhouse #PeterLugers The floors of this building are confusing. I wonder if it follows the British style, but it's actually the 2nd floor that looks like the 3rd floor. I finally found it after wandering around the 1st floor. The advertisement next to the entrance is strange. The No. 1 steakhouse in New York, located in Brooklyn and Great Neck, is Peter Lugers Pe...\n",
      "서울역 스테이크하우스 NOPS - 가성비 좋은 티본 스테이크 콤보, 볼프강 스테이크하우스의 세컨드 브랜드? ◆서울역 스테이크하우스 NOPS◆ 볼프강 스테이크하우스는 청담에 세컨드 브랜드로 출범한 체인점이다. 서울역 외에도 삼성, 사당, 서래마을, 한남, 판교에 지점이 있다. NOPS는 \"No Problem Steakhouse\", \"진입장벽이 높은 스테이크의 대중화를 선언한 브랜드\"라는 자기소개이다. 한국 스테이크는 사실 매우 비싸기 때문에 맛만 좋다면 좋은 시도라고 생각한다. 스테이크 매니아인 나는 그곳으로 달려가지 않을 수 없다. 맛있는 티본 스테이크 이야기로 시작해 보자. 지하철 1, 4호선과 공항철도가 지나가는 서울역 4번 출구에서 163m, 그랜드 센트럴 빌딩 2층에 있다. 평양냉면 전문점으로 인기 있는 서령과 가까워서 티본스테이크를 즐기고 평양냉면으로 씻어내고 남대문시장이나 남산을 산책하기 좋을 듯합니다. #서울역스테이크집 #NOPS #스테이크집 #티본스테이크 #포터하우스 #가성비스테이크 #볼프강스테이크하우스 #피터루거스 이 건물의 층수가 헷갈립니다. 영국 스타일을 따른 건지 모르겠지만 실제로는 3층처럼 보이는 건 2층입니다. 1층을 헤매다가 드디어 찾았습니다. 입구 옆에 있는 광고가 이상합니다. 브루클린과 그레이트넥에 있는 뉴욕 1위 스테이크하우스는 피터루거스 페...\n",
      "Krispy Kreme Donut Glazed Menu 1+1 Discount Event Price Information Review after eating for a long time Krispy Kreme Donut I will introduce you to the Krispy Kreme Donut menu. It has been a really long time since I ate Krispy Donut. I bought it as a simple dessert while buying dinner near my house, and the original glazed was the best! While introducing the menu I ate, I will also tell you about the 1+1 event information that you are most curious about, various events, and prices. Hello, this is Dark Yoon :) While I was getting food I wanted to eat from a restaurant near my house, I saw Krispy Donut after a long time, so I stopped by for a moment. When I was young, it was really popular, so there were a lot of them here and there, but these days, it is secretly hard to find them. I went to the Daechi branch, and it is easily accessible, about a 2-minute walk from Exit 3 of Hanti Station on the Suin Bundang Line. It is a brand that has been around since 1937, so the 20th anniversary probably means the 20th anniversary of its entry into the domestic market, right? Haha, I heard that in celebration of Krispy Kreme Doughnuts' 20th anniversary, they've re-released 6 popular 'Best Doughnuts' selected through a consumer vote. In addition to my favorite Strawberry Milk Cream Donut, there are also Caramel Iced Donuts, Cinnamon Apple Filled Donuts, Tiramisu Donuts, Ligo Peanut Butter Donuts, and Hey Hershey's Chocolate Cake Donuts...\n",
      "크리스피크림도넛 글레이즈드 메뉴 1+1할인이벤트 가격정보 오랜만에 먹어본 후기 크리스피크림도넛 크리스피크림도넛 메뉴를 소개해드리겠습니다. 크리스피도넛을 먹은지 정말 오래되었습니다. 집 근처에서 저녁을 사다가 간단한 디저트로 사왔는데, 오리지널 글레이즈드가 제일 맛있었어요! 먹은 메뉴를 소개하면서, 여러분이 가장 궁금해하실 1+1 이벤트 정보와 각종 이벤트, 가격에 대해서도 알려드리겠습니다. 안녕하세요, 다크윤입니다 :) 집 근처 식당에서 먹고 싶은 음식을 사다가, 오랜만에 크리스피도넛을 보고 잠깐 들렀습니다. 어렸을 때는 정말 인기가 많아서 여기저기 많이 있었는데, 요즘은 은근히 찾기 힘들다고 합니다. 대치점에 갔는데, 수인분당선 한티역 3번 출구에서 도보 2분 거리에 있어서 접근성이 좋습니다. 1937년부터 있었던 브랜드인데, 20주년이면 국내 진출 20주년이 되는 거겠죠?ㅎㅎ 크리스피크림도넛 20주년을 기념해서 소비자 투표로 뽑은 인기 '베스트 도넛' 6종을 다시 출시했다고 들었어요. 제가 제일 좋아하는 딸기밀크크림도넛 외에도 카라멜아이스도넛, 시나몬애플필드도넛, 티라미수도넛, 리고땅콩버터도넛, 헤이허쉬초콜릿케이크도넛도 있어요...\n",
      "Playoff Samsung Lions Salary Rankings Who are the Salary Kings of Koo Ja-wook and Won Tae-in? Hello! This is ⚾Reus⚾, who makes sports easy to understand. Today, I would like to talk about the salary of the KBO Samsung Lions. Let's take a look at the salary rankings of the Samsung Lions, who are waiting for their opponents in the playoffs. Let's start now! Samsung Lions Salary TOP 3 Tied for 3rd place Oh Seung-hwan Kang Min-ho Kim Jae-yoon Baek Jeong-hyeon (400 million won) Samsung Lions' 3rd place salary is occupied by 4 players. First of all, there is Oh Seung-hwan, the best closing pitcher in Korean history. He ranked 2nd in saves with 27 saves this season, but showed a poor performance with an ERA of 4.91 and a WHIP of 1.69. He showed an unstable performance from the middle of the season, and at the end of the season, he showed a very poor pitching performance, and was excluded from this PO entry. The second player is catcher Kang Min-ho. Kang Min-ho has made a perfect comeback this season, hitting a batting average of .300 and 19 home runs, and has become a strong candidate for the Golden Glove. Kim Jae-yoon, who wore the Samsung uniform after hitting the FA jackpot of 5.8 billion won over 4 years, received an annual salary of 400 million won this season. He has been a consistent bullpen center, playing a key role in winning this season. Baek Jeong-hyeon, who signed a 4-year, 3.8 billion won contract after hitting a career-high in the season before FA, is very disappointing...\n",
      "플레이오프 삼성라이온즈 연봉순위 구자욱, 원태인의 연봉왕은? 안녕하세요! 스포츠를 알기 쉽게 설명해 드리는 ⚾레우스⚾입니다. 오늘은 KBO 삼성라이온즈의 연봉에 대해 이야기해보겠습니다. 플레이오프 상대를 기다리고 있는 삼성라이온즈의 연봉순위를 살펴보겠습니다. 지금 시작해볼까요! 삼성라이온즈 연봉 TOP 3 공동 3위 오승환 강민호 김재윤 백정현(4억원) 삼성라이온즈의 3위 연봉은 4명이 차지합니다. 우선 한국 역사상 최고의 마무리투수 오승환이 있습니다. 그는 이번 시즌 27세이브로 세이브 2위에 올랐지만, 평균자책점 4.91, WHIP 1.69로 부진한 성적을 보였습니다. 시즌 중반부터 불안정한 성적을 보였고, 시즌 막판에는 매우 부진한 투구 성적을 보이며 이번 PO 엔트리에서 제외됐다. 두 번째 선수는 포수 강민호다. 강민호는 이번 시즌 타율 .300, 홈런 19개를 기록하며 완벽한 컴백을 이뤄내며 강력한 골든글러브 후보로 떠올랐다. 4년간 58억 원의 FA 잭팟을 터뜨리고 삼성 유니폼을 입은 김재윤은 이번 시즌 연봉 4억 원을 받았다. 꾸준한 불펜 센터로 이번 시즌 우승에 핵심적인 역할을 했다. FA 전 시즌에 커리어 하이를 기록한 뒤 4년 38억 원 계약을 맺은 백정현은 매우 실망스러운...\n",
      "Fall Baseball Performances of MVPs Who Played the World Series from 1995 to 2023 (MLB) Aaron Judge and Shohei Ohtani, the strongest MVP candidates for both the AL and NL in 2024, are playing in the fall baseball this season. From 1995 to the last season, 2023, there were a total of 43 regular season MVPs who played in the fall baseball of that season. Of those, only 8 were MVPs who played in the World Series. However, receiving an MVP does not mean that the fall baseball performance is the same. Therefore, today, I would like to compare the regular season performances and postseason performances of those 8 players. 1999 Chipper Jones (3B) Atlanta Braves 1999 regular season stats 157G .319/.441/.633 OPS 1.074 181 hits 45 HRs 110 RBIs 126 BBs 1999 post season stats 14G .244/.462/.356 OPS .818 11 hits 1 HRs 4 RBIs 18 BBs 2002 Barry Bonds (OF, DH) San Francisco Giants 2002 regular season stats 143G .370/.582/.799 OPS 1.381 149 hits 46 HRs 110 RBIs 198 BBs 2002 post season stats 17G .356/.581/.978 OPS 1.559 16 hits 8 HR 16 RBI 27 BB 2010 Josh Hamilton (OF) Texas Rangers 2010 regular season stats 133G .359/.411/.633 OPS 1.044 186 hits 32 HR 100 RBI 43 BB 2010 post season stats...\n",
      "1995년부터 2023년까지 월드시리즈에서 뛰었던 MVP들의 가을 야구 성적(MLB) 2024년 AL과 NL에서 가장 강력한 MVP 후보인 Aaron Judge와 Shohei Ohtani가 이번 시즌 가을 야구에서 뛰고 있습니다. 1995년부터 마지막 ​​시즌인 2023년까지 그 시즌 가을 야구에서 뛰었던 정규 시즌 MVP는 총 43명이었습니다. 그 중 월드시리즈에서 뛰었던 MVP는 8명에 불과했습니다. 그러나 MVP를 받았다고 해서 가을 야구 성적이 같다는 것은 아닙니다. 따라서 오늘은 그 8명의 선수의 정규 시즌 성적과 포스트 시즌 성적을 비교하고 싶습니다. 1999 Chipper Jones (3B) Atlanta Braves 1999 정규 시즌 통계 157G .319/.441/.633 OPS 1.074 181 안타 45 홈런 110 타점 126 볼넷 1999 포스트 시즌 통계 14G .244/.462/.356 OPS .818 11 안타 1 홈런 4 타점 18 볼넷 2002 Barry Bonds (OF, DH) San Francisco Giants 2002 정규 시즌 통계 143G .370/.582/.799 OPS 1.381 149 안타 46 홈런 110 타점 198 볼넷 2002 포스트 시즌 통계 17G .356/.581/.978 OPS 1.559 16안타 8홈런 16타점 27볼넷 2010년 조쉬 해밀턴(OF) 텍사스 레인저스 2010년 정규 시즌 통계 133골 .359/.411/.633 OPS 1.044 186안타 32홈런 100타점 43볼넷 2010년 포스트 시즌 통계...\n",
      "Hello! I am trainer Park Sung-jun of Ogeum Health Center, Sponis Park Sung-jun. Today, I will write about how the PT class of a female office worker who has been taking classes with me for about a month is conducted and what kind of exercise we did today. Most office workers sit in front of a monitor for long hours and work. Many people have misaligned their bodies due to this wrong lifestyle. The member who is with me also visited the center for the same reason and wanted to start exercising for the purpose of increasing physical strength, losing weight, and correcting body shape. When the member visited the center, there were two things that were important to him. First, he said that he wanted to enjoy PT classes and become interested in exercising. Second, he wanted to film the exercise and give feedback on the exercise so that he could maintain good posture when doing personal exercise. So before creating the program, we started working on making the exercise interesting to the customer's needs. How can we make exercise fun? The answer is... when learning exercise, you need to understand the principles correctly and achieve the muscle you are aiming for...\n",
      "안녕하세요! 오금헬스센터 스포니스 박성준 트레이너입니다. 오늘은 저와 함께 한 달 정도 수업을 듣고 있는 여사원 한 분의 PT 수업이 어떻게 진행되는지, 그리고 오늘 어떤 운동을 했는지에 대해 적어보겠습니다. 대부분의 직장인들은 모니터 앞에 앉아서 오랜 시간 일합니다. 이런 잘못된 생활방식으로 인해 몸의 정렬이 틀어진 분들이 많습니다. 저와 함께 하신 회원님도 같은 이유로 센터를 찾아와서 체력 증진, 체중 감량, 체형 교정을 목적으로 운동을 시작하고자 하셨습니다. 회원님께서 센터를 방문하셨을 때 중요하게 생각하신 점이 두 가지가 있었습니다. 첫째, PT 수업을 즐기고 운동에 관심을 갖고 싶다고 하셨습니다. 둘째, 운동을 촬영해서 피드백을 주시면 개인 운동을 할 때 바른 자세를 유지할 수 있을 것 같다고 하셨습니다. 그래서 프로그램을 만들기 전에 고객의 니즈에 맞게 운동을 재밌게 만드는 작업을 시작했습니다. 어떻게 하면 운동을 재밌게 만들 수 있을까요? 정답은... 운동을 배울 때는 원리를 제대로 이해하고 원하는 근육을 만들어내야 한다는 것입니다...\n",
      "Marvel Run Seoul 2024 Yeouido Park Culture Square Megabox Disney Korea Fall Marathon Schedule Marvel Run Seoul 2024 Yeouido Park Culture Square Megabox Disney Korea Fall Marathon Schedule Hello, Marvel fans! This is @혀니더기. I'll give you news about the Marvel Run Seoul 2024 marathon taking place this fall at Yeouido Park in Seoul. A special running event that Marvel fans can't miss, the marathon with Marvel heroes is coming up. In this marathon, Megabox and Walt Disney Company Korea will join forces to provide an even more diverse experience. 🎽 Marvel Run Seoul 2024 - Schedule and Course Information Marvel Run Seoul 2024 will be held on October 9th at Yeouido Park Culture Square in Seoul, and consists of a 10km and 5km course. Runners can run at the front as part of the Venom Leaders group to the theme of Venom: The Last Dance, and pacemakers will be on hand every 5 minutes to support the participants’ stable completion. In particular, this competition is a collaboration with Make-A-Wish Korea, so children with incurable diseases and their families will also run together, adding a special meaning. It will be a running festival with over 10,000 Marvel fans, so if you usually enjoy marathons or Marvel, be sure to participate in the Mazrun Seoul 2024 Marathon...\n",
      "마블런 서울 2024 여의도공원 컬쳐스퀘어 메가박스디즈니코리아 가을 마라톤 일정 마블런 서울 2024 여의도공원 컬쳐스퀘어 메가박스디즈니코리아 가을 마라톤 일정 안녕하세요, 마블 팬 여러분! @혀니더기입니다. 이번 가을 서울 여의도공원에서 열리는 마블런 서울 2024 마라톤 소식을 전해드리겠습니다. 마블 팬이라면 놓칠 수 없는 특별한 러닝 이벤트, 마블 히어로들과 함께하는 마라톤이 다가옵니다. 이번 마라톤에서 메가박스와 월트 디즈니 컴퍼니 코리아가 힘을 합쳐 더욱 다양한 경험을 제공합니다. 🎽 마블런 서울 2024 - 일정 및 코스 정보 마블런 서울 2024는 10월 9일 서울 여의도공원 컬쳐스퀘어에서 개최되며, 10km와 5km 코스로 구성됩니다. 러너들은 베놈: 더 라스트 댄스를 주제로 베놈 리더 그룹의 일원으로 선두에서 달릴 수 있으며, 5분 간격으로 페이스메이커가 참가자의 안정적인 완주를 지원합니다. 특히 이번 대회는 메이크어위시 코리아와 협업해 난치병 어린이와 그 가족들도 함께 달려 특별한 의미를 더한다. 1만여 명의 마블 팬이 함께하는 러닝 페스티벌이 될 테니 평소 마라톤이나 마블을 좋아하시는 분이라면 꼭 마즈런 서울 2024 마라톤에 참여해 보세요...\n",
      "Elysian Jeju CC 2024 Nice Masters!! My dream is to tour all the golf courses in the country!!!!!!!!!!!!! It was around 4 in the morning.... My family left for Gangwon-do with my wife's family and I left for #Jeju - -;; #Jeju Island .... #Golf I don't have any good memories (I couldn't play the round properly because it snowed so much, and the wind blew so hard that the ball went upside down lol), but I was lucky enough to be invited to the 2024 #NiceMasters official event and went. It was just a hardcore schedule that filled up 2 nights and 3 days. 2 nights and 3 days, but 3 rounds. #Jeju Island Golf... It's so good and awesome. It would be really fun to play a round with my family and people I like, eat delicious food, see the great scenery, and enjoy the round without asking the caddies about the style. #Hallasan party lol Let's send off the #Tuscany, a business trip parking lot squeamish person, and let's leave in a neatly arranged Grandeur TG that we received as a substitute for a guest car. Highway scenery in the early morning.... If we hit the ball without thinking like that Buddha statue, it would be great. Even the lightweight bicycle, which is synonymous with cycling, runs so much, so the car It looks like a lot of trouble. When the weight exceeds the allowable weight of the existing vehicle, checking the air pressure is always a basic of the basics. Vehicle...\n",
      "엘리시안 제주CC 2024 나이스마스터즈!! 제 꿈은 전국 골프장을 다 돌아보는 거예요!!!!!!!!!! 새벽 4시쯤이었어요.... 저희 가족은 처가 식구들과 강원도로 떠났고 저는 #제주로 떠났어요 - -;; #제주도.... #골프 좋은 추억은 없는데(눈이 너무 많이 와서 라운드를 제대로 못 했고 바람이 너무 세게 불어서 공이 뒤집혔어요 ㅋㅋㅋ) 다행히 2024 #나이스마스터즈 공식 행사에 초대받아서 갔어요. 그냥 2박 3일 꽉 찬 하드코어 일정이었어요. 2박 3일인데 3라운드. #제주도 골프... 너무 좋고 최고에요. 가족들과 좋아하는 사람들과 라운드 하고 맛있는 음식 먹고 멋진 풍경 보고 캐디한테 스타일 묻지 않고 라운드 즐기면 정말 재밌을 것 같아요. #한라산파티 ㅋㅋ 출장 주차장 까칠한 #투스카니를 보내고 게스트카 대용으로 받은 깔끔하게 정돈된 그랜저TG에 태워서 출발하자. 이른 아침 고속도로 풍경.... 저 부처님 동상처럼 생각없이 공을 치면 참 좋을 텐데. 자전거의 대명사인 가벼운 자전거도 엄청 달려서 차가 엄청 힘들어 보인다. 기존 차량의 허용 중량을 넘으면 공기압 체크는 기본 중의 기본. 차량...\n",
      "Pohang Golf Shop 3 million won new vs. 1 million won used Comparison test and purchase review Hello Pohang Itnim, today I bought a full set of golf clubs! I was contemplating between 3 million won new and 1 million won used golf clubs, so I visited a golf shop in person and compared them and bought them after a test drive. I'd like to introduce you to my review! Actually, at first, I was going to buy everything new, but after looking around, I found out that for beginners like me who have only been playing golf for 4 months, an iron set is fine, but clubs like the driver, wood, and utility clubs are more likely to sink or break when you first practice, so it is recommended to buy them used and then buy new ones after you have improved your skills to some extent. So at first, I looked for a Pohang golf shop near my house, but there weren't many places that sold used golf clubs. I was looking for a place that sold both used and new golf clubs, and I found a place with good reviews and comments, so I decided to visit even though it was far. The golf shop was a bit far from Pohang, and it took about 1 hour and 50 minutes by navigation. I decided to visit on the weekend, and before that, I looked up various brands to buy. I saw several brands with good reviews on the Internet, such as Taylormade, Ping, Callaway, and Jestime, and I remembered a good model and decided to go to the store to try it out.\n",
      "포항 골프샵 300만원 신품 vs 100만원 중고 비교테스트 및 구매후기 안녕하세요 포항 잇님, 오늘 골프채 풀세트를 구매했습니다! 300만원 신품과 100만원 중고 중에 고민하다가 직접 골프샵에 가서 비교하고 시승 후 구매하게 되었습니다. 저의 리뷰를 소개해드리려고 합니다! 사실 처음에는 전부 새것으로 살 생각이었지만, 찾아보니 저처럼 골프를 시작한지 ​​4개월밖에 안 된 초보자라면 아이언세트는 괜찮지만 드라이버, 우드, 유틸리티 클럽 같은 클럽은 처음 연습할 때 가라앉거나 부러질 가능성이 높아서 중고로 구매한 후 어느 정도 실력이 향상된 후 새 것으로 구매하는 것이 좋습니다. 그래서 처음에는 집 근처 포항 골프샵을 찾아봤지만 중고 골프채를 판매하는 곳이 많지 않더군요. 중고, 신품 골프채를 모두 판매하는 곳을 찾다가 리뷰와 평이 좋은 곳을 발견해서 멀리 있지만 방문하기로 했습니다. 골프숍은 포항에서 조금 멀어서 네비게이션으로 1시간 50분 정도 걸렸습니다. 주말에 방문하기로 했고, 그 전에 살만한 브랜드를 여러개 찾아보았습니다. 인터넷에서 Taylormade, Ping, Callaway, Jestime 등 리뷰가 좋은 브랜드를 여러개 보고, 괜찮은 모델이 생각나서 매장에 가서 직접 써보기로 했습니다.\n",
      "Son Heung-min, eventually ‘excluded from national team roster’… “How severe is the hamstring injury?” Hong Myung-bo’s World Cup qualifier crisis? South Korea’s ‘captain’ Son Heung-min (Tottenham Hotspur) has finally fallen through with the October A-match call-up. On October 4, 2024 (hereinafter Korean time), the Korea Football Association (KFA) announced, “In order to protect the player, we have made the final decision to exclude Son Heung-min from the two October A-matches.” The KFA determined that Son Heung-min needed rest due to an injury to his left hamstring, which is the back muscle of his thigh. National team coach Hong Myung-bo selected Hong Hyun-seok (Mainz) as a replacement for Son Heung-min. Ahead of the October A-match, which is considered a watershed for advancing to the 2026 North and Central American World Cup, Son Heung-min’s joining the national team was a question mark. Son Heung-min, who was injured in the first round of the 2024-25 season UEFA Europa League (UEL) league phase against Qarabag (Azerbaijan) on September 26, has missed two matches for Tottenham since being substituted in the match. Son Heung-min, who first missed the 6th round of the English Premier League (EPL) against Manchester United on the 30th, did not travel to Hungary for the second leg of the Europa League phase against Ferencvaros. Tottenham won 3-0 and 2-1 in the two matches in which captain Son Heung-min was absent in succession to recover. Meanwhile, Karabagh...\n",
      "손흥민, 결국 ‘대표팀 명단 제외’…“햄스트링 부상 얼마나 심각할까?” 홍명보 월드컵 예선 위기? 한국 ‘주장’ 손흥민(토트넘 홋스퍼)이 결국 10월 A매치 소집에 무산됐다. 대한축구협회(KFA)는 2024년 10월 4일(이하 한국시간) “선수를 보호하기 위해 손흥민을 10월 A매치 2경기에서 제외하기로 최종 결정했다”고 밝혔다. KFA는 손흥민이 허벅지 뒤쪽 근육인 왼쪽 햄스트링 부상으로 휴식이 필요하다고 판단했다. 홍명보 국가대표팀 감독은 손흥민의 대체자로 홍현석(마인츠)을 발탁했다. 2026년 북중미 월드컵 진출의 분수령으로 여겨지는 10월 A매치를 앞두고 손흥민의 국가대표팀 합류는 물음표였다. 9월 26일 카라바흐(아제르바이잔)와의 2024-25시즌 UEFA 유로파리그(UEL) 리그 1라운드에서 부상을 당한 손흥민은 이 경기에서 교체로 출장한 이후 토트넘에서 두 경기를 놓쳤다. 30일 맨체스터 유나이티드와의 잉글랜드 프리미어리그(EPL) 6라운드 경기를 먼저 놓친 손흥민은 페렌츠바로시와의 유로파리그 2차전을 위해 헝가리로 가지 않았다. 토트넘은 주장 손흥민이 회복을 위해 연달아 결장한 두 경기에서 3-0, 2-1로 승리했다. 한편 카라바흐...\n",
      "2024 KBO League Postseason KTvsLG Semi-Playoff Ticket Reservation Open Schedule October 4th All 1st to 5th games reserved Hello, this is Podolski :) The flower of professional baseball, the postseason, the fall baseball, the 2024 KBO League postseason, the first series, the Wild Card playoff, has had an upset. With the establishment of KT Wiz in 2015, the number of league teams increased to 10, and the newly established Wild Card playoff series. In a series that had always ended with the victory of the 4th place team from the 2015 to 2023 seasons, 5th place KT Wiz won 2 consecutive games against 4th place Doosan in the enemy territory for the first time in the 2024 season, advancing to the semi-playoff. 4th place Doosan recorded 18 innings without scoring in two games, which remains the worst fall baseball. Anyway, with 5th place KT advancing in the WC, the semi-playoff series has now been confirmed as a match between KT Wiz and LG Twins. 2024 KBO League Postseason Playoff Ticket Reservation Open Schedule Playoff Tickets for all 1st to 5th rounds open on 10/4 Game 1 - 2:00 PM Game 2 - 3:00 PM Game 3 - 4:00 PM Game 4 - 5:00 PM Game 5 - 6:00 PM Playoff ticket reservations open with 1-hour gaps between each game. All games from Game 1 to Game 5 open on October 4, the day before the start of the playoffs on October 5. Game 1 ticket reservations open at 10/4 p.m.\n",
      "2024 KBO리그 포스트시즌 KTvsLG 준플레이오프 티켓 예매 오픈 일정 10월 4일 1~5경기 모두 예약 안녕하세요, 포돌스키입니다 :) 프로야구의 꽃, 포스트시즌, 가을야구 2024 KBO리그 포스트시즌, 첫 시리즈인 와일드카드 플레이오프가 이변을 일으켰습니다. 2015년 KT위즈가 창단되면서 리그팀이 10개로 늘어나고, 새롭게 신설된 와일드카드 플레이오프 시리즈. 2015~2023시즌까지 늘 4위팀 승리로 끝났던 시리즈에서 5위 KT위즈가 2024시즌 처음으로 적지에서 4위 두산을 상대로 2연승을 거두며 준플레이오프에 진출했습니다. 4위 두산은 2경기에서 18이닝 무실점을 기록하며 최악의 가을야구로 남았습니다. 어쨌든 5위 KT가 WC에 진출하면서 준플레이오프 시리즈는 이제 KT Wiz와 LG Twins의 경기로 확정되었습니다. 2024 KBO 리그 포스트시즌 플레이오프 티켓 예매 오픈 일정 1~5라운드 모든 플레이오프 티켓은 10/4에 오픈합니다. 1차전 - 오후 2시 2차전 - 오후 3시 3차전 - 오후 4시 4차전 - 오후 5시 5차전 - 오후 6시 플레이오프 티켓 예매는 각 경기 사이에 1시간 간격으로 오픈합니다. 1차전부터 5차전까지의 모든 경기는 10월 5일 플레이오프 시작 전날인 10월 4일에 오픈합니다. 1차전 티켓 예매는 오후 10시/4시에 오픈합니다.\n",
      "Hyundai Marine & Fire Insurance Choi K.J. Invitational Prize Money and KPGA Gallery Admission Fee Information I'll tell you about the Hyundai Marine & Fire Insurance Choi K.J. Invitational, the 16th KPGA tournament of the 2024 season, the prize money and KPGA Gallery admission fee information :) Hyundai Marine & Fire Insurance Choi K.J. Invitational Tournament Schedule: 2024.10.03 ~ 2024.10.06 Tournament Venue: Ferrum Club CC Total prize money: KRW 1,250,000,000 Winner's prize money: KRW 250,000,000 Par/Yardage: Par 72 / 7,330yards Last year's winner: Jeong-Woo Ham The KPGA Hyundai Marine & Fire Insurance Choi K.J. Invitational will be held at the Ferrum Club in Yeoju, Gyeonggi-do from October 3 to October 6. The Hyundai Marine & Fire Insurance Choi Kyung-ju Invitational is a 72-hole stroke play tournament with a total prize pool of 1.25 billion won and a winner's prize of 250 million won. This tournament is the first tournament to be held under the name of an Asian player and is in its 8th year this year. As it is a tournament founded by Choi Kyung-ju to develop domestic golf, it is held with the concept of a tournament for the players. In order for the players to perform at their best in the best condition, the tournament participation fee of all 126 players is supported, and a reserve prize is also provided equally to the players who made the cut and ranked 61st or lower. In addition, unlike other tournaments, there is no pro-am, but only official practice, so the players...\n",
      "현대해상 최경주 초대상금 및 KPGA 갤러리 입장료 안내 2024시즌 16회째를 맞는 KPGA대회인 현대해상 최경주 초대상금과 KPGA 갤러리 입장료 정보를 알려드리겠습니다 :) 현대해상 최경주 초대상금 대회 일정: 2024.10.03 ~ 2024.10.06 대회장: 페럼클럽CC 총상금: 1,250,000,000원 ​​우승상금: 250,000,000원 ​​파/야드: 파72 / 7,330야드 작년 우승자: 함정우 KPGA 현대해상 최경주 인비테이셔널은 10월 3일부터 10월 6일까지 경기도 여주에 있는 페럼클럽에서 개최된다. 현대해상 최경주 인비테이셔널은 72홀 스트로크 플레이 대회로 총상금 12억 5천만 원, 우승상금 2억 5천만 원이 걸린 대회다. 이 대회는 아시아 선수의 이름으로 열리는 최초의 대회로 올해로 8회째를 맞았다. 최경주가 국내 골프 발전을 위해 창설한 대회인 만큼 선수를 위한 대회라는 컨셉으로 진행된다. 선수들이 최상의 컨디션에서 최고의 기량을 발휘할 수 있도록 126명의 선수 전원의 대회 참가비를 지원하고, 컷 통과자 중 61위 이하인 선수에게도 동일하게 리저브 상금을 지급한다. 또한 다른 대회와 달리 프로암이 없고 공식 연습만 진행하기 때문에 선수들이...\n",
      "Real golf course review, Road Hills CC, Chuncheon golf course, Namchuncheon golf course, cost-effective golf course, Yangjandi, popular golf course Hello, this is GloryGolf. I enjoyed playing at three golf courses during the two days of a two-day, one-night golf trip with my friends. On the first day, we started at Lavie Belle CC Old Course. If you are curious, please refer to the post below. On the first day, the golf course I reserved for the afternoon round was Road Hills CC, located right next to Lavie Belle CC. Road Hills CC is the best cost-effective golf course. Compared to Lavie Belle CC Old Course, the clubhouse and scenery may be a bit lacking, but the course condition is quite good. Road Hills CC is a golf course I have visited several times before, and I have posted a real golf course review. If you are curious about the reservation method and basic information, please refer to the post below and read it. After the morning round, I didn't have time to eat separately, so I had a quick meal at the Road Hills CC clubhouse. The menu we chose is Jajangmyeon, but it is the best value for money at 12,000 won. In fact, the green fee for the second part of Road Hills CC on Friday is 160,000 won, so we made a reservation at a very good price. In many ways, it shows a competitive price. Starting with the entire hill course of Road Hills CC. As I mentioned, Road Hills CC is composed of sheep grass...\n",
      "실제 골프장 리뷰, 로드힐스CC, 춘천골프장, 남춘천골프장, 가성비 골프장, 양잔디, 인기 골프장 안녕하세요 글로리골프입니다. 친구들과 함께한 1박2일 골프여행 2일 동안 3개의 골프장에서 즐겁게 플레이했습니다. 첫날은 라비벨CC 올드코스에서 시작했습니다. 궁금하신 분들은 아래 포스팅을 참고해주세요. 첫날 오후 라운드를 위해 예약한 골프장은 라비벨CC 바로 옆에 위치한 로드힐스CC였습니다. 로드힐스CC가 가성비 최고의 골프장입니다. 라비벨CC 올드코스에 비하면 클럽하우스와 경치는 조금 부족할 수 있지만 코스 컨디션은 꽤 좋습니다. 로드힐스CC는 제가 몇 번 방문한 골프장이고, 실제 골프장 리뷰를 올렸습니다. 예약방법과 기본정보가 궁금하신 분들은 아래 포스팅을 참고해서 읽어주세요. 오전 라운드를 마치고 따로 식사할 시간이 없어서 로드힐스CC 클럽하우스에서 간단히 식사를 했습니다. 선택한 메뉴는 짜장면인데 12,000원으로 가성비가 가장 좋습니다. 사실 금요일 로드힐스CC 2부 그린피가 16만원이라 아주 좋은 가격에 예약했습니다. 여러모로 경쟁력 있는 가격을 보여줍니다. 로드힐스CC 전체 힐코스부터 시작해서 말씀드렸듯이 로드힐스CC는 양잔디로 이루어져 있고...\n",
      "An expert in total loss of automobiles will tell you. Total loss of automobiles What is total loss? How can you reduce losses? An expert who has been repairing total loss automobiles for 15 years will tell you exactly. Total loss of automobiles means that if the cost of repairing a vehicle exceeds the value of the vehicle after an accident, it is judged as a total loss. The value of the vehicle is measured at the time of insurance subscription depending on the type and year of each vehicle, and as the market price of the vehicle decreases over time, the value of the vehicle also fluctuates. The amount that can be paid for total loss of automobiles varies depending on the time and situation of the accident. The amount that can be compensated for total loss of automobiles due to a single accident and total loss of automobiles due to the other party's fault will be different. I will explain them one by one from now on. Total loss of automobiles Volvo XC40 vehicle was in a single accident without the other party's fault. It is a 100% internal negligence accident, and if you have your own automobile insurance, total loss of automobiles is possible. Most vehicles have a low vehicle value compared to the market price of the vehicle. The Volvo XC40 vehicle is formed at around 2,500 in vehicle tax, but the repair cost is set at 40 million won and the vehicle value is set at 20 million won. When proceeding with the total loss, the transfer cost and...\n",
      "자동차 전손 전문가가 알려드립니다. 자동차 전손 전손이란? 어떻게 손실을 줄일 수 있을까요? 15년 동안 자동차 전손을 수리한 전문가가 정확히 알려드립니다. 자동차 전손이란 사고 후 차량을 수리하는 데 드는 비용이 차량 가치를 초과하면 전손으로 판단하는 것을 말합니다. 차량 가치는 각 차량의 종류와 연도에 따라 보험 가입 시 측정되며, 시간이 지남에 따라 차량의 시장 가격이 감소함에 따라 차량 가치도 변동합니다. 자동차 전손에 대해 지불할 수 있는 금액은 사고의 시간과 상황에 따라 다릅니다. 단일 사고로 인한 자동차 전손과 상대방의 과실로 인한 자동차 전손에 대해 보상할 수 있는 금액은 다릅니다. 지금부터 하나씩 설명드리겠습니다. 자동차 전손 볼보 XC40 차량은 상대방의 과실 없이 단일 사고를 당했습니다. 100% 내부과실 사고이며, 본인의 자동차 보험이 있다면 자동차 전손이 가능합니다. 대부분 차량은 차량 시세에 비해 차량 가치가 낮습니다. 볼보 XC40 차량은 차량 세금이 2,500원 정도로 형성되어 있지만 수리비는 4천만원으로 책정되어 있고 차량 가치는 2천만원으로 책정되어 있습니다. 전손으로 진행 시 이전 비용과...\n",
      "'60 million won' Grandeur Hybrid full option, good fuel efficiency, but is this price right? '60 million won' Grandeur Hybrid full option, good fuel efficiency, but is this price right? Recently, the price of the Grandeur has increased slightly as the model year has been changed to 2025. There was a lot of talk because the price increase was so large since the release of the previous full change, but in the end, it seems to be selling well, so there is nothing to say. IG Facelift Hybrid: 46,060,000 won 2023 GN7 Full Change Hybrid: 51,610,000 won 2025 Model: 53,730,000 won The above Grandeur Hybrid prices are based on the hybrid powertrain, the top trim Calligraphy, and Black Ink. Do you feel the price jump? Even at the time of the IG, it was in the mid-40 million won range, but now there is no Calligraphy under 50 million won. Grandeur Hybrid, why do people buy it? Why do people buy the Grandeur Hybrid? First of all, the Grandeur is Hyundai's flagship sedan. If you think about the image of recent Hyundai car models, there is a big difference in the luxurious image compared to the Sonata, which is just below. The proportion of people who used the Sonata in the past is similar to the proportion of people who use the Grandeur these days, and it is recognized as a suitable domestic sedan and compared to the previous model...\n",
      "'6천만원대' 그랜저 하이브리드 풀옵션, 연비 좋은데 이 가격이 맞을까? '6천만원대' 그랜저 하이브리드 풀옵션, 연비 좋은데 이 가격이 맞을까? 최근 그랜저는 모델 연도가 2025년으로 바뀌면서 가격이 소폭 상승했습니다. 이전 풀체인지 출시 이후 가격 인상이 워낙 커서 말이 많았지만 결국 잘 팔리는 듯하니 할 말이 없습니다. IG 페이스리프트 하이브리드: 46,060,000원 ​​2023 GN7 풀체인지 하이브리드: 51,610,000원 ​​2025모델: 53,730,000원 ​​위 그랜저 하이브리드 가격은 하이브리드 파워트레인 최상위 트림인 캘리그래피, 블랙잉크 기준입니다. 가격 상승을 느끼시나요? IG 당시만 해도 4천만원 중반대였지만 지금은 5천만원 이하 캘리그래피가 없습니다. 그랜저 하이브리드, 왜 사람들이 사나요? 왜 사람들이 그랜저 하이브리드를 사나요? 우선 그랜저는 현대자동차의 플래그십 세단입니다. 최근 현대차 모델들의 이미지를 떠올려보면 바로 아래에 있는 쏘나타와 비교하면 고급스러운 이미지에서 큰 차이가 있습니다. 과거에 쏘나타를 사용했던 사람들의 비율이 요즘 그랜저를 사용하는 사람들의 비율과 비슷하며, 국산 세단으로 인정받고 있으며 이전 모델과 비교했을 때...\n",
      "Is the Sonata full change a subversion? \"What if it's prettier than the Grandeur?\" Is the Sonata full change a subversion? \"What if it's prettier than the Grandeur!\" The Sonata, which began production at Hyundai Motor Company in 1985, is a front-wheel drive mid-size sedan that has been around for 39 years. It can be said to be Hyundai Motor Company's flagship model, and it is a very well-known vehicle that even people who are not interested in cars at all know about the Sonata. The model is called the Sonata 2, but it is classified as the 3rd generation, and production began in 1993. In my memory, the Sonata began with this model. Since I was interested in cars even before I was in elementary school, I realized that cars have names and memorized it as the Sonata. The 4th generation Sonata was released under the name EF, and I remember that the horizontal logo between the letters 'E' and 'F' was cool. The NF Sonata, which formed the two major mountains with the Roche when I was in high school. The YF, which caused a sensation in vehicle design. The LF, which was highly evaluated for its design perfection but had a light feel and was far from luxurious. The DN8, which had a good start but was weak in power due to the 1.6-liter gasoline engine and was criticized for its design. The K5...\n",
      "쏘나타 풀체인지는 전복일까? \"그랜저보다 예쁘면 어떨까?\" 쏘나타 풀체인지는 전복일까? \"그랜저보다 예쁘면 어떨까!\" 1985년 현대자동차에서 생산을 시작한 쏘나타는 39년째 전륜구동 중형 세단이다. 현대자동차의 주력 모델이라고 할 수 있으며, 자동차에 전혀 관심이 없는 사람들도 쏘나타에 대해 알고 있을 만큼 잘 알려진 차량이다. 이 모델의 이름은 쏘나타2지만 3세대로 분류되고 1993년부터 생산을 시작했다. 내 기억으로는 쏘나타는 이 모델부터 시작되었다. 초등학교 때부터 자동차에 관심이 많았던 나는 자동차에도 이름이 있다는 걸 깨닫고 쏘나타로 외웠다. 4세대 쏘나타는 EF라는 이름으로 출시되었는데, 'E'와 'F' 사이의 가로 로고가 멋졌던 기억이 난다. 고등학교 때 로슈와 함께 양대 산맥을 이루었던 NF 쏘나타. 차량 디자인에 센세이션을 일으킨 YF. 디자인 완벽성으로 높은 평가를 받았지만 가벼운 느낌이었고 고급스러움과는 거리가 먼 LF. 출발은 좋았지만 1.6리터 가솔린 엔진으로 파워가 약하고 디자인 때문에 비난을 받았던 DN8. K5...\n",
      "Genesis GV80 Black, GV80 Coupe Black Unveiled Genesis has unveiled the GV80 Black and GV80 Coupe Black, the brand's second black edition following the G90 Black. The black models added to the GV80 and GV80 Coupe are models that apply Genesis' authentic black design concept, 'Genesis Black'. Like the previously unveiled G90 Black, they are characterized by a black color that utilizes exclusive materials and specifications for all parts of the interior and exterior. By applying a captivating dark black theme to both the interior and exterior, the goal was to perfectly embody Genesis' design philosophy of Athletic Eleggance in its purest form. Let's take a look at the details of the GV80 Black and GV80 Coupe Black through the information released ahead of the launch. GV80 BLACK / GV80 COUPE BLACK The GV80 Black, like the previously introduced G90 Black, features black exterior elements large and small, as well as the weight and depth unique to the black color, further emphasizing the vehicle's unique body lines and shape. The GV80 Black features elements that were previously decorated with chrome, such as the radiator grille, bumper garnish, front emblem, DLO molding, roof rack, and rear bumper molding, as well as the headlamp interior...\n",
      "제네시스 GV80 블랙, GV80 쿠페 블랙 공개 제네시스가 G90 블랙에 이어 두 번째 블랙 에디션인 GV80 블랙과 GV80 쿠페 블랙을 공개했다. GV80과 GV80 쿠페에 추가된 블랙 모델은 제네시스의 정통 블랙 디자인 컨셉트인 '제네시스 블랙'을 적용한 모델이다. 이전에 공개된 G90 블랙과 마찬가지로 실내와 실외 모든 부분에 전용 소재와 사양을 활용한 블랙 컬러가 특징이다. 실내와 실외 모두에 매혹적인 다크 블랙 테마를 적용하여 제네시스의 디자인 철학인 Athletic Eleggance를 가장 순수한 형태로 완벽하게 구현하고자 했다. 출시에 앞서 공개된 정보를 통해 GV80 블랙과 GV80 쿠페 블랙의 세부 사항을 살펴보자. GV80 블랙 / GV80 쿠페 블랙 이전에 소개된 G90 블랙과 마찬가지로 GV80 블랙은 크고 작은 검은색 외장 요소와 검은색만의 무게와 깊이를 특징으로 하며, 차량의 독특한 차체 라인과 모양을 더욱 강조합니다. GV80 블랙은 라디에이터 그릴, 범퍼 가니시, 프런트 엠블럼, DLO 몰딩, 루프 랙, 리어 범퍼 몰딩과 같은 이전에 크롬으로 장식되었던 요소와 헤드램프 내부를 특징으로 합니다...\n",
      "The release date, specifications, fuel efficiency outlook, and expected image of the Kia compact SUV 2026 Seltos Hybrid Full Change SP3 The Kia compact SUV Seltos continues to be popular in the domestic market. Since its launch in 2019, cumulative sales have exceeded 240,000 units, overwhelming competing models. Since the recent launch of the 2025 Seltos, it seems to have further solidified its strong position in the compact SUV market. The advantage of the Seltos is its excellent cost-effectiveness. It provides the largest interior space in its class and allows you to feel a relatively comfortable ride in the back seat. In addition, it provides various convenient features such as advanced driving assistance systems and convenient connectivity functions. At the same time, the price is competitive compared to competing models. Currently, the most popular trim of the Kia Seltos is the Signature 2WD, which is priced at 27.5 million won. In the case of competing models, the price of the popular Kona trim is 31.2 million won, which is about 4 million won higher than the Seltos. Here, Kia plans to add a hybrid powertrain to the trim of the SUV Seltos full-change model to be released in the second half of next year. If the Seltos hybrid is released, Kia will build an electrified model across its entire lineup of five domestically sold SUV RVs. It is interpreted as an attempt to actively respond to the rapidly increasing demand for hybrids due to the electric vehicle slump...\n",
      "기아 소형 SUV 2026 셀토스 하이브리드 풀체인지 SP3 출시일, 제원, 연비 전망, 기대되는 이미지 기아 소형 SUV 셀토스는 국내 시장에서 꾸준한 인기를 누리고 있다. 2019년 출시 이후 누적 판매량이 24만대를 돌파하며 경쟁 모델을 압도했다. 최근 2025년 셀토스가 출시된 이후 소형 SUV 시장에서의 강력한 입지를 더욱 공고히 한 것으로 보인다. 셀토스의 장점은 뛰어난 가성비다. 동급 최대 실내 공간을 제공하며 뒷좌석에서도 비교적 편안한 승차감을 느낄 수 있다. 더불어 첨단 주행 보조 시스템, 편리한 커넥티비티 기능 등 다양한 편의 사양을 제공한다. 동시에 경쟁 모델에 비해 가격 경쟁력도 갖췄다. 현재 기아 셀토스의 가장 인기 있는 트림은 시그니처 2WD로, 가격은 2,750만원이다. 경쟁 모델의 경우 인기 있는 코나 트림의 가격은 3,120만원으로 셀토스보다 약 400만원 정도 높다. 여기에 기아차는 내년 하반기에 출시될 SUV 셀토스 풀체인지 모델의 트림에 하이브리드 파워트레인을 추가할 계획이다. 셀토스 하이브리드가 출시되면 기아차는 국내에서 판매되는 SUV RV 5종 전체 라인업에 전기화 모델을 구축한다. 전기차 침체로 인해 급증하는 하이브리드 수요에 적극 대응하려는 시도로 풀이된다...\n",
      "Genesis GV80 2.5 Gasoline AWD Basic, a more elegant and luxurious used car! What is the price?! Hello!^^* Used car specialist consultant! I'm Eunji Yoo from Car Sales~♥ An elegant and luxurious SUV! Now, it has risen to a position that is not at all inferior to the big three, right?^^~ The car I'm introducing today is the \"Genesis GV80 2.5 Gasoline AWD Basic\"!~ What is the price of a Genesis GV80 2.5 Gasoline AWD Basic used car??! 2022 model ★ First registration date October 2022 ★ Mileage 47,322KM ★ Transmission Auto ★ Fuel Gasoline ★ Color Black I'm curious about the price!!~ 65 million won!!! Have you searched by vehicle number on Encar? Then you know well^^~! The fact that this is a special benefit only for customers who visit the blog through the Chapa blog!!~★ Genesis GV80 2.5 Gasoline AWD Basic Vehicle Information!~ The Genesis GV80 2.5 Gasoline AWD Basic Vehicle seems to be one of the models that best shows the identity of the Genesis brand^^~! In particular, despite being a basic model, it is a popular vehicle among many people because it does not miss out on luxury and sophisticated design! The Genesis-specific crest grille and quad lamps leave a strong impression, and the overall voluminous design gives a stable feeling! The spacious and comfortable interior space is made of high-quality materials and s...\n",
      "제네시스 GV80 2.5 가솔린 AWD Basic, 더욱 우아하고 고급스러운 중고차! 가격은 얼마일까요?! 안녕하세요!^^* 중고차 전문 컨설턴트! 카세일즈의 유은지입니다~♥ 우아하고 고급스러운 SUV! 이제는 빅3에 전혀 뒤지지 않는 위치로 올라섰죠?^^~ 오늘 소개드릴 차량은 \"제네시스 GV80 2.5 가솔린 AWD Basic\"입니다!~ 제네시스 GV80 2.5 가솔린 AWD Basic 중고차 가격은 얼마일까요??! 2022년형 ★ 최초등록일 2022년 10월 ★ 주행거리 47,322KM ★ 변속기 자동 ★ 연료 가솔린 ★ 색상 블랙 가격이 궁금해요!!~ 6,500만원!!! 엔카에서 차량번호로 검색해보셨나요? 그럼 잘 아시죠^^~! 차파 블로그를 통해 방문해주신 고객님께만 드리는 특별한 혜택이라는 사실!!~★ 제네시스 GV80 2.5 가솔린 AWD 기본 차량 정보!~ 제네시스 GV80 2.5 가솔린 AWD 기본 차량은 제네시스 브랜드의 아이덴티티를 가장 잘 보여주는 모델 중 하나인 듯합니다^^~! 특히 기본 모델임에도 불구하고 고급스러움과 세련된 디자인을 놓치지 않아 많은 분들에게 인기 있는 차량입니다! 제네시스 특유의 크레스트 그릴과 쿼드램프가 강렬한 인상을 남기고, 전체적으로 볼륨감 있는 디자인이 안정감을 줍니다! 넓고 편안한 실내 공간은 고급 소재와 s...\n",
      "Carnival facelift ambient interior full work #Carnivaltransformation #Carnivalambient #Willambientbeadded? #Isambientlandfillpossible? #Ambientadditionallandfill #Ambient Hello, everyone. This is Motoshte Bucheon Center that wanders around looking for light at night! Why do we look for light so much? The days are getting shorter~🥲 The time when it gets dark quickly has finally come! It's already dark at 7 o'clock, but it's so dark without light that I miss bright light? What you need at times like this is LED ambient light! #The #LED light of #Ambient, which is #presented to #ka4ferry, is #ecstatic #A #Must-have-item-for-Carnival #Hot-popular-item The spacious interior of the Carnival facelift is darker on days like this, right?! The LED ambient light is even more necessary in times like these~😎 Carnival facelift members who have traveled 30,000 miles in search of light like me! Motoshute helped with tuning the interior with a clean ambient light that was fully worked on. #WideEffect #BrightEffect #WithLEDLight #WithAcrylicEmbedding #Making The interior of the Carnival Ferry filled with clear and bright LED lights.. Isn't it possible that no other tuning is needed?!😮 The Carnival Ferry has become totally cool❤️ #BucheonAmbient #CarnivalAmbient #IncheonAmbient #Acrylic #CupHolder #JogDial App Linkage...\n",
      "카니발 페이스리프트 앰비언트 인테리어 풀작업 #카니발트랜스포메이션 #카니발앰비언트 #앰비언트추가? #앰비언트매립가능할까 #앰비언트추가매립 #앰비언트 안녕하세요 여러분. 밤에 빛을 찾아 헤매는 모토스테 부천센터입니다! 왜 이렇게 빛을 찾는 걸까요? 날이 점점 짧아지네요~🥲 드디어 금세 어두워지는 시간이 왔습니다! 벌써 7시가 되어 어두워졌지만, 빛이 없어 너무 어두워서 밝은 빛이 그리워요? 이럴 때 필요한 건 LED 앰비언트 라이트! #카포페리 에 #선물한 #앰비언트의 #LED조명은 #황홀해요 #카니발 #필수아이템 #인기아이템 카니발 페이스리프트의 널찍한 실내는 이런 날은 더 어둡죠?! 이런 때일수록 LED 앰비언트 라이트가 더 필요하죠~😎 저처럼 빛을 찾아 3만 마일을 여행한 카니발 페이스리프트 멤버들! 모토슈트가 완벽하게 작업된 깨끗한 앰비언트 라이트로 실내 튜닝을 도와줬어요. #와이드이펙트 #브라이트이펙트 #LED조명포함 #아크릴임베딩포함 #메이킹 맑고 밝은 LED 조명으로 가득 찬 카니발 페리의 실내.. 다른 튜닝이 필요 없을 수 있을까요?!😮 카니발 페리가 완전 멋져졌어요❤️ #부천앰비언트 #카니발앰비언트 #인천앰비언트 #아크릴 #컵홀더 #조그다이얼 앱 연동...\n",
      "Busan long-term rental car, BMW320D new car long-term rental release [Next Car] Hello, I am the team leader of Next Car, a Busan long-term rental car specialist. In this post, I will tell you in detail about the BMW 320D new car long-term rental release review conducted by Next Car. The BMW 320D is a model preferred by many customers, and it is a popular vehicle that many customers leave inquiries about. In this post, we will take the time to tell you about the process of new car long-term rental and the advantages of Next Car. Next Car, a Busan long-term rental car specialist, is a new car long-term rental and auto lease specialist company, and through agreements with all rental and leasing companies in Korea, we provide new car long-term rental and auto lease services at the best conditions for customers. We help you compare prices and receive services at favorable conditions for customers. We delivered the BMW 320D model released by Next Car according to the customer's desired options and departure time. New car long-term rental is a service that complements the shortcomings of existing long-term rentals, allowing customers to select vehicles and options as they wish, and helping to ensure that there is no inconvenience in managing and maintaining the vehicle. We deliver new vehicles with the desired vehicle model and options to customers...\n",
      "부산 장기렌터카, BMW320D 신차 장기렌터카 출고 후기 [넥스트카] 안녕하세요, 부산 장기렌터카 전문 넥스트카의 팀장입니다. 이번 포스팅에서는 넥스트카에서 진행한 BMW 320D 신차 장기렌터카 출고 후기에 대해 자세히 알려드리겠습니다. BMW 320D는 많은 고객님들이 선호하는 모델로, 많은 고객님들이 문의를 남겨주시는 인기 차량입니다. 이번 포스팅에서는 신차 장기렌터카의 진행 과정과 넥스트카의 장점에 대해 알려드리겠습니다. 부산 장기렌터카 전문 넥스트카는 신차 장기렌터카 및 자동차리스 전문 기업으로, 국내 모든 렌털 및 리스 회사와 협정을 통해 고객에게 최상의 조건으로 신차 장기렌터카 및 자동차리스 서비스를 제공하고 있습니다. 가격을 비교하고 고객에게 유리한 조건으로 서비스를 받으실 수 있도록 도와드립니다. 고객님께서 원하시는 옵션과 출고 시간에 맞춰 넥스트카에서 출고한 BMW 320D 모델을 출고해드렸습니다. 신차 장기렌터카는 기존 장기렌터카의 단점을 보완하여 고객이 원하는 차량과 옵션을 선택할 수 있도록 하며, 차량 관리 및 유지에 불편함이 없도록 돕는 서비스입니다. 원하는 차량 모델과 옵션이 있는 신차를 고객에게 전달해 드립니다...\n",
      "\"Cheaper than the G80!\" What is the actual purchase price of the 2024 Audi A6? Audi A6 Recently, Audi's service centers have been closing down one after another. As a result, existing Audi owners are worried. Recently, Audi's sales have been low, so there have been closures like this. Since Audi models have been sold a lot in the domestic market, it is expected that existing owners will have to make longer service center reservations. Audi has been releasing new cars one after another recently. The new A5 and Q5 full-change models have been released, and the electric A6 e-tron has also been released. The unfortunate thing is that the A6 full-change model, which is the best-selling in the domestic market, has not been released yet. According to the news, the internal combustion engine A6 full-change model will be released next year under the new name A7. In the meantime, it seems that sales will not be easy in the future as it will have to continue to compete with the current C8 model. Audi has released the 2024 A6. The biggest change is a slight change in the exterior. And the trims were divided through product improvement. Let's take a look at how they have changed. The 24-year-old Audi A6 first has a changed front single-frame grille design. Previously, the grille pattern applied in a straight line...\n",
      "\"G80보다 싸다!\" 2024년형 아우디 A6 실제 구매 가격은? 아우디 A6 최근 아우디의 서비스센터들이 잇따라 문을 닫고 있다. 이로 인해 기존 아우디 오너들은 걱정이 많다. 최근 아우디의 판매량이 저조해 이런 식의 폐차가 잇따랐다. 국내 시장에서 아우디 모델이 많이 팔렸기 때문에 기존 오너들은 서비스센터 예약을 더 길게 해야 할 것으로 예상된다. 아우디는 최근 잇따라 신차를 출시하고 있다. 새로운 A5와 Q5 풀체인지 모델이 출시되었고, 전기 A6 e-tron도 출시되었다. 아쉽게도 국내 시장에서 베스트셀러인 A6 풀체인지 모델은 아직 출시되지 않았다. 소식에 따르면 내연기관 A6 풀체인지 모델은 내년에 새로운 이름인 A7로 출시될 예정이다. 그동안 현재의 C8 모델과 계속 경쟁해야 하기 때문에 앞으로 판매가 쉽지 않을 것으로 보인다. 아우디가 2024년형 A6를 출시했습니다. 가장 큰 변화는 외관의 약간의 변화입니다. 그리고 트림은 제품 개선을 통해 나뉘었습니다. 어떻게 바뀌었는지 살펴보겠습니다. 24년형 아우디 A6는 먼저 전면 싱글 프레임 그릴 디자인이 변경되었습니다. 이전에는 직선으로 적용된 그릴 패턴이...\n",
      "Test drive of the spacious KGM SUV electric vehicle Torres EVX I have been driving an electric vehicle for over 3 years. There is still no groundbreaking change in technology, but still, various electric vehicles are released every year, so I try to find out new things through test drives. The reason I made a test drive reservation for the first time in the morning of the KGM Torres EVX that I test drove a few days ago is this. The test drive vehicle was well-maintained, and since it is an electric vehicle, I expected it to be 100% charged, so I wanted to check the driving range. As expected, it was 99% charged. It was 100% charged, but they said that the battery decreased by 1% due to the air conditioning while preparing for the test drive. The driving range of the Torres EVX is listed as 424 km. The temperature was 20 degrees Celsius. The last time I test drove the Actyon, what was inconvenient was the absence of physical buttons. There were some things that I was not familiar with in terms of use, and if you use it a lot, you can use the functions by swiping down the top of the AVN monitor. The smartphone holder on the console is well-made. The Genesis GV60 also has this function, but there is no wireless charging function in this area. The wireless charging is located right in front of the console box, which is not at the driver's eye level. I have seen and written about the exterior several times, so I am...\n",
      "넓은 공간의 KGM SUV 전기차 토레스 EVX 시승기 저는 3년 넘게 전기차를 운전해왔습니다.아직 기술적으로 획기적인 변화는 없지만, 그래도 매년 다양한 전기차가 출시되고 있어서 시승기를 통해 새로운 것을 알아가려고 노력합니다.며칠 전 시승했던 KGM 토레스 EVX의 아침에 처음으로 시승 예약을 한 이유는 이겁니다.시승 차량은 정비가 잘 되어 있었고, 전기차이기 때문에 100% 충전되어 있을 것으로 예상했기 때문에 주행거리를 ​​확인하고 싶었습니다.예상대로 99% 충전되어 있었습니다.100% 충전되었지만 시승을 준비하면서 에어컨으로 인해 배터리가 1% 감소했다고 합니다.토레스 EVX의 주행거리는 424km로 나와있습니다.온도는 섭씨 20도였습니다.지난번 액티언 시승 때 불편했던 점은 물리적 버튼이 없다는 것이었습니다. 사용상 익숙하지 않은 부분이 몇 가지 있었는데, 많이 사용한다면 AVN 모니터 상단을 아래로 쓸어내리면 기능을 사용할 수 있습니다. 콘솔에 있는 스마트폰 홀더는 잘 만들어졌습니다. 제네시스 GV60도 이 기능이 있지만 이 부분에는 무선 충전 기능이 없습니다. 무선 충전은 운전자의 눈높이가 아닌 콘솔 박스 바로 앞에 있습니다. 외관은 여러 번 보고 썼기 때문에...\n"
     ]
    }
   ],
   "source": [
    "# 데이터 증강\n",
    "translated_korean_list = []\n",
    "\n",
    "for index, text in enumerate(all_data):\n",
    "    english = GoogleTranslator(source='ko', target='en').translate(text)\n",
    "    if index % 30 == 0:\n",
    "        print(english)\n",
    "    korean = GoogleTranslator(source='en', target='ko').translate(english)\n",
    "    if index % 30 == 0:\n",
    "        print(korean)\n",
    "    translated_korean_list.append(korean)"
   ]
  },
  {
   "cell_type": "code",
   "execution_count": 45,
   "metadata": {},
   "outputs": [
    {
     "data": {
      "text/plain": [
       "(1118, 1118)"
      ]
     },
     "execution_count": 45,
     "metadata": {},
     "output_type": "execute_result"
    }
   ],
   "source": [
    "label_list3 = ([4] * 218 + [5] * 300 + [6] * 300 + [7] * 300)\n",
    "len(translated_korean_list), len(label_list3)"
   ]
  },
  {
   "cell_type": "code",
   "execution_count": 46,
   "metadata": {},
   "outputs": [],
   "source": [
    "total_clean_text = []\n",
    "for i in translated_korean_list:\n",
    "    token = Okt().morphs(i)\n",
    "    clean_text = remove_stopwords(token, 'stopword.txt')\n",
    "    clean_text = remove_punctuation(clean_text)\n",
    "    total_clean_text.append(' '.join(clean_text))\n",
    "\n",
    "df = pd.DataFrame({'clean_text' : total_clean_text,\n",
    "                   'label' : label_list3})\n",
    "\n",
    "df.to_csv('clean_text3.csv', index=False)"
   ]
  },
  {
   "cell_type": "code",
   "execution_count": 48,
   "metadata": {},
   "outputs": [
    {
     "data": {
      "text/html": [
       "<div>\n",
       "<style scoped>\n",
       "    .dataframe tbody tr th:only-of-type {\n",
       "        vertical-align: middle;\n",
       "    }\n",
       "\n",
       "    .dataframe tbody tr th {\n",
       "        vertical-align: top;\n",
       "    }\n",
       "\n",
       "    .dataframe thead th {\n",
       "        text-align: right;\n",
       "    }\n",
       "</style>\n",
       "<table border=\"1\" class=\"dataframe\">\n",
       "  <thead>\n",
       "    <tr style=\"text-align: right;\">\n",
       "      <th></th>\n",
       "      <th>clean_text</th>\n",
       "      <th>label</th>\n",
       "    </tr>\n",
       "  </thead>\n",
       "  <tbody>\n",
       "    <tr>\n",
       "      <th>0</th>\n",
       "      <td>산청 펜션 맑은 하늘 펜션 자연 의 평온한 분위기 산청 펜션 맑은 하늘 펜션 자연 ...</td>\n",
       "      <td>0</td>\n",
       "    </tr>\n",
       "    <tr>\n",
       "      <th>1</th>\n",
       "      <td>대구 정원 박람회 대구 금호강 하중도 금호 꽃섬 코스모스 댑싸리 기본 정보 일정 주...</td>\n",
       "      <td>0</td>\n",
       "    </tr>\n",
       "    <tr>\n",
       "      <th>2</th>\n",
       "      <td>쭈꾸미 배 낚시 가격 태안 대박 호펜션 쭈꾸미 낚시 체험 예약 쭈꾸미 배 낚시 가격...</td>\n",
       "      <td>0</td>\n",
       "    </tr>\n",
       "    <tr>\n",
       "      <th>3</th>\n",
       "      <td>서귀포 배 낚시 후기 서귀포 바다 배 낚시 체험 광고 가 포함 된 리뷰 입니다 안녕...</td>\n",
       "      <td>0</td>\n",
       "    </tr>\n",
       "    <tr>\n",
       "      <th>4</th>\n",
       "      <td>성수 타이레놀 팝업 스토어 후기 나 만의 잡지 선물 오늘 의 팝업 여행 은 타이레놀...</td>\n",
       "      <td>0</td>\n",
       "    </tr>\n",
       "    <tr>\n",
       "      <th>...</th>\n",
       "      <td>...</td>\n",
       "      <td>...</td>\n",
       "    </tr>\n",
       "    <tr>\n",
       "      <th>1113</th>\n",
       "      <td>현대 투싼 하이브리드 인스피 레이 션 소형차 로는 너무 넓고 SUV 로는 연비 가 ...</td>\n",
       "      <td>7</td>\n",
       "    </tr>\n",
       "    <tr>\n",
       "      <th>1114</th>\n",
       "      <td>원 이 넘지만 전 세계 적 으로 판매 되지 않는 고급 SUV 가 있습니다 바로 랜드...</td>\n",
       "      <td>7</td>\n",
       "    </tr>\n",
       "    <tr>\n",
       "      <th>1115</th>\n",
       "      <td>기아 카니발 하이 리무진 인승 을 빠르게 배송 하는 방법 기아 카니발 하이 리무진 ...</td>\n",
       "      <td>7</td>\n",
       "    </tr>\n",
       "    <tr>\n",
       "      <th>1116</th>\n",
       "      <td>대구 자율 주행 교육 초보자 에서 베테 랑 까지 안녕하세요 대 구 자율 주행 교육 ...</td>\n",
       "      <td>7</td>\n",
       "    </tr>\n",
       "    <tr>\n",
       "      <th>1117</th>\n",
       "      <td>현대 기아차 유리 수리 신규 매뉴얼 이 공개 되었습니다 안녕하세요 글로벌 오토 글라...</td>\n",
       "      <td>7</td>\n",
       "    </tr>\n",
       "  </tbody>\n",
       "</table>\n",
       "<p>10400 rows × 2 columns</p>\n",
       "</div>"
      ],
      "text/plain": [
       "                                             clean_text  label\n",
       "0     산청 펜션 맑은 하늘 펜션 자연 의 평온한 분위기 산청 펜션 맑은 하늘 펜션 자연 ...      0\n",
       "1     대구 정원 박람회 대구 금호강 하중도 금호 꽃섬 코스모스 댑싸리 기본 정보 일정 주...      0\n",
       "2     쭈꾸미 배 낚시 가격 태안 대박 호펜션 쭈꾸미 낚시 체험 예약 쭈꾸미 배 낚시 가격...      0\n",
       "3     서귀포 배 낚시 후기 서귀포 바다 배 낚시 체험 광고 가 포함 된 리뷰 입니다 안녕...      0\n",
       "4     성수 타이레놀 팝업 스토어 후기 나 만의 잡지 선물 오늘 의 팝업 여행 은 타이레놀...      0\n",
       "...                                                 ...    ...\n",
       "1113  현대 투싼 하이브리드 인스피 레이 션 소형차 로는 너무 넓고 SUV 로는 연비 가 ...      7\n",
       "1114  원 이 넘지만 전 세계 적 으로 판매 되지 않는 고급 SUV 가 있습니다 바로 랜드...      7\n",
       "1115  기아 카니발 하이 리무진 인승 을 빠르게 배송 하는 방법 기아 카니발 하이 리무진 ...      7\n",
       "1116  대구 자율 주행 교육 초보자 에서 베테 랑 까지 안녕하세요 대 구 자율 주행 교육 ...      7\n",
       "1117  현대 기아차 유리 수리 신규 매뉴얼 이 공개 되었습니다 안녕하세요 글로벌 오토 글라...      7\n",
       "\n",
       "[10400 rows x 2 columns]"
      ]
     },
     "execution_count": 48,
     "metadata": {},
     "output_type": "execute_result"
    }
   ],
   "source": [
    "df = pd.read_csv('clean_text.csv')\n",
    "df2 = pd.read_csv('clean_text2.csv')\n",
    "df3 = pd.read_csv('clean_text3.csv')\n",
    "total_df = pd.concat([df, df2, df3])\n",
    "total_df"
   ]
  },
  {
   "cell_type": "code",
   "execution_count": 50,
   "metadata": {},
   "outputs": [
    {
     "data": {
      "text/plain": [
       "label\n",
       "0    1300\n",
       "1    1300\n",
       "2    1300\n",
       "3    1300\n",
       "4    1300\n",
       "5    1300\n",
       "6    1300\n",
       "7    1300\n",
       "Name: count, dtype: int64"
      ]
     },
     "execution_count": 50,
     "metadata": {},
     "output_type": "execute_result"
    }
   ],
   "source": [
    "total_df['label'].value_counts()"
   ]
  },
  {
   "cell_type": "code",
   "execution_count": 51,
   "metadata": {},
   "outputs": [],
   "source": [
    "# 훈련, 검증, 테스트 데이터 분리\n",
    "featureDF = total_df[['clean_text']]\n",
    "targetDF = total_df[['label']]\n",
    "\n",
    "train_inputDF, test_inputDF, train_targetDF, test_targetDF = train_test_split(featureDF, targetDF,\n",
    "                                                                      stratify = targetDF,\n",
    "                                                                      train_size = 0.8, random_state = 42)\n",
    "train_inputDF, valid_inputDF, train_targetDF, valid_targetDF = train_test_split(train_inputDF, train_targetDF,\n",
    "                                                                        stratify = train_targetDF,\n",
    "                                                                        train_size = 0.8, random_state = 42)"
   ]
  },
  {
   "cell_type": "code",
   "execution_count": 52,
   "metadata": {},
   "outputs": [
    {
     "name": "stdout",
     "output_type": "stream",
     "text": [
      "[train] input : (6656, 1), target : (6656, 1)\n",
      "[valid] input : (1664, 1), target : (1664, 1)\n",
      "[test] input : (2080, 1), target : (2080, 1)\n"
     ]
    }
   ],
   "source": [
    "print(f\"[train] input : {train_inputDF.shape}, target : {train_targetDF.shape}\")\n",
    "print(f\"[valid] input : {valid_inputDF.shape}, target : {valid_targetDF.shape}\")\n",
    "print(f\"[test] input : {test_inputDF.shape}, target : {test_targetDF.shape}\")"
   ]
  },
  {
   "cell_type": "code",
   "execution_count": 53,
   "metadata": {},
   "outputs": [],
   "source": [
    "vectorizer = TfidfVectorizer(max_features = 8000) \n",
    "a = []\n",
    "b = vectorizer.fit_transform(train_inputDF['clean_text'])\n",
    "for i in b:\n",
    "    a.append(i)\n",
    "    break"
   ]
  },
  {
   "cell_type": "code",
   "execution_count": 54,
   "metadata": {},
   "outputs": [
    {
     "name": "stdout",
     "output_type": "stream",
     "text": [
      "  (0, 2383)\t0.07046606062755476\n",
      "  (0, 4311)\t0.08222779525874647\n",
      "  (0, 5674)\t0.04746620369163983\n",
      "  (0, 1288)\t0.08618864753342367\n",
      "  (0, 7706)\t0.05137681709333266\n",
      "  (0, 4169)\t0.07440029502745549\n",
      "  (0, 4400)\t0.056386405455272\n",
      "  (0, 3464)\t0.041203718910873675\n",
      "  (0, 213)\t0.050335247760252\n",
      "  (0, 5349)\t0.059138871590154116\n",
      "  (0, 5377)\t0.05361647631393169\n",
      "  (0, 1416)\t0.049828906271078346\n",
      "  (0, 431)\t0.04562796534061141\n",
      "  (0, 434)\t0.05836241202796319\n",
      "  (0, 2348)\t0.06685068721399119\n",
      "  (0, 207)\t0.09432575233427447\n",
      "  (0, 474)\t0.044442004391343354\n",
      "  (0, 743)\t0.08184557820053562\n",
      "  (0, 4526)\t0.08723021686650433\n",
      "  (0, 1825)\t0.0740584668226097\n",
      "  (0, 4422)\t0.05893063701425215\n",
      "  (0, 5759)\t0.09665292929214285\n",
      "  (0, 6284)\t0.07245660158200781\n",
      "  (0, 1418)\t0.09193708133048538\n",
      "  (0, 5455)\t0.10776113288600879\n",
      "  :\t:\n",
      "  (0, 4731)\t0.019636904407904048\n",
      "  (0, 1945)\t0.065197311503925\n",
      "  (0, 6674)\t0.07577751414330884\n",
      "  (0, 2972)\t0.15326204980986677\n",
      "  (0, 7436)\t0.052273127882542\n",
      "  (0, 4928)\t0.08743048068495989\n",
      "  (0, 7017)\t0.22855485284288815\n",
      "  (0, 6794)\t0.16369115640107124\n",
      "  (0, 2018)\t0.06862883030693433\n",
      "  (0, 216)\t0.105591287755668\n",
      "  (0, 5490)\t0.04184345284489385\n",
      "  (0, 6245)\t0.04305072766168062\n",
      "  (0, 503)\t0.05420974586985201\n",
      "  (0, 4829)\t0.09390046315726075\n",
      "  (0, 4943)\t0.07276366506392039\n",
      "  (0, 2111)\t0.07166704820439863\n",
      "  (0, 6965)\t0.06428576097404629\n",
      "  (0, 3358)\t0.07011495718901233\n",
      "  (0, 4100)\t0.09523085035731277\n",
      "  (0, 4897)\t0.09885379517376991\n",
      "  (0, 3349)\t0.09269207701746567\n",
      "  (0, 7592)\t0.08894111366830577\n",
      "  (0, 5217)\t0.6556654272120961\n",
      "  (0, 2468)\t0.047563289347129646\n",
      "  (0, 3271)\t0.06353795867711003\n"
     ]
    }
   ],
   "source": [
    "for i in a:\n",
    "    print(i)"
   ]
  },
  {
   "cell_type": "code",
   "execution_count": 55,
   "metadata": {},
   "outputs": [
    {
     "data": {
      "text/plain": [
       "['tfid_vectorizer_5000.pkl']"
      ]
     },
     "execution_count": 55,
     "metadata": {},
     "output_type": "execute_result"
    }
   ],
   "source": [
    "vectorizer = TfidfVectorizer(max_features = 5000) # 최대 8000개의 특징 선택\n",
    "train_vectors = vectorizer.fit_transform(train_inputDF['clean_text']).toarray()\n",
    "valid_vectors = vectorizer.transform(valid_inputDF['clean_text']).toarray()\n",
    "test_vectors = vectorizer.transform(test_inputDF['clean_text']).toarray()\n",
    "\n",
    "joblib.dump(vectorizer, 'tfid_vectorizer_5000.pkl')"
   ]
  },
  {
   "cell_type": "code",
   "execution_count": 56,
   "metadata": {},
   "outputs": [
    {
     "data": {
      "text/html": [
       "<div>\n",
       "<style scoped>\n",
       "    .dataframe tbody tr th:only-of-type {\n",
       "        vertical-align: middle;\n",
       "    }\n",
       "\n",
       "    .dataframe tbody tr th {\n",
       "        vertical-align: top;\n",
       "    }\n",
       "\n",
       "    .dataframe thead th {\n",
       "        text-align: right;\n",
       "    }\n",
       "</style>\n",
       "<table border=\"1\" class=\"dataframe\">\n",
       "  <thead>\n",
       "    <tr style=\"text-align: right;\">\n",
       "      <th></th>\n",
       "      <th>0</th>\n",
       "      <th>1</th>\n",
       "      <th>2</th>\n",
       "      <th>3</th>\n",
       "      <th>4</th>\n",
       "      <th>5</th>\n",
       "      <th>6</th>\n",
       "      <th>7</th>\n",
       "      <th>8</th>\n",
       "      <th>9</th>\n",
       "      <th>...</th>\n",
       "      <th>4990</th>\n",
       "      <th>4991</th>\n",
       "      <th>4992</th>\n",
       "      <th>4993</th>\n",
       "      <th>4994</th>\n",
       "      <th>4995</th>\n",
       "      <th>4996</th>\n",
       "      <th>4997</th>\n",
       "      <th>4998</th>\n",
       "      <th>4999</th>\n",
       "    </tr>\n",
       "  </thead>\n",
       "  <tbody>\n",
       "    <tr>\n",
       "      <th>0</th>\n",
       "      <td>0.0</td>\n",
       "      <td>0.0</td>\n",
       "      <td>0.0</td>\n",
       "      <td>0.0</td>\n",
       "      <td>0.0</td>\n",
       "      <td>0.0</td>\n",
       "      <td>0.000000</td>\n",
       "      <td>0.0</td>\n",
       "      <td>0.0</td>\n",
       "      <td>0.0</td>\n",
       "      <td>...</td>\n",
       "      <td>0.0</td>\n",
       "      <td>0.0</td>\n",
       "      <td>0.0</td>\n",
       "      <td>0.0</td>\n",
       "      <td>0.0</td>\n",
       "      <td>0.0</td>\n",
       "      <td>0.0</td>\n",
       "      <td>0.0</td>\n",
       "      <td>0.0</td>\n",
       "      <td>0.0</td>\n",
       "    </tr>\n",
       "    <tr>\n",
       "      <th>1</th>\n",
       "      <td>0.0</td>\n",
       "      <td>0.0</td>\n",
       "      <td>0.0</td>\n",
       "      <td>0.0</td>\n",
       "      <td>0.0</td>\n",
       "      <td>0.0</td>\n",
       "      <td>0.000000</td>\n",
       "      <td>0.0</td>\n",
       "      <td>0.0</td>\n",
       "      <td>0.0</td>\n",
       "      <td>...</td>\n",
       "      <td>0.0</td>\n",
       "      <td>0.0</td>\n",
       "      <td>0.0</td>\n",
       "      <td>0.0</td>\n",
       "      <td>0.0</td>\n",
       "      <td>0.0</td>\n",
       "      <td>0.0</td>\n",
       "      <td>0.0</td>\n",
       "      <td>0.0</td>\n",
       "      <td>0.0</td>\n",
       "    </tr>\n",
       "    <tr>\n",
       "      <th>2</th>\n",
       "      <td>0.0</td>\n",
       "      <td>0.0</td>\n",
       "      <td>0.0</td>\n",
       "      <td>0.0</td>\n",
       "      <td>0.0</td>\n",
       "      <td>0.0</td>\n",
       "      <td>0.000000</td>\n",
       "      <td>0.0</td>\n",
       "      <td>0.0</td>\n",
       "      <td>0.0</td>\n",
       "      <td>...</td>\n",
       "      <td>0.0</td>\n",
       "      <td>0.0</td>\n",
       "      <td>0.0</td>\n",
       "      <td>0.0</td>\n",
       "      <td>0.0</td>\n",
       "      <td>0.0</td>\n",
       "      <td>0.0</td>\n",
       "      <td>0.0</td>\n",
       "      <td>0.0</td>\n",
       "      <td>0.0</td>\n",
       "    </tr>\n",
       "    <tr>\n",
       "      <th>3</th>\n",
       "      <td>0.0</td>\n",
       "      <td>0.0</td>\n",
       "      <td>0.0</td>\n",
       "      <td>0.0</td>\n",
       "      <td>0.0</td>\n",
       "      <td>0.0</td>\n",
       "      <td>0.000000</td>\n",
       "      <td>0.0</td>\n",
       "      <td>0.0</td>\n",
       "      <td>0.0</td>\n",
       "      <td>...</td>\n",
       "      <td>0.0</td>\n",
       "      <td>0.0</td>\n",
       "      <td>0.0</td>\n",
       "      <td>0.0</td>\n",
       "      <td>0.0</td>\n",
       "      <td>0.0</td>\n",
       "      <td>0.0</td>\n",
       "      <td>0.0</td>\n",
       "      <td>0.0</td>\n",
       "      <td>0.0</td>\n",
       "    </tr>\n",
       "    <tr>\n",
       "      <th>4</th>\n",
       "      <td>0.0</td>\n",
       "      <td>0.0</td>\n",
       "      <td>0.0</td>\n",
       "      <td>0.0</td>\n",
       "      <td>0.0</td>\n",
       "      <td>0.0</td>\n",
       "      <td>0.000000</td>\n",
       "      <td>0.0</td>\n",
       "      <td>0.0</td>\n",
       "      <td>0.0</td>\n",
       "      <td>...</td>\n",
       "      <td>0.0</td>\n",
       "      <td>0.0</td>\n",
       "      <td>0.0</td>\n",
       "      <td>0.0</td>\n",
       "      <td>0.0</td>\n",
       "      <td>0.0</td>\n",
       "      <td>0.0</td>\n",
       "      <td>0.0</td>\n",
       "      <td>0.0</td>\n",
       "      <td>0.0</td>\n",
       "    </tr>\n",
       "    <tr>\n",
       "      <th>...</th>\n",
       "      <td>...</td>\n",
       "      <td>...</td>\n",
       "      <td>...</td>\n",
       "      <td>...</td>\n",
       "      <td>...</td>\n",
       "      <td>...</td>\n",
       "      <td>...</td>\n",
       "      <td>...</td>\n",
       "      <td>...</td>\n",
       "      <td>...</td>\n",
       "      <td>...</td>\n",
       "      <td>...</td>\n",
       "      <td>...</td>\n",
       "      <td>...</td>\n",
       "      <td>...</td>\n",
       "      <td>...</td>\n",
       "      <td>...</td>\n",
       "      <td>...</td>\n",
       "      <td>...</td>\n",
       "      <td>...</td>\n",
       "      <td>...</td>\n",
       "    </tr>\n",
       "    <tr>\n",
       "      <th>6651</th>\n",
       "      <td>0.0</td>\n",
       "      <td>0.0</td>\n",
       "      <td>0.0</td>\n",
       "      <td>0.0</td>\n",
       "      <td>0.0</td>\n",
       "      <td>0.0</td>\n",
       "      <td>0.000000</td>\n",
       "      <td>0.0</td>\n",
       "      <td>0.0</td>\n",
       "      <td>0.0</td>\n",
       "      <td>...</td>\n",
       "      <td>0.0</td>\n",
       "      <td>0.0</td>\n",
       "      <td>0.0</td>\n",
       "      <td>0.0</td>\n",
       "      <td>0.0</td>\n",
       "      <td>0.0</td>\n",
       "      <td>0.0</td>\n",
       "      <td>0.0</td>\n",
       "      <td>0.0</td>\n",
       "      <td>0.0</td>\n",
       "    </tr>\n",
       "    <tr>\n",
       "      <th>6652</th>\n",
       "      <td>0.0</td>\n",
       "      <td>0.0</td>\n",
       "      <td>0.0</td>\n",
       "      <td>0.0</td>\n",
       "      <td>0.0</td>\n",
       "      <td>0.0</td>\n",
       "      <td>0.000000</td>\n",
       "      <td>0.0</td>\n",
       "      <td>0.0</td>\n",
       "      <td>0.0</td>\n",
       "      <td>...</td>\n",
       "      <td>0.0</td>\n",
       "      <td>0.0</td>\n",
       "      <td>0.0</td>\n",
       "      <td>0.0</td>\n",
       "      <td>0.0</td>\n",
       "      <td>0.0</td>\n",
       "      <td>0.0</td>\n",
       "      <td>0.0</td>\n",
       "      <td>0.0</td>\n",
       "      <td>0.0</td>\n",
       "    </tr>\n",
       "    <tr>\n",
       "      <th>6653</th>\n",
       "      <td>0.0</td>\n",
       "      <td>0.0</td>\n",
       "      <td>0.0</td>\n",
       "      <td>0.0</td>\n",
       "      <td>0.0</td>\n",
       "      <td>0.0</td>\n",
       "      <td>0.124929</td>\n",
       "      <td>0.0</td>\n",
       "      <td>0.0</td>\n",
       "      <td>0.0</td>\n",
       "      <td>...</td>\n",
       "      <td>0.0</td>\n",
       "      <td>0.0</td>\n",
       "      <td>0.0</td>\n",
       "      <td>0.0</td>\n",
       "      <td>0.0</td>\n",
       "      <td>0.0</td>\n",
       "      <td>0.0</td>\n",
       "      <td>0.0</td>\n",
       "      <td>0.0</td>\n",
       "      <td>0.0</td>\n",
       "    </tr>\n",
       "    <tr>\n",
       "      <th>6654</th>\n",
       "      <td>0.0</td>\n",
       "      <td>0.0</td>\n",
       "      <td>0.0</td>\n",
       "      <td>0.0</td>\n",
       "      <td>0.0</td>\n",
       "      <td>0.0</td>\n",
       "      <td>0.000000</td>\n",
       "      <td>0.0</td>\n",
       "      <td>0.0</td>\n",
       "      <td>0.0</td>\n",
       "      <td>...</td>\n",
       "      <td>0.0</td>\n",
       "      <td>0.0</td>\n",
       "      <td>0.0</td>\n",
       "      <td>0.0</td>\n",
       "      <td>0.0</td>\n",
       "      <td>0.0</td>\n",
       "      <td>0.0</td>\n",
       "      <td>0.0</td>\n",
       "      <td>0.0</td>\n",
       "      <td>0.0</td>\n",
       "    </tr>\n",
       "    <tr>\n",
       "      <th>6655</th>\n",
       "      <td>0.0</td>\n",
       "      <td>0.0</td>\n",
       "      <td>0.0</td>\n",
       "      <td>0.0</td>\n",
       "      <td>0.0</td>\n",
       "      <td>0.0</td>\n",
       "      <td>0.000000</td>\n",
       "      <td>0.0</td>\n",
       "      <td>0.0</td>\n",
       "      <td>0.0</td>\n",
       "      <td>...</td>\n",
       "      <td>0.0</td>\n",
       "      <td>0.0</td>\n",
       "      <td>0.0</td>\n",
       "      <td>0.0</td>\n",
       "      <td>0.0</td>\n",
       "      <td>0.0</td>\n",
       "      <td>0.0</td>\n",
       "      <td>0.0</td>\n",
       "      <td>0.0</td>\n",
       "      <td>0.0</td>\n",
       "    </tr>\n",
       "  </tbody>\n",
       "</table>\n",
       "<p>6656 rows × 5000 columns</p>\n",
       "</div>"
      ],
      "text/plain": [
       "      0     1     2     3     4     5         6     7     8     9     ...  \\\n",
       "0      0.0   0.0   0.0   0.0   0.0   0.0  0.000000   0.0   0.0   0.0  ...   \n",
       "1      0.0   0.0   0.0   0.0   0.0   0.0  0.000000   0.0   0.0   0.0  ...   \n",
       "2      0.0   0.0   0.0   0.0   0.0   0.0  0.000000   0.0   0.0   0.0  ...   \n",
       "3      0.0   0.0   0.0   0.0   0.0   0.0  0.000000   0.0   0.0   0.0  ...   \n",
       "4      0.0   0.0   0.0   0.0   0.0   0.0  0.000000   0.0   0.0   0.0  ...   \n",
       "...    ...   ...   ...   ...   ...   ...       ...   ...   ...   ...  ...   \n",
       "6651   0.0   0.0   0.0   0.0   0.0   0.0  0.000000   0.0   0.0   0.0  ...   \n",
       "6652   0.0   0.0   0.0   0.0   0.0   0.0  0.000000   0.0   0.0   0.0  ...   \n",
       "6653   0.0   0.0   0.0   0.0   0.0   0.0  0.124929   0.0   0.0   0.0  ...   \n",
       "6654   0.0   0.0   0.0   0.0   0.0   0.0  0.000000   0.0   0.0   0.0  ...   \n",
       "6655   0.0   0.0   0.0   0.0   0.0   0.0  0.000000   0.0   0.0   0.0  ...   \n",
       "\n",
       "      4990  4991  4992  4993  4994  4995  4996  4997  4998  4999  \n",
       "0      0.0   0.0   0.0   0.0   0.0   0.0   0.0   0.0   0.0   0.0  \n",
       "1      0.0   0.0   0.0   0.0   0.0   0.0   0.0   0.0   0.0   0.0  \n",
       "2      0.0   0.0   0.0   0.0   0.0   0.0   0.0   0.0   0.0   0.0  \n",
       "3      0.0   0.0   0.0   0.0   0.0   0.0   0.0   0.0   0.0   0.0  \n",
       "4      0.0   0.0   0.0   0.0   0.0   0.0   0.0   0.0   0.0   0.0  \n",
       "...    ...   ...   ...   ...   ...   ...   ...   ...   ...   ...  \n",
       "6651   0.0   0.0   0.0   0.0   0.0   0.0   0.0   0.0   0.0   0.0  \n",
       "6652   0.0   0.0   0.0   0.0   0.0   0.0   0.0   0.0   0.0   0.0  \n",
       "6653   0.0   0.0   0.0   0.0   0.0   0.0   0.0   0.0   0.0   0.0  \n",
       "6654   0.0   0.0   0.0   0.0   0.0   0.0   0.0   0.0   0.0   0.0  \n",
       "6655   0.0   0.0   0.0   0.0   0.0   0.0   0.0   0.0   0.0   0.0  \n",
       "\n",
       "[6656 rows x 5000 columns]"
      ]
     },
     "execution_count": 56,
     "metadata": {},
     "output_type": "execute_result"
    }
   ],
   "source": [
    "train_vectorsDF = pd.DataFrame(train_vectors)\n",
    "valid_vectorsDF = pd.DataFrame(valid_vectors)\n",
    "test_vectorsDF = pd.DataFrame(test_vectors)\n",
    "train_vectorsDF"
   ]
  },
  {
   "cell_type": "code",
   "execution_count": 57,
   "metadata": {},
   "outputs": [],
   "source": [
    "trainDS = CustomDataset(train_vectorsDF, train_targetDF, feature_dim=2)\n",
    "validDS = CustomDataset(valid_vectorsDF, valid_targetDF, feature_dim=2)\n",
    "testDS = CustomDataset(test_vectorsDF, test_targetDF, feature_dim=2)\n",
    "\n",
    "trainDL = DataLoader(trainDS, batch_size=16)\n",
    "validDL = DataLoader(validDS, batch_size=16)\n",
    "testDL = DataLoader(testDS, batch_size=16)"
   ]
  },
  {
   "cell_type": "code",
   "execution_count": 58,
   "metadata": {},
   "outputs": [
    {
     "data": {
      "text/plain": [
       "(tensor([[0., 0., 0.,  ..., 0., 0., 0.]]), tensor([5.]))"
      ]
     },
     "execution_count": 58,
     "metadata": {},
     "output_type": "execute_result"
    }
   ],
   "source": [
    "trainDL.dataset[0]"
   ]
  },
  {
   "cell_type": "code",
   "execution_count": 59,
   "metadata": {},
   "outputs": [
    {
     "name": "stdout",
     "output_type": "stream",
     "text": [
      "torch.Size([16, 1, 5000])\n"
     ]
    }
   ],
   "source": [
    "for X_batch, y_batch in trainDL:\n",
    "    print(X_batch.shape)  # X_batch의 차원 출력\n",
    "    break  # 첫 번째 배치만 확인하기 위해 루프를 중지"
   ]
  },
  {
   "cell_type": "code",
   "execution_count": 60,
   "metadata": {},
   "outputs": [
    {
     "data": {
      "text/plain": [
       "torch.Size([1, 5000])"
      ]
     },
     "execution_count": 60,
     "metadata": {},
     "output_type": "execute_result"
    }
   ],
   "source": [
    "trainDL.dataset[0][0].shape"
   ]
  },
  {
   "cell_type": "code",
   "execution_count": 61,
   "metadata": {},
   "outputs": [
    {
     "name": "stdout",
     "output_type": "stream",
     "text": [
      "[EPOCH] : 1에서 모델 저장 완료.\n",
      "[Loss : 1/200] Train : 2.0777, Test : 2.0628\n",
      "[Score  : 1/200] Train : 0.1842, Test : 0.2031\n",
      "[EPOCH] : 2에서 모델 저장 완료.\n",
      "[Loss : 2/200] Train : 2.0175, Test : 1.9390\n",
      "[Score  : 2/200] Train : 0.2907, Test : 0.4850\n",
      "[EPOCH] : 3에서 모델 저장 완료.\n",
      "[Loss : 3/200] Train : 1.7556, Test : 1.5469\n",
      "[Score  : 3/200] Train : 0.6675, Test : 0.6803\n",
      "[EPOCH] : 4에서 모델 저장 완료.\n",
      "[Loss : 4/200] Train : 1.2936, Test : 1.1200\n",
      "[Score  : 4/200] Train : 0.7608, Test : 0.7662\n",
      "[EPOCH] : 5에서 모델 저장 완료.\n",
      "[Loss : 5/200] Train : 0.9228, Test : 0.8718\n",
      "[Score  : 5/200] Train : 0.8148, Test : 0.8035\n",
      "[EPOCH] : 6에서 모델 저장 완료.\n",
      "[Loss : 6/200] Train : 0.7134, Test : 0.7456\n",
      "[Score  : 6/200] Train : 0.8407, Test : 0.8125\n",
      "[EPOCH] : 7에서 모델 저장 완료.\n",
      "[Loss : 7/200] Train : 0.5921, Test : 0.6762\n",
      "[Score  : 7/200] Train : 0.8573, Test : 0.8209\n",
      "[EPOCH] : 8에서 모델 저장 완료.\n",
      "[Loss : 8/200] Train : 0.5127, Test : 0.6337\n",
      "[Score  : 8/200] Train : 0.8733, Test : 0.8239\n",
      "[EPOCH] : 9에서 모델 저장 완료.\n",
      "[Loss : 9/200] Train : 0.4538, Test : 0.6052\n",
      "[Score  : 9/200] Train : 0.8849, Test : 0.8299\n",
      "[EPOCH] : 10에서 모델 저장 완료.\n",
      "[Loss : 10/200] Train : 0.4065, Test : 0.5854\n",
      "[Score  : 10/200] Train : 0.8935, Test : 0.8293\n",
      "[EPOCH] : 11에서 모델 저장 완료.\n",
      "[Loss : 11/200] Train : 0.3665, Test : 0.5714\n",
      "[Score  : 11/200] Train : 0.9013, Test : 0.8305\n",
      "[EPOCH] : 12에서 모델 저장 완료.\n",
      "[Loss : 12/200] Train : 0.3318, Test : 0.5618\n",
      "[Score  : 12/200] Train : 0.9087, Test : 0.8323\n",
      "[EPOCH] : 13에서 모델 저장 완료.\n",
      "[Loss : 13/200] Train : 0.3011, Test : 0.5556\n",
      "[Score  : 13/200] Train : 0.9175, Test : 0.8335\n",
      "[EPOCH] : 14에서 모델 저장 완료.\n",
      "[Loss : 14/200] Train : 0.2736, Test : 0.5519\n",
      "[Score  : 14/200] Train : 0.9234, Test : 0.8347\n",
      "[EPOCH] : 15에서 모델 저장 완료.\n",
      "[Loss : 15/200] Train : 0.2487, Test : 0.5503\n",
      "[Score  : 15/200] Train : 0.9297, Test : 0.8323\n",
      "[Loss : 16/200] Train : 0.2258, Test : 0.5504\n",
      "[Score  : 16/200] Train : 0.9373, Test : 0.8299\n",
      "[Loss : 17/200] Train : 0.2046, Test : 0.5520\n",
      "[Score  : 17/200] Train : 0.9452, Test : 0.8311\n",
      "[Loss : 18/200] Train : 0.1850, Test : 0.5549\n",
      "[Score  : 18/200] Train : 0.9522, Test : 0.8323\n",
      "[Loss : 19/200] Train : 0.1667, Test : 0.5589\n",
      "[Score  : 19/200] Train : 0.9572, Test : 0.8341\n",
      "[Loss : 20/200] Train : 0.1498, Test : 0.5641\n",
      "[Score  : 20/200] Train : 0.9621, Test : 0.8341\n",
      "[Loss : 21/200] Train : 0.1340, Test : 0.5703\n",
      "[Score  : 21/200] Train : 0.9674, Test : 0.8347\n",
      "[Loss : 22/200] Train : 0.1195, Test : 0.5773\n",
      "[Score  : 22/200] Train : 0.9733, Test : 0.8347\n",
      "[Loss : 23/200] Train : 0.1060, Test : 0.5853\n",
      "[Score  : 23/200] Train : 0.9793, Test : 0.8359\n",
      "[Loss : 24/200] Train : 0.0936, Test : 0.5940\n",
      "[Score  : 24/200] Train : 0.9832, Test : 0.8371\n",
      "[Loss : 25/200] Train : 0.0823, Test : 0.6036\n",
      "[Score  : 25/200] Train : 0.9862, Test : 0.8389\n",
      "[Loss : 26/200] Train : 0.0720, Test : 0.6139\n",
      "[Score  : 26/200] Train : 0.9896, Test : 0.8413\n",
      "[Loss : 27/200] Train : 0.0627, Test : 0.6247\n",
      "[Score  : 27/200] Train : 0.9926, Test : 0.8383\n",
      "[Loss : 28/200] Train : 0.0543, Test : 0.6361\n",
      "[Score  : 28/200] Train : 0.9938, Test : 0.8395\n",
      "[Loss : 29/200] Train : 0.0467, Test : 0.6480\n",
      "[Score  : 29/200] Train : 0.9950, Test : 0.8413\n",
      "[Loss : 30/200] Train : 0.0400, Test : 0.6605\n",
      "[Score  : 30/200] Train : 0.9961, Test : 0.8413\n",
      "[Loss : 31/200] Train : 0.0341, Test : 0.6736\n",
      "[Score  : 31/200] Train : 0.9967, Test : 0.8395\n",
      "[Loss : 32/200] Train : 0.0289, Test : 0.6872\n",
      "[Score  : 32/200] Train : 0.9976, Test : 0.8377\n",
      "[Loss : 33/200] Train : 0.0245, Test : 0.7015\n",
      "[Score  : 33/200] Train : 0.9982, Test : 0.8395\n",
      "[Loss : 34/200] Train : 0.0206, Test : 0.7164\n",
      "[Score  : 34/200] Train : 0.9983, Test : 0.8407\n",
      "[Loss]값의 개선이 이루어지지 않아 [35] EPOCH에서 학습을 종료합니다.\n"
     ]
    }
   ],
   "source": [
    "model = LSTMModel(input_size = 5000, output_size = 8, hidden_list = [100, 30],\n",
    "                  act_func=F.relu, model_type='multiclass', num_layers=1)\n",
    "# num_layers : 재귀층(Recurrent Layer)의 개수 (기본적인 LSTM 모델에서는 1개)\n",
    "\n",
    "adam_optim = optim.Adam(model.parameters(), lr = 0.0001)\n",
    "\n",
    "# 모델 훈련\n",
    "EPOCH = 200\n",
    "SAVE_PATH = '/Users/anhyojun/WorkSpace/KDT2/김소현 강사님/프로젝트/6번째 프로젝트/model_tf-idf'\n",
    "result = training(trainDL, validDL, model, 'multiclass', adam_optim, EPOCH,\n",
    "                  endurance_cnt=20, num_classes=8, SAVE_PATH=SAVE_PATH)"
   ]
  },
  {
   "cell_type": "code",
   "execution_count": 62,
   "metadata": {},
   "outputs": [
    {
     "data": {
      "image/png": "[encoded data removed]",
      "text/plain": [
       "<Figure size 1400x500 with 2 Axes>"
      ]
     },
     "metadata": {},
     "output_type": "display_data"
    }
   ],
   "source": [
    "DrawPlot(result)\n",
    "plt.show()"
   ]
  },
  {
   "cell_type": "code",
   "execution_count": 124,
   "metadata": {},
   "outputs": [
    {
     "data": {
      "text/plain": [
       "<All keys matched successfully>"
      ]
     },
     "execution_count": 124,
     "metadata": {},
     "output_type": "execute_result"
    }
   ],
   "source": [
    "best_model = LSTMModel(input_size = 5000, output_size = 8, hidden_list = [100, 30],\n",
    "                       act_func=F.relu, model_type='multiclass', num_layers=1)\n",
    "\n",
    "best_model.load_state_dict(torch.load('best_model_tf-idf_0.8203.pth', weights_only=True))"
   ]
  },
  {
   "cell_type": "code",
   "execution_count": 125,
   "metadata": {},
   "outputs": [
    {
     "name": "stdout",
     "output_type": "stream",
     "text": [
      "test accuracy : 0.8344\n"
     ]
    }
   ],
   "source": [
    "best_model.eval()\n",
    "loaded_vectorizer = joblib.load('tfid_vectorizer_5000.pkl')\n",
    "test_vector = loaded_vectorizer.transform(test_inputDF['clean_text'])\n",
    "test_tensor_vector = torch.FloatTensor(test_vector.toarray())\n",
    "test_logit = best_model(test_tensor_vector.unsqueeze(1))\n",
    "test_pred = torch.argmax(test_logit, dim=1)\n",
    "test_real = torch.tensor(test_targetDF.values).squeeze(1)\n",
    "\n",
    "test_accuracy = ((test_pred == test_real).sum() / len(test_pred)).item()\n",
    "print(f\"test accuracy : {test_accuracy:.4f}\")"
   ]
  },
  {
   "cell_type": "code",
   "execution_count": 126,
   "metadata": {},
   "outputs": [
    {
     "name": "stdout",
     "output_type": "stream",
     "text": [
      "tensor([7, 5, 2,  ..., 6, 0, 1])\n",
      "tensor([7, 5, 2,  ..., 6, 0, 1])\n"
     ]
    }
   ],
   "source": [
    "print(test_pred)\n",
    "print(test_real)"
   ]
  },
  {
   "cell_type": "code",
   "execution_count": 154,
   "metadata": {},
   "outputs": [
    {
     "name": "stdout",
     "output_type": "stream",
     "text": [
      "tensor([7, 5, 2, 2, 0])\n",
      "tensor([7, 5, 2, 2, 0])\n"
     ]
    }
   ],
   "source": [
    "best_model.eval()\n",
    "loaded_vectorizer = joblib.load('tfid_vectorizer_5000.pkl')\n",
    "test_vector = loaded_vectorizer.transform(test_inputDF.iloc[:5, :]['clean_text'].values)\n",
    "test_tensor_vector = torch.FloatTensor(test_vector.toarray())\n",
    "test_logit = best_model(test_tensor_vector.unsqueeze(1))\n",
    "test_pred = torch.argmax(test_logit, dim=1)\n",
    "test_real = torch.tensor(test_targetDF.iloc[:5, :].values).squeeze(1)\n",
    "\n",
    "print(test_pred)\n",
    "print(test_real)"
   ]
  },
  {
   "cell_type": "code",
   "execution_count": 212,
   "metadata": {},
   "outputs": [
    {
     "name": "stdout",
     "output_type": "stream",
     "text": [
      "[INDEX0] 예측값 : 자동차, 실제값 : 자동차\n",
      "\n",
      "[INDEX1] 예측값 : 맛집, 실제값 : 맛집\n",
      "\n",
      "[INDEX2] 예측값 : 취미, 실제값 : 취미\n",
      "\n",
      "[INDEX3] 예측값 : 취미, 실제값 : 취미\n",
      "\n",
      "[INDEX4] 예측값 : 국내 여행, 실제값 : 국내 여행\n",
      "\n",
      "[INDEX5] 예측값 : 해외 여행, 실제값 : 해외 여행\n",
      "\n",
      "[INDEX6] 예측값 : 취미, 실제값 : 해외 여행\n",
      "\n",
      "[INDEX7] 예측값 : 스포츠, 실제값 : 스포츠\n",
      "\n",
      "[INDEX8] 예측값 : 사진, 실제값 : 사진\n",
      "\n",
      "[INDEX9] 예측값 : 맛집, 실제값 : 맛집\n",
      "\n",
      "[INDEX10] 예측값 : 취미, 실제값 : 게임\n",
      "\n",
      "[INDEX11] 예측값 : 자동차, 실제값 : 자동차\n",
      "\n",
      "[INDEX12] 예측값 : 게임, 실제값 : 게임\n",
      "\n",
      "[INDEX13] 예측값 : 게임, 실제값 : 게임\n",
      "\n",
      "[INDEX14] 예측값 : 맛집, 실제값 : 맛집\n",
      "\n",
      "[INDEX15] 예측값 : 사진, 실제값 : 사진\n",
      "\n",
      "[INDEX16] 예측값 : 국내 여행, 실제값 : 해외 여행\n",
      "\n",
      "[INDEX17] 예측값 : 사진, 실제값 : 사진\n",
      "\n",
      "[INDEX18] 예측값 : 사진, 실제값 : 사진\n",
      "\n",
      "[INDEX19] 예측값 : 사진, 실제값 : 사진\n",
      "\n",
      "[INDEX20] 예측값 : 해외 여행, 실제값 : 해외 여행\n",
      "\n",
      "[INDEX21] 예측값 : 자동차, 실제값 : 자동차\n",
      "\n",
      "[INDEX22] 예측값 : 해외 여행, 실제값 : 해외 여행\n",
      "\n",
      "[INDEX23] 예측값 : 해외 여행, 실제값 : 해외 여행\n",
      "\n",
      "[INDEX24] 예측값 : 사진, 실제값 : 사진\n",
      "\n",
      "[INDEX25] 예측값 : 해외 여행, 실제값 : 국내 여행\n",
      "\n"
     ]
    }
   ],
   "source": [
    "for i in range(0, 26):\n",
    "    INDEX = i\n",
    "\n",
    "    best_model.eval()\n",
    "    loaded_vectorizer = joblib.load('tfid_vectorizer_5000.pkl')\n",
    "    test_vector = loaded_vectorizer.transform(test_inputDF.iloc[[INDEX], :]['clean_text'].values)\n",
    "    test_tensor_vector = torch.FloatTensor(test_vector.toarray())\n",
    "    test_logit = best_model(test_tensor_vector.unsqueeze(1))\n",
    "    test_pred = torch.argmax(test_logit, dim=1)\n",
    "    test_real = torch.tensor(test_targetDF.iloc[[INDEX], :].values).squeeze(1)\n",
    "\n",
    "    section_dict = {0 : '국내 여행', 1 : '게임', 2 : '취미', 3 : '해외 여행',\n",
    "                    4 : '사진', 5 : '맛집', 6 : '스포츠', 7 : '자동차'}\n",
    "\n",
    "\n",
    "    print(f\"[INDEX{i}] 예측값 : {section_dict[test_pred.item()]}, 실제값 : {section_dict[test_real.item()]}\\n\")"
   ]
  },
  {
   "cell_type": "code",
   "execution_count": 242,
   "metadata": {},
   "outputs": [
    {
     "data": {
      "text/plain": [
       "'자동차'"
      ]
     },
     "execution_count": 242,
     "metadata": {},
     "output_type": "execute_result"
    }
   ],
   "source": [
    "string = test_inputDF.iloc[0,:].values[0]\n",
    "inputDF = pd.DataFrame([string], columns=['clean_text'])\n",
    "\n",
    "best_model = LSTMModel(input_size = 5000, output_size = 8, hidden_list = [100, 30],\n",
    "                       act_func=F.relu, model_type='multiclass', num_layers=1)\n",
    "best_model.load_state_dict(torch.load('best_model_tf-idf_0.8203.pth', weights_only=True))\n",
    "\n",
    "best_model.eval()\n",
    "loaded_vectorizer = joblib.load('tfid_vectorizer_5000.pkl')\n",
    "input_vector = loaded_vectorizer.transform(inputDF['clean_text'].values)\n",
    "input_tensor_vector = torch.FloatTensor(input_vector.toarray())\n",
    "input_logit = best_model(input_tensor_vector.unsqueeze(1))\n",
    "pred = torch.argmax(input_logit, dim=1).item()\n",
    "\n",
    "section_dict = {0 : '국내 여행', 1 : '게임', 2 : '취미', 3 : '해외 여행',\n",
    "                4 : '사진', 5 : '맛집', 6 : '스포츠', 7 : '자동차'}\n",
    "\n",
    "pred_section = section_dict[pred]\n",
    "pred_section"
   ]
  },
  {
   "cell_type": "code",
   "execution_count": 213,
   "metadata": {},
   "outputs": [
    {
     "name": "stdout",
     "output_type": "stream",
     "text": [
      "[INDEX25] 예측값 : 맛집, 실제값 : 맛집\n",
      "\n"
     ]
    }
   ],
   "source": [
    "INDEX = 1\n",
    "\n",
    "best_model = LSTMModel(input_size = 5000, output_size = 8, hidden_list = [100, 30],\n",
    "                       act_func=F.relu, model_type='multiclass', num_layers=1)\n",
    "\n",
    "best_model.load_state_dict(torch.load('best_model_tf-idf_0.8203.pth', weights_only=True))\n",
    "\n",
    "best_model.eval()\n",
    "loaded_vectorizer = joblib.load('tfid_vectorizer_5000.pkl')\n",
    "test_vector = loaded_vectorizer.transform(test_inputDF.iloc[[INDEX], :]['clean_text'].values)\n",
    "test_tensor_vector = torch.FloatTensor(test_vector.toarray())\n",
    "test_logit = best_model(test_tensor_vector.unsqueeze(1))\n",
    "test_pred = torch.argmax(test_logit, dim=1)\n",
    "test_real = torch.tensor(test_targetDF.iloc[[INDEX], :].values).squeeze(1)\n",
    "\n",
    "section_dict = {0 : '국내 여행', 1 : '게임', 2 : '취미', 3 : '해외 여행',\n",
    "                4 : '사진', 5 : '맛집', 6 : '스포츠', 7 : '자동차'}\n",
    "\n",
    "\n",
    "print(f\"[INDEX{i}] 예측값 : {section_dict[test_pred.item()]}, 실제값 : {section_dict[test_real.item()]}\\n\")"
   ]
  },
  {
   "cell_type": "code",
   "execution_count": null,
   "metadata": {},
   "outputs": [],
   "source": []
  }
 ],
 "metadata": {
  "kernelspec": {
   "display_name": "TORCH_TEXT_38",
   "language": "python",
   "name": "python3"
  },
  "language_info": {
   "codemirror_mode": {
    "name": "ipython",
    "version": 3
   },
   "file_extension": ".py",
   "mimetype": "text/x-python",
   "name": "python",
   "nbconvert_exporter": "python",
   "pygments_lexer": "ipython3",
   "version": "3.8.18"
  }
 },
 "nbformat": 4,
 "nbformat_minor": 2
}
