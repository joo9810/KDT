{
 "cells": [
  {
   "cell_type": "code",
   "execution_count": 203,
   "metadata": {},
   "outputs": [],
   "source": [
    "import mysql\n",
    "import pandas as pd\n",
    "from PIL import Image\n",
    "import matplotlib.pyplot as plt \n",
    "import requests \n",
    "import numpy as np \n",
    "import cv2 \n",
    "from io import BytesIO\n",
    "import os\n",
    "import glob\n",
    "\n",
    "from torchvision import transforms, models\n",
    "from torch.utils.data import Dataset, DataLoader\n",
    "import torch\n",
    "import torch.nn as nn\n",
    "from torchvision.models import ResNet50_Weights\n",
    "import  torch.nn.functional as F\n",
    "\n",
    "from sklearn.model_selection import train_test_split\n",
    "from sklearn.preprocessing import PolynomialFeatures\n",
    "from sklearn.linear_model import LinearRegression\n",
    "from sklearn.metrics import r2_score\n",
    "\n",
    "from scipy.stats import shapiro, wilcoxon, ttest_ind, mannwhitneyu, pearsonr, spearmanr, chi2_contingency\n",
    "\n",
    "import matplotlib.pyplot as plt\n",
    "\n",
    "import sys\n",
    "sys.path.append('/Users/anhyojun/WorkSpace/KDT2/MyModule')\n",
    "from KDTModule import *"
   ]
  },
  {
   "cell_type": "code",
   "execution_count": 57,
   "metadata": {},
   "outputs": [
    {
     "data": {
      "text/plain": [
       "<torch._C.Generator at 0x167297e10>"
      ]
     },
     "execution_count": 57,
     "metadata": {},
     "output_type": "execute_result"
    }
   ],
   "source": [
    "torch.manual_seed(1)"
   ]
  },
  {
   "cell_type": "code",
   "execution_count": 58,
   "metadata": {},
   "outputs": [
    {
     "name": "stdout",
     "output_type": "stream",
     "text": [
      "<class 'pandas.core.frame.DataFrame'>\n",
      "RangeIndex: 9901 entries, 0 to 9900\n",
      "Data columns (total 13 columns):\n",
      " #   Column        Non-Null Count  Dtype  \n",
      "---  ------        --------------  -----  \n",
      " 0   id            9901 non-null   int64  \n",
      " 1   ko_name       9901 non-null   object \n",
      " 2   en_name       9744 non-null   object \n",
      " 3   year          9900 non-null   float64\n",
      " 4   country       9901 non-null   object \n",
      " 5   grade         9625 non-null   object \n",
      " 6   genre         9901 non-null   object \n",
      " 7   runtime       9901 non-null   int64  \n",
      " 8   release_date  9898 non-null   object \n",
      " 9   audience      9901 non-null   int64  \n",
      " 10  director      9885 non-null   object \n",
      " 11  story         9897 non-null   object \n",
      " 12  poster_link   9901 non-null   object \n",
      "dtypes: float64(1), int64(3), object(9)\n",
      "memory usage: 1005.7+ KB\n"
     ]
    }
   ],
   "source": [
    "# csv -> DataFrame 변환\n",
    "df = pd.read_csv('movieDF.csv')\n",
    "df.info()"
   ]
  },
  {
   "cell_type": "markdown",
   "metadata": {},
   "source": [
    "수치형 변수들의 기술 통계량 확인"
   ]
  },
  {
   "cell_type": "code",
   "execution_count": 59,
   "metadata": {},
   "outputs": [
    {
     "data": {
      "text/html": [
       "<div>\n",
       "<style scoped>\n",
       "    .dataframe tbody tr th:only-of-type {\n",
       "        vertical-align: middle;\n",
       "    }\n",
       "\n",
       "    .dataframe tbody tr th {\n",
       "        vertical-align: top;\n",
       "    }\n",
       "\n",
       "    .dataframe thead th {\n",
       "        text-align: right;\n",
       "    }\n",
       "</style>\n",
       "<table border=\"1\" class=\"dataframe\">\n",
       "  <thead>\n",
       "    <tr style=\"text-align: right;\">\n",
       "      <th></th>\n",
       "      <th>id</th>\n",
       "      <th>year</th>\n",
       "      <th>runtime</th>\n",
       "      <th>audience</th>\n",
       "    </tr>\n",
       "  </thead>\n",
       "  <tbody>\n",
       "    <tr>\n",
       "      <th>count</th>\n",
       "      <td>9901.000000</td>\n",
       "      <td>9900.000000</td>\n",
       "      <td>9901.000000</td>\n",
       "      <td>9.901000e+03</td>\n",
       "    </tr>\n",
       "    <tr>\n",
       "      <th>mean</th>\n",
       "      <td>31396.784567</td>\n",
       "      <td>2008.044747</td>\n",
       "      <td>105.780325</td>\n",
       "      <td>3.312004e+05</td>\n",
       "    </tr>\n",
       "    <tr>\n",
       "      <th>std</th>\n",
       "      <td>20679.489847</td>\n",
       "      <td>11.419085</td>\n",
       "      <td>18.353480</td>\n",
       "      <td>1.087682e+06</td>\n",
       "    </tr>\n",
       "    <tr>\n",
       "      <th>min</th>\n",
       "      <td>1.000000</td>\n",
       "      <td>1921.000000</td>\n",
       "      <td>60.000000</td>\n",
       "      <td>1.000000e+03</td>\n",
       "    </tr>\n",
       "    <tr>\n",
       "      <th>25%</th>\n",
       "      <td>10789.000000</td>\n",
       "      <td>2001.000000</td>\n",
       "      <td>94.000000</td>\n",
       "      <td>5.418000e+03</td>\n",
       "    </tr>\n",
       "    <tr>\n",
       "      <th>50%</th>\n",
       "      <td>31562.000000</td>\n",
       "      <td>2011.000000</td>\n",
       "      <td>104.000000</td>\n",
       "      <td>2.459500e+04</td>\n",
       "    </tr>\n",
       "    <tr>\n",
       "      <th>75%</th>\n",
       "      <td>51912.000000</td>\n",
       "      <td>2017.000000</td>\n",
       "      <td>116.000000</td>\n",
       "      <td>1.557980e+05</td>\n",
       "    </tr>\n",
       "    <tr>\n",
       "      <th>max</th>\n",
       "      <td>61816.000000</td>\n",
       "      <td>2024.000000</td>\n",
       "      <td>234.000000</td>\n",
       "      <td>1.761375e+07</td>\n",
       "    </tr>\n",
       "  </tbody>\n",
       "</table>\n",
       "</div>"
      ],
      "text/plain": [
       "                 id         year      runtime      audience\n",
       "count   9901.000000  9900.000000  9901.000000  9.901000e+03\n",
       "mean   31396.784567  2008.044747   105.780325  3.312004e+05\n",
       "std    20679.489847    11.419085    18.353480  1.087682e+06\n",
       "min        1.000000  1921.000000    60.000000  1.000000e+03\n",
       "25%    10789.000000  2001.000000    94.000000  5.418000e+03\n",
       "50%    31562.000000  2011.000000   104.000000  2.459500e+04\n",
       "75%    51912.000000  2017.000000   116.000000  1.557980e+05\n",
       "max    61816.000000  2024.000000   234.000000  1.761375e+07"
      ]
     },
     "execution_count": 59,
     "metadata": {},
     "output_type": "execute_result"
    }
   ],
   "source": [
    "df.describe()"
   ]
  },
  {
   "cell_type": "markdown",
   "metadata": {},
   "source": [
    "수치형 변수들의 히스토그램 확인"
   ]
  },
  {
   "cell_type": "code",
   "execution_count": 60,
   "metadata": {},
   "outputs": [
    {
     "data": {
      "image/png": "[encoded data removed]",
      "text/plain": [
       "<Figure size 1500x500 with 3 Axes>"
      ]
     },
     "metadata": {},
     "output_type": "display_data"
    }
   ],
   "source": [
    "fig, axs = plt.subplots(1, 3, figsize = (15, 5))\n",
    "cols = ['year', 'runtime', 'audience']\n",
    "for idx, col in enumerate(cols):\n",
    "    df[[col]].hist(ax=axs[idx])\n",
    "    axs[idx].set_title(f\"{col} distribution\")\n",
    "    axs[idx].set_xlabel(col)\n",
    "    axs[idx].set_ylabel('freq')\n",
    "plt.show()"
   ]
  },
  {
   "cell_type": "code",
   "execution_count": 61,
   "metadata": {},
   "outputs": [
    {
     "data": {
      "image/png": "[encoded data removed]",
      "text/plain": [
       "<Figure size 1500x500 with 3 Axes>"
      ]
     },
     "metadata": {},
     "output_type": "display_data"
    }
   ],
   "source": [
    "fig, axs = plt.subplots(1, 3, figsize = (15, 5))\n",
    "values = [1000000, 100000, 10000]\n",
    "for idx, value in enumerate(values):\n",
    "    df[df['audience'] < value]['audience'].hist(ax=axs[idx])\n",
    "    axs[idx].set_title(f\"audience distribution (cut {value})\")\n",
    "    axs[idx].set_xlabel('audience')\n",
    "    axs[idx].set_ylabel('freq')\n",
    "plt.show()"
   ]
  },
  {
   "cell_type": "markdown",
   "metadata": {},
   "source": [
    "가설1 : 국내 영화보다 미국 영화의 상영 시간이 더 길 것이다. (독립표본 t검정)  \n",
    "가설1 근거 : 아바타, 타이타닉 같이 미국 영화가 국내 영화보다 스케일이 큰 경우가 많기 때문에 상영 시간도 더 길 것으로 생각한다.  \n",
    "  \n",
    "가설2 : 연도가 증가할수록 영화의 평균 관객 수가 증가했을 것이다. (상관 분석)  \n",
    "가설2 근거 : 연도가 증가할수록 영화 산업이 발전할 것이고 관객들의 관심도 더 커질 것이기 때문에 평균 관객 수가 증가할 것이다.  \n",
    "  \n",
    "가설3 : 스릴러 장르와 애니메이션 장르의 상영 등급 분포에는 차이가 있을 것이다. (카이제곱 검정)  \n",
    "가설3 근거 : 스릴러 같은 긴박한 영화는 연령 제한이 높을 것이고 애니메이션은 낮은 연령 등급이 많은 것이다."
   ]
  },
  {
   "cell_type": "code",
   "execution_count": 62,
   "metadata": {},
   "outputs": [
    {
     "data": {
      "text/html": [
       "<div>\n",
       "<style scoped>\n",
       "    .dataframe tbody tr th:only-of-type {\n",
       "        vertical-align: middle;\n",
       "    }\n",
       "\n",
       "    .dataframe tbody tr th {\n",
       "        vertical-align: top;\n",
       "    }\n",
       "\n",
       "    .dataframe thead th {\n",
       "        text-align: right;\n",
       "    }\n",
       "</style>\n",
       "<table border=\"1\" class=\"dataframe\">\n",
       "  <thead>\n",
       "    <tr style=\"text-align: right;\">\n",
       "      <th></th>\n",
       "      <th>id</th>\n",
       "      <th>ko_name</th>\n",
       "      <th>en_name</th>\n",
       "      <th>year</th>\n",
       "      <th>country</th>\n",
       "      <th>grade</th>\n",
       "      <th>genre</th>\n",
       "      <th>runtime</th>\n",
       "      <th>release_date</th>\n",
       "      <th>audience</th>\n",
       "      <th>director</th>\n",
       "      <th>story</th>\n",
       "      <th>poster_link</th>\n",
       "      <th>country_category</th>\n",
       "    </tr>\n",
       "  </thead>\n",
       "  <tbody>\n",
       "    <tr>\n",
       "      <th>0</th>\n",
       "      <td>1</td>\n",
       "      <td>히트</td>\n",
       "      <td>Heat</td>\n",
       "      <td>1995.0</td>\n",
       "      <td>미국</td>\n",
       "      <td>청소년 관람불가</td>\n",
       "      <td>액션, 범죄, 드라마</td>\n",
       "      <td>171</td>\n",
       "      <td>2017-11-09</td>\n",
       "      <td>412819</td>\n",
       "      <td>마이클 만</td>\n",
       "      <td>LA 경찰국 강력계의 빈센트 한나(알 파치노) 반장은 두 번의 이혼 경력과 순탄치 ...</td>\n",
       "      <td>https://image.cine21.com/resize/cine21/poster/...</td>\n",
       "      <td>외국</td>\n",
       "    </tr>\n",
       "    <tr>\n",
       "      <th>1</th>\n",
       "      <td>2</td>\n",
       "      <td>랜섬</td>\n",
       "      <td>Ransom</td>\n",
       "      <td>1996.0</td>\n",
       "      <td>미국</td>\n",
       "      <td>15세이상관람가</td>\n",
       "      <td>액션, 범죄, 드라마</td>\n",
       "      <td>129</td>\n",
       "      <td>1996-12-07</td>\n",
       "      <td>508244</td>\n",
       "      <td>론 하워드</td>\n",
       "      <td>미국 4대 항공사인 엔디버 항공사의 사장이자 재력가인 톰 멀론은 성공의 상징이며 언...</td>\n",
       "      <td>https://image.cine21.com/resize/cine21/poster/...</td>\n",
       "      <td>외국</td>\n",
       "    </tr>\n",
       "    <tr>\n",
       "      <th>2</th>\n",
       "      <td>3</td>\n",
       "      <td>귀여운 여인</td>\n",
       "      <td>Pretty Woman</td>\n",
       "      <td>1990.0</td>\n",
       "      <td>미국</td>\n",
       "      <td>청소년 관람불가</td>\n",
       "      <td>멜로·로맨스, 코미디</td>\n",
       "      <td>125</td>\n",
       "      <td>1990-09-15</td>\n",
       "      <td>109797</td>\n",
       "      <td>게리 마샬</td>\n",
       "      <td>에드워드는 망해가는 회사를 사들여 나누어서 비싸게 파는 일을 하는 부유하고도 냉정한...</td>\n",
       "      <td>https://image.cine21.com/resize/IMGDB/poster/2...</td>\n",
       "      <td>외국</td>\n",
       "    </tr>\n",
       "    <tr>\n",
       "      <th>3</th>\n",
       "      <td>4</td>\n",
       "      <td>라스베가스를 떠나며</td>\n",
       "      <td>Leaving Las Vegas</td>\n",
       "      <td>1995.0</td>\n",
       "      <td>미국</td>\n",
       "      <td>청소년 관람불가</td>\n",
       "      <td>드라마, 멜로·로맨스</td>\n",
       "      <td>112</td>\n",
       "      <td>1996-03-01</td>\n",
       "      <td>214157</td>\n",
       "      <td>마이크 피기스</td>\n",
       "      <td>사랑이 짧으면 슬픔은 길어진다! 벤은 할리우드에서 유망한 극작가이다. 그의 작품은 ...</td>\n",
       "      <td>https://image.cine21.com/resize/cine21/poster/...</td>\n",
       "      <td>외국</td>\n",
       "    </tr>\n",
       "    <tr>\n",
       "      <th>4</th>\n",
       "      <td>5</td>\n",
       "      <td>보디가드</td>\n",
       "      <td>The Bodyguard</td>\n",
       "      <td>1992.0</td>\n",
       "      <td>미국</td>\n",
       "      <td>15세이상관람가</td>\n",
       "      <td>뮤직, 멜로·로맨스</td>\n",
       "      <td>125</td>\n",
       "      <td>2022-12-07</td>\n",
       "      <td>747238</td>\n",
       "      <td>믹 잭슨</td>\n",
       "      <td>“절대 그녀에게서 눈을 떼지 말 것” “절대 경호를 풀지 말 것” “절대 사랑에 빠...</td>\n",
       "      <td>https://image.cine21.com/resize/cine21/poster/...</td>\n",
       "      <td>외국</td>\n",
       "    </tr>\n",
       "    <tr>\n",
       "      <th>...</th>\n",
       "      <td>...</td>\n",
       "      <td>...</td>\n",
       "      <td>...</td>\n",
       "      <td>...</td>\n",
       "      <td>...</td>\n",
       "      <td>...</td>\n",
       "      <td>...</td>\n",
       "      <td>...</td>\n",
       "      <td>...</td>\n",
       "      <td>...</td>\n",
       "      <td>...</td>\n",
       "      <td>...</td>\n",
       "      <td>...</td>\n",
       "      <td>...</td>\n",
       "    </tr>\n",
       "    <tr>\n",
       "      <th>9896</th>\n",
       "      <td>61787</td>\n",
       "      <td>하이라이트: 라이츠 고 온, 어게인 인 시네마</td>\n",
       "      <td>HIGHLIGHT: LIGHTS GO ON, AGAIN IN CINEMA</td>\n",
       "      <td>2024.0</td>\n",
       "      <td>한국</td>\n",
       "      <td>전체 관람가</td>\n",
       "      <td>뮤직</td>\n",
       "      <td>116</td>\n",
       "      <td>2024-10-16</td>\n",
       "      <td>6190</td>\n",
       "      <td>오윤동</td>\n",
       "      <td>15년간 변함없이 강렬한 음악과 무대를 선보이며 독보적인 길을 걸어온 하이라이트 1...</td>\n",
       "      <td>https://image.cine21.com/resize/cine21/poster/...</td>\n",
       "      <td>한국</td>\n",
       "    </tr>\n",
       "    <tr>\n",
       "      <th>9897</th>\n",
       "      <td>61796</td>\n",
       "      <td>아이브 더 퍼스트 월드투어 인 시네마</td>\n",
       "      <td>IVE THE 1ST WORLD TOUR in CINEMA</td>\n",
       "      <td>2024.0</td>\n",
       "      <td>한국</td>\n",
       "      <td>전체 관람가</td>\n",
       "      <td>뮤직</td>\n",
       "      <td>111</td>\n",
       "      <td>2024-10-16</td>\n",
       "      <td>3010</td>\n",
       "      <td>조윤수</td>\n",
       "      <td>Dive into IVE! 안녕하세요, IVE입니다! 보석 같은 매력, 독보적인 퍼...</td>\n",
       "      <td>https://image.cine21.com/resize/cine21/poster/...</td>\n",
       "      <td>한국</td>\n",
       "    </tr>\n",
       "    <tr>\n",
       "      <th>9898</th>\n",
       "      <td>61797</td>\n",
       "      <td>괜찮아, 앨리스</td>\n",
       "      <td>Efterskole, Going to the Wonderland Korea</td>\n",
       "      <td>2024.0</td>\n",
       "      <td>한국</td>\n",
       "      <td>전체 관람가</td>\n",
       "      <td>다큐멘터리</td>\n",
       "      <td>74</td>\n",
       "      <td>2024-11-13</td>\n",
       "      <td>1311</td>\n",
       "      <td>양지혜</td>\n",
       "      <td>대다수가 앞만 보고 달려가는 ‘이상한 나라’ 대한민국에서 남들과 다른 길을 선택한 ...</td>\n",
       "      <td>https://image.cine21.com/resize/cine21/poster/...</td>\n",
       "      <td>한국</td>\n",
       "    </tr>\n",
       "    <tr>\n",
       "      <th>9899</th>\n",
       "      <td>61804</td>\n",
       "      <td>엘리자벳: 더 뮤지컬 라이브</td>\n",
       "      <td>Elisabeth: The Musical Live</td>\n",
       "      <td>2024.0</td>\n",
       "      <td>한국</td>\n",
       "      <td>12세이상관람가</td>\n",
       "      <td>뮤직, 뮤지컬</td>\n",
       "      <td>163</td>\n",
       "      <td>2024-10-16</td>\n",
       "      <td>6610</td>\n",
       "      <td>박재석</td>\n",
       "      <td>“루케니, 도대체 왜? 황후 엘리자벳을 죽였습니까?” “내가 그녀를 암살한 건… 그...</td>\n",
       "      <td>https://image.cine21.com/resize/cine21/poster/...</td>\n",
       "      <td>한국</td>\n",
       "    </tr>\n",
       "    <tr>\n",
       "      <th>9900</th>\n",
       "      <td>61816</td>\n",
       "      <td>정국: 아이 엠 스틸 위드 유</td>\n",
       "      <td>JUNG KOOK: I AM STILL with you</td>\n",
       "      <td>2024.0</td>\n",
       "      <td>한국</td>\n",
       "      <td>전체 관람가</td>\n",
       "      <td>뮤직</td>\n",
       "      <td>111</td>\n",
       "      <td>2024-10-09</td>\n",
       "      <td>5849</td>\n",
       "      <td>NaN</td>\n",
       "      <td>줄거리가 없습니다.</td>\n",
       "      <td>https://image.cine21.com/resize/cine21/poster/...</td>\n",
       "      <td>한국</td>\n",
       "    </tr>\n",
       "  </tbody>\n",
       "</table>\n",
       "<p>9901 rows × 14 columns</p>\n",
       "</div>"
      ],
      "text/plain": [
       "         id                    ko_name  \\\n",
       "0         1                         히트   \n",
       "1         2                         랜섬   \n",
       "2         3                     귀여운 여인   \n",
       "3         4                 라스베가스를 떠나며   \n",
       "4         5                       보디가드   \n",
       "...     ...                        ...   \n",
       "9896  61787  하이라이트: 라이츠 고 온, 어게인 인 시네마   \n",
       "9897  61796       아이브 더 퍼스트 월드투어 인 시네마   \n",
       "9898  61797                   괜찮아, 앨리스   \n",
       "9899  61804            엘리자벳: 더 뮤지컬 라이브   \n",
       "9900  61816           정국: 아이 엠 스틸 위드 유   \n",
       "\n",
       "                                        en_name    year country     grade  \\\n",
       "0                                          Heat  1995.0      미국  청소년 관람불가   \n",
       "1                                        Ransom  1996.0      미국  15세이상관람가   \n",
       "2                                  Pretty Woman  1990.0      미국  청소년 관람불가   \n",
       "3                             Leaving Las Vegas  1995.0      미국  청소년 관람불가   \n",
       "4                                 The Bodyguard  1992.0      미국  15세이상관람가   \n",
       "...                                         ...     ...     ...       ...   \n",
       "9896   HIGHLIGHT: LIGHTS GO ON, AGAIN IN CINEMA  2024.0      한국    전체 관람가   \n",
       "9897           IVE THE 1ST WORLD TOUR in CINEMA  2024.0      한국    전체 관람가   \n",
       "9898  Efterskole, Going to the Wonderland Korea  2024.0      한국    전체 관람가   \n",
       "9899                Elisabeth: The Musical Live  2024.0      한국  12세이상관람가   \n",
       "9900             JUNG KOOK: I AM STILL with you  2024.0      한국    전체 관람가   \n",
       "\n",
       "            genre  runtime release_date  audience director  \\\n",
       "0     액션, 범죄, 드라마      171   2017-11-09    412819    마이클 만   \n",
       "1     액션, 범죄, 드라마      129   1996-12-07    508244    론 하워드   \n",
       "2     멜로·로맨스, 코미디      125   1990-09-15    109797    게리 마샬   \n",
       "3     드라마, 멜로·로맨스      112   1996-03-01    214157  마이크 피기스   \n",
       "4      뮤직, 멜로·로맨스      125   2022-12-07    747238     믹 잭슨   \n",
       "...           ...      ...          ...       ...      ...   \n",
       "9896           뮤직      116   2024-10-16      6190      오윤동   \n",
       "9897           뮤직      111   2024-10-16      3010      조윤수   \n",
       "9898        다큐멘터리       74   2024-11-13      1311      양지혜   \n",
       "9899      뮤직, 뮤지컬      163   2024-10-16      6610      박재석   \n",
       "9900           뮤직      111   2024-10-09      5849      NaN   \n",
       "\n",
       "                                                  story  \\\n",
       "0     LA 경찰국 강력계의 빈센트 한나(알 파치노) 반장은 두 번의 이혼 경력과 순탄치 ...   \n",
       "1     미국 4대 항공사인 엔디버 항공사의 사장이자 재력가인 톰 멀론은 성공의 상징이며 언...   \n",
       "2     에드워드는 망해가는 회사를 사들여 나누어서 비싸게 파는 일을 하는 부유하고도 냉정한...   \n",
       "3     사랑이 짧으면 슬픔은 길어진다! 벤은 할리우드에서 유망한 극작가이다. 그의 작품은 ...   \n",
       "4     “절대 그녀에게서 눈을 떼지 말 것” “절대 경호를 풀지 말 것” “절대 사랑에 빠...   \n",
       "...                                                 ...   \n",
       "9896  15년간 변함없이 강렬한 음악과 무대를 선보이며 독보적인 길을 걸어온 하이라이트 1...   \n",
       "9897  Dive into IVE! 안녕하세요, IVE입니다! 보석 같은 매력, 독보적인 퍼...   \n",
       "9898  대다수가 앞만 보고 달려가는 ‘이상한 나라’ 대한민국에서 남들과 다른 길을 선택한 ...   \n",
       "9899  “루케니, 도대체 왜? 황후 엘리자벳을 죽였습니까?” “내가 그녀를 암살한 건… 그...   \n",
       "9900                                         줄거리가 없습니다.   \n",
       "\n",
       "                                            poster_link country_category  \n",
       "0     https://image.cine21.com/resize/cine21/poster/...               외국  \n",
       "1     https://image.cine21.com/resize/cine21/poster/...               외국  \n",
       "2     https://image.cine21.com/resize/IMGDB/poster/2...               외국  \n",
       "3     https://image.cine21.com/resize/cine21/poster/...               외국  \n",
       "4     https://image.cine21.com/resize/cine21/poster/...               외국  \n",
       "...                                                 ...              ...  \n",
       "9896  https://image.cine21.com/resize/cine21/poster/...               한국  \n",
       "9897  https://image.cine21.com/resize/cine21/poster/...               한국  \n",
       "9898  https://image.cine21.com/resize/cine21/poster/...               한국  \n",
       "9899  https://image.cine21.com/resize/cine21/poster/...               한국  \n",
       "9900  https://image.cine21.com/resize/cine21/poster/...               한국  \n",
       "\n",
       "[9901 rows x 14 columns]"
      ]
     },
     "execution_count": 62,
     "metadata": {},
     "output_type": "execute_result"
    }
   ],
   "source": [
    "# 국가 범주 변수 생성\n",
    "df['country_category'] = df['country'].apply(lambda x : '한국' if '한국' in x else '외국')\n",
    "df"
   ]
  },
  {
   "cell_type": "code",
   "execution_count": 63,
   "metadata": {},
   "outputs": [],
   "source": [
    "runtime_ko = df[df['country_category'] == '한국']['runtime']\n",
    "runtime_fo = df[df['country_category'] == '외국']['runtime']"
   ]
  },
  {
   "cell_type": "code",
   "execution_count": 64,
   "metadata": {},
   "outputs": [
    {
     "name": "stdout",
     "output_type": "stream",
     "text": [
      "검정통계량 : 0.9872, 유의확률 : 0.0000\n",
      "검정통계량 : 0.9195, 유의확률 : 0.0000\n"
     ]
    }
   ],
   "source": [
    "runtime_ko = df[df['country'] == '한국']['runtime'] # 한국 상영시간\n",
    "runtime_fo = df[df['country'] == '미국']['runtime'] # 미국 상영시간\n",
    "\n",
    "# 정규성 검정 - 한국 영화\n",
    "stat_ko, p_ko = shapiro(runtime_ko)\n",
    "stat_fo, p_fo = shapiro(runtime_fo)\n",
    "print(f\"검정통계량 : {stat_ko:.4f}, 유의확률 : {p_ko:.4f}\")\n",
    "print(f\"검정통계량 : {stat_fo:.4f}, 유의확률 : {p_fo:.4f}\")"
   ]
  },
  {
   "cell_type": "code",
   "execution_count": 65,
   "metadata": {},
   "outputs": [
    {
     "name": "stdout",
     "output_type": "stream",
     "text": [
      "-9.580888099431785 6.961916011685133e-22\n"
     ]
    }
   ],
   "source": [
    "# 독립표본 t-검정\n",
    "statistic, p_value = ttest_ind(runtime_ko, runtime_fo, alternative='less')\n",
    "print(statistic, p_value)"
   ]
  },
  {
   "cell_type": "code",
   "execution_count": 66,
   "metadata": {},
   "outputs": [
    {
     "name": "stdout",
     "output_type": "stream",
     "text": [
      "검정통계량 : 3740417.0, 유의확률 : 0.0000\n"
     ]
    }
   ],
   "source": [
    "# Mann-Whitney U 검정 (단측 검정)\n",
    "statistic, p_value = mannwhitneyu(runtime_ko, runtime_fo, alternative='less')\n",
    "print(f\"검정통계량 : {statistic}, 유의확률 : {p_value:.4f}\")"
   ]
  },
  {
   "cell_type": "markdown",
   "metadata": {},
   "source": [
    "검정 결과 유의확률이 매우 작아 유의수준 0.05 하에서 귀무가설을 기각한다. 즉, 한국 영화의 상영 시간이 외국 영화보다 더 짧다."
   ]
  },
  {
   "cell_type": "code",
   "execution_count": 67,
   "metadata": {},
   "outputs": [
    {
     "data": {
      "image/png": "[encoded data removed]",
      "text/plain": [
       "<Figure size 1000x500 with 2 Axes>"
      ]
     },
     "metadata": {},
     "output_type": "display_data"
    }
   ],
   "source": [
    "country_list = ['Korea', 'USA']\n",
    "fig, axs = plt.subplots(1, 2, figsize = (10, 5))\n",
    "for idx, data in enumerate([runtime_ko, runtime_fo]):\n",
    "    data.hist(ax=axs[idx])\n",
    "    axs[idx].set_title(country_list[idx])\n",
    "    axs[idx].set_xlabel('runtime')\n",
    "    axs[idx].set_ylabel('freq')\n",
    "    axs[idx].vlines(x=data.mean(), ymin=0, ymax=1400, color='red', label=f'mean : {data.mean():.2f}')\n",
    "    axs[idx].set_ylim(0, 1400)\n",
    "    axs[idx].legend()\n",
    "plt.show()"
   ]
  },
  {
   "cell_type": "code",
   "execution_count": 68,
   "metadata": {},
   "outputs": [
    {
     "name": "stdout",
     "output_type": "stream",
     "text": [
      "0.6086557893278572 2.1047353246887055e-09\n"
     ]
    }
   ],
   "source": [
    "group = df.groupby('year')['audience'].mean()\n",
    "year = group.index\n",
    "audience = group.values\n",
    "\n",
    "correlation, p_value = pearsonr(year, audience)\n",
    "print(correlation, p_value)"
   ]
  },
  {
   "cell_type": "code",
   "execution_count": 69,
   "metadata": {},
   "outputs": [
    {
     "name": "stdout",
     "output_type": "stream",
     "text": [
      "0.6892873886544774 1.5585713306839791e-12\n"
     ]
    }
   ],
   "source": [
    "correlation, p_value = spearmanr(year, audience)\n",
    "print(correlation, p_value)"
   ]
  },
  {
   "cell_type": "code",
   "execution_count": 70,
   "metadata": {},
   "outputs": [
    {
     "data": {
      "image/png": "[encoded data removed]",
      "text/plain": [
       "<Figure size 640x480 with 1 Axes>"
      ]
     },
     "metadata": {},
     "output_type": "display_data"
    }
   ],
   "source": [
    "plt.scatter(year, audience)\n",
    "plt.title('year & audience scatter plot')\n",
    "plt.xlabel('year')\n",
    "plt.ylabel('mean audience')\n",
    "plt.show()"
   ]
  },
  {
   "cell_type": "markdown",
   "metadata": {},
   "source": [
    "이상치를 제거하면 다항 회귀를 할 수 있을 것으로 판단"
   ]
  },
  {
   "cell_type": "code",
   "execution_count": 71,
   "metadata": {},
   "outputs": [
    {
     "data": {
      "text/html": [
       "<div>\n",
       "<style scoped>\n",
       "    .dataframe tbody tr th:only-of-type {\n",
       "        vertical-align: middle;\n",
       "    }\n",
       "\n",
       "    .dataframe tbody tr th {\n",
       "        vertical-align: top;\n",
       "    }\n",
       "\n",
       "    .dataframe thead th {\n",
       "        text-align: right;\n",
       "    }\n",
       "</style>\n",
       "<table border=\"1\" class=\"dataframe\">\n",
       "  <thead>\n",
       "    <tr style=\"text-align: right;\">\n",
       "      <th></th>\n",
       "      <th>year</th>\n",
       "      <th>audience</th>\n",
       "    </tr>\n",
       "  </thead>\n",
       "  <tbody>\n",
       "    <tr>\n",
       "      <th>0</th>\n",
       "      <td>1921.0</td>\n",
       "      <td>14425.000000</td>\n",
       "    </tr>\n",
       "    <tr>\n",
       "      <th>1</th>\n",
       "      <td>1925.0</td>\n",
       "      <td>2928.000000</td>\n",
       "    </tr>\n",
       "    <tr>\n",
       "      <th>2</th>\n",
       "      <td>1928.0</td>\n",
       "      <td>4946.000000</td>\n",
       "    </tr>\n",
       "    <tr>\n",
       "      <th>3</th>\n",
       "      <td>1931.0</td>\n",
       "      <td>63638.000000</td>\n",
       "    </tr>\n",
       "    <tr>\n",
       "      <th>4</th>\n",
       "      <td>1936.0</td>\n",
       "      <td>266054.000000</td>\n",
       "    </tr>\n",
       "    <tr>\n",
       "      <th>...</th>\n",
       "      <td>...</td>\n",
       "      <td>...</td>\n",
       "    </tr>\n",
       "    <tr>\n",
       "      <th>75</th>\n",
       "      <td>2020.0</td>\n",
       "      <td>160806.130890</td>\n",
       "    </tr>\n",
       "    <tr>\n",
       "      <th>76</th>\n",
       "      <td>2021.0</td>\n",
       "      <td>246238.780864</td>\n",
       "    </tr>\n",
       "    <tr>\n",
       "      <th>77</th>\n",
       "      <td>2022.0</td>\n",
       "      <td>346019.694969</td>\n",
       "    </tr>\n",
       "    <tr>\n",
       "      <th>78</th>\n",
       "      <td>2023.0</td>\n",
       "      <td>260045.516129</td>\n",
       "    </tr>\n",
       "    <tr>\n",
       "      <th>79</th>\n",
       "      <td>2024.0</td>\n",
       "      <td>500645.504587</td>\n",
       "    </tr>\n",
       "  </tbody>\n",
       "</table>\n",
       "<p>80 rows × 2 columns</p>\n",
       "</div>"
      ],
      "text/plain": [
       "      year       audience\n",
       "0   1921.0   14425.000000\n",
       "1   1925.0    2928.000000\n",
       "2   1928.0    4946.000000\n",
       "3   1931.0   63638.000000\n",
       "4   1936.0  266054.000000\n",
       "..     ...            ...\n",
       "75  2020.0  160806.130890\n",
       "76  2021.0  246238.780864\n",
       "77  2022.0  346019.694969\n",
       "78  2023.0  260045.516129\n",
       "79  2024.0  500645.504587\n",
       "\n",
       "[80 rows x 2 columns]"
      ]
     },
     "execution_count": 71,
     "metadata": {},
     "output_type": "execute_result"
    }
   ],
   "source": [
    "groupDF = pd.DataFrame({\n",
    "    'year' : year,\n",
    "    'audience' : audience\n",
    "})\n",
    "\n",
    "groupDF"
   ]
  },
  {
   "cell_type": "code",
   "execution_count": 72,
   "metadata": {},
   "outputs": [
    {
     "data": {
      "text/html": [
       "<div>\n",
       "<style scoped>\n",
       "    .dataframe tbody tr th:only-of-type {\n",
       "        vertical-align: middle;\n",
       "    }\n",
       "\n",
       "    .dataframe tbody tr th {\n",
       "        vertical-align: top;\n",
       "    }\n",
       "\n",
       "    .dataframe thead th {\n",
       "        text-align: right;\n",
       "    }\n",
       "</style>\n",
       "<table border=\"1\" class=\"dataframe\">\n",
       "  <thead>\n",
       "    <tr style=\"text-align: right;\">\n",
       "      <th></th>\n",
       "      <th>year</th>\n",
       "      <th>audience</th>\n",
       "    </tr>\n",
       "  </thead>\n",
       "  <tbody>\n",
       "    <tr>\n",
       "      <th>4</th>\n",
       "      <td>1936.0</td>\n",
       "      <td>266054.0</td>\n",
       "    </tr>\n",
       "    <tr>\n",
       "      <th>5</th>\n",
       "      <td>1939.0</td>\n",
       "      <td>549131.0</td>\n",
       "    </tr>\n",
       "    <tr>\n",
       "      <th>20</th>\n",
       "      <td>1965.0</td>\n",
       "      <td>427725.5</td>\n",
       "    </tr>\n",
       "  </tbody>\n",
       "</table>\n",
       "</div>"
      ],
      "text/plain": [
       "      year  audience\n",
       "4   1936.0  266054.0\n",
       "5   1939.0  549131.0\n",
       "20  1965.0  427725.5"
      ]
     },
     "execution_count": 72,
     "metadata": {},
     "output_type": "execute_result"
    }
   ],
   "source": [
    "outlierDF = groupDF[(groupDF['year'] < 1980) & (groupDF['audience'] > 200000)]\n",
    "outlierDF"
   ]
  },
  {
   "cell_type": "code",
   "execution_count": 73,
   "metadata": {},
   "outputs": [
    {
     "data": {
      "text/html": [
       "<div>\n",
       "<style scoped>\n",
       "    .dataframe tbody tr th:only-of-type {\n",
       "        vertical-align: middle;\n",
       "    }\n",
       "\n",
       "    .dataframe tbody tr th {\n",
       "        vertical-align: top;\n",
       "    }\n",
       "\n",
       "    .dataframe thead th {\n",
       "        text-align: right;\n",
       "    }\n",
       "</style>\n",
       "<table border=\"1\" class=\"dataframe\">\n",
       "  <thead>\n",
       "    <tr style=\"text-align: right;\">\n",
       "      <th></th>\n",
       "      <th>year</th>\n",
       "      <th>audience</th>\n",
       "    </tr>\n",
       "  </thead>\n",
       "  <tbody>\n",
       "    <tr>\n",
       "      <th>year</th>\n",
       "      <td>1.000000</td>\n",
       "      <td>0.730994</td>\n",
       "    </tr>\n",
       "    <tr>\n",
       "      <th>audience</th>\n",
       "      <td>0.730994</td>\n",
       "      <td>1.000000</td>\n",
       "    </tr>\n",
       "  </tbody>\n",
       "</table>\n",
       "</div>"
      ],
      "text/plain": [
       "              year  audience\n",
       "year      1.000000  0.730994\n",
       "audience  0.730994  1.000000"
      ]
     },
     "execution_count": 73,
     "metadata": {},
     "output_type": "execute_result"
    }
   ],
   "source": [
    "outlier_index = outlierDF.index\n",
    "groupDF2 = groupDF.drop(outlier_index)\n",
    "\n",
    "groupDF2.corr() # 상관계수가 더 올라갔다"
   ]
  },
  {
   "cell_type": "code",
   "execution_count": 74,
   "metadata": {},
   "outputs": [
    {
     "data": {
      "image/png": "[encoded data removed]",
      "text/plain": [
       "<Figure size 640x480 with 1 Axes>"
      ]
     },
     "metadata": {},
     "output_type": "display_data"
    }
   ],
   "source": [
    "plt.scatter(groupDF2['year'], groupDF2['audience'])\n",
    "plt.title('year & audience scatter plot')\n",
    "plt.xlabel('year')\n",
    "plt.ylabel('mean audience')\n",
    "plt.show()"
   ]
  },
  {
   "cell_type": "code",
   "execution_count": 75,
   "metadata": {},
   "outputs": [
    {
     "name": "stdout",
     "output_type": "stream",
     "text": [
      "상관계수 : 0.7997, 유의확률 : 0.0000\n"
     ]
    }
   ],
   "source": [
    "year2 = groupDF2['year']\n",
    "audience2 = groupDF2['audience']\n",
    "# 스피어만의 순위 상관분석\n",
    "corr_spearman, p_value = spearmanr(year2, audience2)\n",
    "print(f\"상관계수 : {corr_spearman:.4f}, 유의확률 : {p_value:.4f}\")"
   ]
  },
  {
   "cell_type": "code",
   "execution_count": 76,
   "metadata": {},
   "outputs": [
    {
     "name": "stdout",
     "output_type": "stream",
     "text": [
      "X_train.shape : (61, 3)\n",
      "X_test.shape : (16, 3)\n",
      "y_train.shape : (61,)\n",
      "y_test.shape : (16,)\n"
     ]
    }
   ],
   "source": [
    "X = groupDF2[['year']] # DataFame 형태\n",
    "y = groupDF2['audience'] # Series 형태\n",
    "\n",
    "poly = PolynomialFeatures(degree=2)\n",
    "X_poly = poly.fit_transform(X)\n",
    "\n",
    "X_train, X_test, y_train, y_test = train_test_split(X_poly, y, test_size=0.2,\n",
    "                                                    random_state=42)\n",
    "print(f\"X_train.shape : {X_train.shape}\")\n",
    "print(f\"X_test.shape : {X_test.shape}\")\n",
    "print(f\"y_train.shape : {y_train.shape}\")\n",
    "print(f\"y_test.shape : {y_test.shape}\")"
   ]
  },
  {
   "cell_type": "code",
   "execution_count": 84,
   "metadata": {},
   "outputs": [],
   "source": [
    "from sklearn.metrics import r2_score"
   ]
  },
  {
   "cell_type": "code",
   "execution_count": 86,
   "metadata": {},
   "outputs": [
    {
     "name": "stdout",
     "output_type": "stream",
     "text": [
      "결정계수 : 0.6917\n"
     ]
    }
   ],
   "source": [
    "model = LinearRegression()\n",
    "model.fit(X_train, y_train)\n",
    "\n",
    "y_pred_test = model.predict(X_test)\n",
    "\n",
    "print(f\"결정계수 : {r2_score(y_test, y_pred_test):.4f}\")"
   ]
  },
  {
   "cell_type": "code",
   "execution_count": 78,
   "metadata": {},
   "outputs": [
    {
     "data": {
      "image/png": "[encoded data removed]",
      "text/plain": [
       "<Figure size 640x480 with 1 Axes>"
      ]
     },
     "metadata": {},
     "output_type": "display_data"
    }
   ],
   "source": [
    "linspaceDF = pd.DataFrame({'year' : np.linspace(1920, 2024, 100)})\n",
    "linspace_pred = model.predict(poly.transform(linspaceDF))\n",
    "\n",
    "# 결과 시각화\n",
    "plt.scatter(X_train[:,1], y_train, color='blue', label='Train data')\n",
    "plt.scatter(X_test[:, 1], y_test, color='red', label='Test data')\n",
    "# plt.scatter(X_test[:, 1], y_pred_test, color='red', label='Predicted data')\n",
    "plt.plot(linspaceDF, linspace_pred, label='Regression line')\n",
    "plt.xlabel('year')\n",
    "plt.ylabel('audience')\n",
    "plt.title('Polynomial Regression')\n",
    "plt.legend()\n",
    "plt.show()"
   ]
  },
  {
   "cell_type": "code",
   "execution_count": 79,
   "metadata": {},
   "outputs": [
    {
     "data": {
      "text/plain": [
       "(array([ 0.00000000e+00, -2.62849415e+05,  6.77413101e+01]),\n",
       " array(['1', 'year', 'year^2'], dtype=object))"
      ]
     },
     "execution_count": 79,
     "metadata": {},
     "output_type": "execute_result"
    }
   ],
   "source": [
    "model.coef_, poly.get_feature_names_out()"
   ]
  },
  {
   "cell_type": "code",
   "execution_count": 80,
   "metadata": {},
   "outputs": [
    {
     "name": "stdout",
     "output_type": "stream",
     "text": [
      "회귀식 : y = 67.74*year^2 -262849.42*year +254979271.66\n"
     ]
    }
   ],
   "source": [
    "var = poly.get_feature_names_out()\n",
    "coef = model.coef_\n",
    "inter = model.intercept_\n",
    "\n",
    "print(f\"회귀식 : y = {coef[2]:.2f}*{var[2]} {coef[1]:.2f}*{var[1]} +{inter:.2f}\")"
   ]
  },
  {
   "cell_type": "code",
   "execution_count": 162,
   "metadata": {},
   "outputs": [],
   "source": [
    "genre_dict = dict()\n",
    "\n",
    "for i in df['genre']:\n",
    "    genres = i.split(', ')\n",
    "    for j in genres:\n",
    "        if j not in genre_dict:\n",
    "            genre_dict[j] = 1\n",
    "        else:\n",
    "            genre_dict[j] += 1"
   ]
  },
  {
   "cell_type": "code",
   "execution_count": 164,
   "metadata": {},
   "outputs": [
    {
     "name": "stdout",
     "output_type": "stream",
     "text": [
      "{'액션': 1882, '범죄': 1326, '드라마': 4549, '멜로·로맨스': 1619, '코미디': 1883, '뮤직': 116, '애니메이션': 900, 'SF': 473, '전쟁': 173, '판타지': 489, '무협': 73, '뮤지컬': 118, '미스터리': 478, '스릴러': 851, '서부': 32, '공포': 534, '다큐멘터리': 546, '느와르': 47, '시대극': 27, '가족': 217, '옴니버스': 27, '블록버스터': 133, '3D': 34, '스포츠': 25, '어드벤처': 159, '역사·서사': 22, '전기': 16, '실화': 12, '퀴어': 3, '추리': 7, '자연재해': 2, '스파이': 1, '실험영화': 1, '서스펜스': 6, '모험': 4}\n"
     ]
    }
   ],
   "source": [
    "print(genre_dict)"
   ]
  },
  {
   "cell_type": "code",
   "execution_count": 219,
   "metadata": {},
   "outputs": [
    {
     "name": "stdout",
     "output_type": "stream",
     "text": [
      "------스릴러 장르------\n",
      "grade\n",
      "12세이상관람가     73\n",
      "15세이상관람가    427\n",
      "전체 관람가        4\n",
      "청소년 관람불가    310\n",
      "Name: count, dtype: int64\n",
      "----애니메이션 장르----\n",
      "grade\n",
      "12세이상관람가    115\n",
      "15세이상관람가     50\n",
      "전체 관람가      668\n",
      "청소년 관람불가     11\n",
      "Name: count, dtype: int64\n"
     ]
    }
   ],
   "source": [
    "df['thriller'] = df['genre'].apply(lambda x : True if '스릴러' in x else False)\n",
    "df['animation'] = df['genre'].apply(lambda x : True if '애니메이션' in x else False)\n",
    "grade_order = ['전체 관람가', '12세이상관람가', '15세이상관람가', '청소년 관람불가']\n",
    "thriller = df[df['thriller'] == True]['grade'].value_counts()\n",
    "animation = df[df['animation'] == True]['grade'].value_counts()\n",
    "# thriller.index = pd.Categorical(thriller.index, grade_order, ordered=True) # 인덱스 순서화\n",
    "# animation.index = pd.Categorical(animation.index, grade_order, ordered=True) # 인덱스 순서화\n",
    "print(f\"------스릴러 장르------\\n{thriller.sort_index()}\")\n",
    "print(f\"----애니메이션 장르----\\n{animation.sort_index()}\")"
   ]
  },
  {
   "cell_type": "code",
   "execution_count": 236,
   "metadata": {},
   "outputs": [
    {
     "data": {
      "text/html": [
       "<div>\n",
       "<style scoped>\n",
       "    .dataframe tbody tr th:only-of-type {\n",
       "        vertical-align: middle;\n",
       "    }\n",
       "\n",
       "    .dataframe tbody tr th {\n",
       "        vertical-align: top;\n",
       "    }\n",
       "\n",
       "    .dataframe thead th {\n",
       "        text-align: right;\n",
       "    }\n",
       "</style>\n",
       "<table border=\"1\" class=\"dataframe\">\n",
       "  <thead>\n",
       "    <tr style=\"text-align: right;\">\n",
       "      <th></th>\n",
       "      <th>스릴러</th>\n",
       "      <th>애니메이션</th>\n",
       "    </tr>\n",
       "    <tr>\n",
       "      <th>grade</th>\n",
       "      <th></th>\n",
       "      <th></th>\n",
       "    </tr>\n",
       "  </thead>\n",
       "  <tbody>\n",
       "    <tr>\n",
       "      <th>12세이상관람가</th>\n",
       "      <td>73</td>\n",
       "      <td>115</td>\n",
       "    </tr>\n",
       "    <tr>\n",
       "      <th>15세이상관람가</th>\n",
       "      <td>427</td>\n",
       "      <td>50</td>\n",
       "    </tr>\n",
       "    <tr>\n",
       "      <th>전체 관람가</th>\n",
       "      <td>4</td>\n",
       "      <td>668</td>\n",
       "    </tr>\n",
       "    <tr>\n",
       "      <th>청소년 관람불가</th>\n",
       "      <td>310</td>\n",
       "      <td>11</td>\n",
       "    </tr>\n",
       "  </tbody>\n",
       "</table>\n",
       "</div>"
      ],
      "text/plain": [
       "          스릴러  애니메이션\n",
       "grade               \n",
       "12세이상관람가   73    115\n",
       "15세이상관람가  427     50\n",
       "전체 관람가      4    668\n",
       "청소년 관람불가  310     11"
      ]
     },
     "execution_count": 236,
     "metadata": {},
     "output_type": "execute_result"
    }
   ],
   "source": [
    "a = pd.concat([pd.DataFrame(thriller).sort_index(), pd.DataFrame(animation).sort_index()], axis=1)\n",
    "a.columns = ['스릴러', '애니메이션']\n"
   ]
  },
  {
   "cell_type": "code",
   "execution_count": 215,
   "metadata": {},
   "outputs": [
    {
     "data": {
      "text/html": [
       "<div>\n",
       "<style scoped>\n",
       "    .dataframe tbody tr th:only-of-type {\n",
       "        vertical-align: middle;\n",
       "    }\n",
       "\n",
       "    .dataframe tbody tr th {\n",
       "        vertical-align: top;\n",
       "    }\n",
       "\n",
       "    .dataframe thead th {\n",
       "        text-align: right;\n",
       "    }\n",
       "</style>\n",
       "<table border=\"1\" class=\"dataframe\">\n",
       "  <thead>\n",
       "    <tr style=\"text-align: right;\">\n",
       "      <th></th>\n",
       "      <th>스릴러</th>\n",
       "      <th>애니메이션</th>\n",
       "    </tr>\n",
       "  </thead>\n",
       "  <tbody>\n",
       "    <tr>\n",
       "      <th>전체 관람가</th>\n",
       "      <td>4</td>\n",
       "      <td>668</td>\n",
       "    </tr>\n",
       "    <tr>\n",
       "      <th>12세이상관람가</th>\n",
       "      <td>73</td>\n",
       "      <td>115</td>\n",
       "    </tr>\n",
       "    <tr>\n",
       "      <th>15세이상관람가</th>\n",
       "      <td>427</td>\n",
       "      <td>50</td>\n",
       "    </tr>\n",
       "    <tr>\n",
       "      <th>청소년 관람불가</th>\n",
       "      <td>310</td>\n",
       "      <td>11</td>\n",
       "    </tr>\n",
       "  </tbody>\n",
       "</table>\n",
       "</div>"
      ],
      "text/plain": [
       "          스릴러  애니메이션\n",
       "전체 관람가      4    668\n",
       "12세이상관람가   73    115\n",
       "15세이상관람가  427     50\n",
       "청소년 관람불가  310     11"
      ]
     },
     "execution_count": 215,
     "metadata": {},
     "output_type": "execute_result"
    }
   ],
   "source": [
    "crosstab = pd.DataFrame({\n",
    "    '스릴러' : thriller.sort_index().values,\n",
    "    '애니메이션' : animation.sort_index().values\n",
    "}, index=grade_order)\n",
    "crosstab"
   ]
  },
  {
   "cell_type": "code",
   "execution_count": 243,
   "metadata": {},
   "outputs": [
    {
     "name": "stdout",
     "output_type": "stream",
     "text": [
      "검정통계량 : 2934.7684\n",
      "유의확률 : 0.0000\n"
     ]
    }
   ],
   "source": [
    "statistic, p_value, dof, ef = chi2_contingency(crosstab)\n",
    "print(f\"검정통계량 : {statistic:.4f}\")\n",
    "print(f\"유의확률 : {p_value:.4f}\")"
   ]
  },
  {
   "cell_type": "code",
   "execution_count": null,
   "metadata": {},
   "outputs": [],
   "source": []
  }
 ],
 "metadata": {
  "kernelspec": {
   "display_name": "TORCH_TEXT_38",
   "language": "python",
   "name": "python3"
  },
  "language_info": {
   "codemirror_mode": {
    "name": "ipython",
    "version": 3
   },
   "file_extension": ".py",
   "mimetype": "text/x-python",
   "name": "python",
   "nbconvert_exporter": "python",
   "pygments_lexer": "ipython3",
   "version": "3.8.18"
  }
 },
 "nbformat": 4,
 "nbformat_minor": 2
}
