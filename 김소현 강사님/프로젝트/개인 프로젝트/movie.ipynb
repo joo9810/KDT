{
 "cells": [
  {
   "cell_type": "code",
   "execution_count": 1,
   "metadata": {},
   "outputs": [],
   "source": [
    "import requests\n",
    "import pandas as pd\n",
    "import numpy as np\n",
    "from bs4 import BeautifulSoup\n",
    "from PIL import Image\n",
    "from io import BytesIO\n",
    "import mysql.connector"
   ]
  },
  {
   "cell_type": "code",
   "execution_count": 2,
   "metadata": {},
   "outputs": [],
   "source": [
    "def movie(idx, img_save = False):\n",
    "    url = f'http://www.cine21.com/movie/info/?movie_id={idx}'\n",
    "    try:\n",
    "        response = requests.get(url)\n",
    "        soup = BeautifulSoup(response.text, 'html.parser')\n",
    "        if '존재하지 않는 영화입니다.' in soup.find('script').text:\n",
    "            # print(f'(생략) 인덱스 {idx} : 존재하지 않는 영화입니다')\n",
    "            return f'{idx} 존재하지 않는 영화'\n",
    "        elif '성인용 컨텐츠입니다.' in soup.find('script').text:\n",
    "            # print(f'(생략) 인덱스 {idx} : 성인용 영화입니다')\n",
    "            return f'{idx} 성인용 영화'\n",
    "        movie_info = soup.find('div', class_ = 'mov_info')\n",
    "        span = movie_info.find_all('span')\n",
    "    except:\n",
    "        # print(f'(생략) 인덱스 {idx} : 서버 장애 발생')\n",
    "        return f'{idx} 서버 장애'\n",
    "\n",
    "    try:\n",
    "        movie_name_ko = movie_info.find('p', class_ = 'tit').text\n",
    "        movie_name_en = span[-8].text\n",
    "        country = span[-6].text\n",
    "        grade = span[-5].text\n",
    "        genre = span[-4].text\n",
    "        time = int(span[-3].text.split()[-1][:-1])\n",
    "        date = span[-2].text.split()[-1]\n",
    "        audience = int(span[-1].text.split()[-1][:-1].replace(',',''))\n",
    "        director = movie_info.find('a').text\n",
    "        poster_link = soup.find('div', class_ = 'mov_poster').find('img')['src']\n",
    "\n",
    "        if country.isnumeric() == True:\n",
    "            return f'{idx} 영화 정보 불충분'\n",
    "\n",
    "        if poster_link == 'https://image.cine21.com/resize//noimg[X230,330].jpg':\n",
    "            # print(f\"(생략) 인덱스 {idx} : 포스터 정보 불충분\")\n",
    "            return f'{idx} 포스터 없음'\n",
    "\n",
    "        if img_save == True:\n",
    "            poster_response = requests.get(poster_link)\n",
    "            poster_image = Image.open(BytesIO(poster_response.content))\n",
    "            poster_image.save(f'/Users/anhyojun/WorkSpace/LocalData/movie_poster/{idx}_{movie_name_ko}.jpg')\n",
    "        # print(movie_name_ko, movie_name_en, country, grade, genre, time, date, audience, director, poster_link)\n",
    "\n",
    "        return idx, movie_name_ko, movie_name_en, country, grade, date, time, audience, director, poster_link, genre\n",
    "\n",
    "    except:\n",
    "        # print(f\"(생략) 인덱스 {idx} : 영화 정보 불충분\")\n",
    "        return f'{idx} 영화 정보 불충분'"
   ]
  },
  {
   "cell_type": "code",
   "execution_count": 3,
   "metadata": {},
   "outputs": [
    {
     "name": "stdout",
     "output_type": "stream",
     "text": [
      "MySQL에 성공적으로 연결되었습니다\n"
     ]
    }
   ],
   "source": [
    "# My SQL 데이터베이스 연결\n",
    "conn = mysql.connector.connect(\n",
    "    host = 'localhost',\n",
    "    user = 'root',\n",
    "    password = 'signcity114',\n",
    "    database = 'MyDB'\n",
    ")\n",
    "\n",
    "# 연결 확인\n",
    "if conn.is_connected():\n",
    "    print(\"MySQL에 성공적으로 연결되었습니다\")\n",
    "else:\n",
    "    print(\"MySQL 연결 실패\")\n",
    "\n",
    "# 연결 종료\n",
    "# conn.close()"
   ]
  },
  {
   "cell_type": "code",
   "execution_count": 4,
   "metadata": {},
   "outputs": [],
   "source": [
    "create_table_query = \"\"\"\n",
    "CREATE TABLE IF NOT EXISTS movies (\n",
    "    id INT PRIMARY KEY,\n",
    "    movie_name_ko VARCHAR(255),\n",
    "    movie_name_en VARCHAR(255),\n",
    "    country VARCHAR(255),\n",
    "    grade VARCHAR(255),\n",
    "    release_date DATE,\n",
    "    runtime INT,\n",
    "    audience INT,\n",
    "    director VARCHAR(255),\n",
    "    poster_link VARCHAR(255),\n",
    "    genre VARCHAR(255))\"\"\"\n",
    "\n",
    "insert_query = \"\"\"\n",
    "INSERT INTO movies\n",
    "VALUES (%s, %s, %s, %s, %s, %s, %s, %s, %s, %s, %s)\"\"\""
   ]
  },
  {
   "cell_type": "code",
   "execution_count": 5,
   "metadata": {},
   "outputs": [],
   "source": [
    "# cursor = conn.cursor()\n",
    "\n",
    "# cursor.execute(create_table_query)\n",
    "# conn.commit()\n",
    "# print(\"테이블이 성공적으로 생성되었습니다\")\n",
    "\n",
    "# conn.close()"
   ]
  },
  {
   "cell_type": "code",
   "execution_count": null,
   "metadata": {},
   "outputs": [],
   "source": [
    "cursor = conn.cursor()\n",
    "\n",
    "data = movie(1)"
   ]
  },
  {
   "cell_type": "code",
   "execution_count": null,
   "metadata": {},
   "outputs": [
    {
     "name": "stdout",
     "output_type": "stream",
     "text": [
      "(1, '히트', 'Heat', '미국', '청소년 관람불가', '2017-11-09', 171, 412819, '마이클 만', 'https://image.cine21.com/resize/cine21/poster/2017/1024/13_51_32__59eec6d4af7bb[X230,330].jpg', '액션, 범죄, 드라마')\n"
     ]
    }
   ],
   "source": [
    "for i in range(1, 101):\n",
    "    cursor = conn.cursor()\n",
    "\n",
    "    data = movie(i)\n",
    "    if len(data) == 11:\n",
    "        cursor.execute(insert_query, data)\n",
    "        print(data)\n",
    "conn.commit()"
   ]
  },
  {
   "cell_type": "code",
   "execution_count": null,
   "metadata": {},
   "outputs": [],
   "source": []
  }
 ],
 "metadata": {
  "kernelspec": {
   "display_name": "TORCH_TEXT_38",
   "language": "python",
   "name": "python3"
  },
  "language_info": {
   "codemirror_mode": {
    "name": "ipython",
    "version": 3
   },
   "file_extension": ".py",
   "mimetype": "text/x-python",
   "name": "python",
   "nbconvert_exporter": "python",
   "pygments_lexer": "ipython3",
   "version": "3.8.18"
  }
 },
 "nbformat": 4,
 "nbformat_minor": 2
}
