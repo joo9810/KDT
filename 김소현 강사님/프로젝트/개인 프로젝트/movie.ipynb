{
 "cells": [
  {
   "cell_type": "code",
   "execution_count": 2,
   "metadata": {},
   "outputs": [],
   "source": [
    "import requests\n",
    "import pandas as pd\n",
    "import numpy as np\n",
    "from bs4 import BeautifulSoup\n",
    "from PIL import Image\n",
    "from io import BytesIO\n",
    "import mysql.connector\n",
    "from selenium import webdriver\n",
    "from selenium.webdriver.chrome.service import Service\n",
    "import time\n",
    "from user_agent import generate_user_agent, generate_navigator\n",
    "from selenium.common.exceptions import UnexpectedAlertPresentException\n",
    "import requests\n",
    "import datetime"
   ]
  },
  {
   "cell_type": "code",
   "execution_count": 3,
   "metadata": {},
   "outputs": [],
   "source": [
    "def movie_crawling(webdriver_path, service, driver, id):\n",
    "    webdriver_path = webdriver_path\n",
    "    service = service\n",
    "    driver = driver\n",
    "    try:\n",
    "        url = f'http://cine21.com/movie/info/?movie_id={id}'\n",
    "        driver.get(url)\n",
    "        time.sleep(1)\n",
    "        html = driver.page_source\n",
    "        soup = BeautifulSoup(html, 'html.parser')\n",
    "        sub_info = soup.find_all('p', class_='sub_info')\n",
    "        sub_info_list = [i.text.strip().replace('\\n', ' ').replace('\\t', ' ') for i in sub_info]\n",
    "        ko_name = soup.find('p', class_='tit').text\n",
    "        en_name = soup.find('p', class_='tit_eng').text.strip().split('\\n')[-1]\n",
    "        story = soup.find('div', class_='story').text.strip().replace('\\t', '').replace('\\n', ' ').replace('  ', ' ')\n",
    "        if story == '':\n",
    "            story = None\n",
    "        year = sub_info_list[0].split()[0]\n",
    "        country = sub_info_list[0].split()[1]\n",
    "        poster_link = soup.find('div', class_='mov_poster').find('img')['src']\n",
    "        if poster_link == 'https://image.cine21.com/resize//noimg[X230,330].jpg':\n",
    "            poster_link = None\n",
    "\n",
    "        try:\n",
    "            if sub_info_list[2][:3] == '개봉일' and len(sub_info_list[2][6:16]) == 10:\n",
    "                pd.to_datetime(sub_info_list[2][6:16])\n",
    "                release_date = sub_info_list[2][6:16]\n",
    "            else:\n",
    "                release_date = None\n",
    "        except:\n",
    "            release_date = None\n",
    "    \n",
    "        if sub_info_list[2][17:21] == '누적관객':\n",
    "            audience = int(sub_info_list[2][24:].replace(',', '').replace('명', '').replace(',', ''))\n",
    "        else:\n",
    "            audience = None\n",
    "        \n",
    "        if sub_info_list[1].split('상영시간 : ')[0] != '':\n",
    "            genre = sub_info_list[1].split('상영시간 : ')[0][:-1]\n",
    "            running_time = int(sub_info_list[1].split('상영시간 : ')[1][:-1])\n",
    "        else:\n",
    "            genre = None\n",
    "            running_time = int(sub_info_list[1].split('상영시간 : ')[1][:-1])\n",
    "\n",
    "        if sub_info_list[3][0:2] == '감독':\n",
    "            director = sub_info_list[3][18:]\n",
    "        else:\n",
    "            director = None\n",
    "\n",
    "        for i in range(1, 6):\n",
    "            if soup.find('span', class_=f'grade00{i}') != None:\n",
    "                grade = soup.find('span', class_=f'grade00{i}').text\n",
    "                break\n",
    "            elif i == 5:\n",
    "                grade = None\n",
    "\n",
    "        return [id, ko_name, en_name, year, country, grade, genre, running_time, release_date, audience, director, story, poster_link]\n",
    "    \n",
    "    except UnexpectedAlertPresentException as e1:\n",
    "        return e1.alert_text\n",
    "    \n",
    "    except IndexError as e2:\n",
    "        return '영화 정보 불충분'\n",
    "    \n",
    "    except AttributeError as e3:\n",
    "        return '일시적으로 서비스 장애가 발생하였습니다.'"
   ]
  },
  {
   "cell_type": "code",
   "execution_count": 4,
   "metadata": {},
   "outputs": [],
   "source": [
    "create_table_query = \"\"\"\n",
    "CREATE TABLE IF NOT EXISTS movies (\n",
    "    id INT PRIMARY KEY,\n",
    "    ko_name VARCHAR(255),\n",
    "    en_name VARCHAR(255),\n",
    "    country VARCHAR(255),\n",
    "    grade VARCHAR(255),\n",
    "    genre VARCHAR(255),\n",
    "    runtime INT,\n",
    "    release_date DATE,\n",
    "    audience INT,\n",
    "    director VARCHAR(255),\n",
    "    story VARCHAR(255),\n",
    "    poster_link VARCHAR(255))\"\"\""
   ]
  },
  {
   "cell_type": "code",
   "execution_count": 5,
   "metadata": {},
   "outputs": [],
   "source": [
    "# # My SQL 데이터베이스 연결\n",
    "# conn = mysql.connector.connect(\n",
    "#     host = 'localhost',\n",
    "#     user = 'root',\n",
    "#     password = 'signcity114',\n",
    "#     database = 'MyDB'\n",
    "# )\n",
    "\n",
    "# cursor = conn.cursor()\n",
    "\n",
    "# cursor.execute(create_table_query)\n",
    "# conn.commit()\n",
    "# print(\"테이블이 성공적으로 생성되었습니다\")\n",
    "\n",
    "# conn.close()"
   ]
  },
  {
   "cell_type": "code",
   "execution_count": 26,
   "metadata": {},
   "outputs": [
    {
     "name": "stdout",
     "output_type": "stream",
     "text": [
      "MySQL에 성공적으로 연결되었습니다\n",
      "존재하지 않는 영화입니다.\n",
      "성인용 컨텐츠입니다. 로그인 해 주세요.\n",
      "성인용 컨텐츠입니다. 로그인 해 주세요.\n"
     ]
    },
    {
     "ename": "DatabaseError",
     "evalue": "1366 (HY000): Incorrect integer value: '중국' for column 'year' at row 1",
     "output_type": "error",
     "traceback": [
      "\u001b[0;31m---------------------------------------------------------------------------\u001b[0m",
      "\u001b[0;31mDatabaseError\u001b[0m                             Traceback (most recent call last)",
      "Cell \u001b[0;32mIn[26], line 39\u001b[0m\n\u001b[1;32m     37\u001b[0m     \u001b[38;5;28mprint\u001b[39m(data)\n\u001b[1;32m     38\u001b[0m     \u001b[38;5;28;01mcontinue\u001b[39;00m\n\u001b[0;32m---> 39\u001b[0m \u001b[43mcursor\u001b[49m\u001b[38;5;241;43m.\u001b[39;49m\u001b[43mexecute\u001b[49m\u001b[43m(\u001b[49m\u001b[43minsert_query\u001b[49m\u001b[43m,\u001b[49m\u001b[43m \u001b[49m\u001b[43mdata\u001b[49m\u001b[43m)\u001b[49m\n\u001b[1;32m     40\u001b[0m conn\u001b[38;5;241m.\u001b[39mcommit()\n\u001b[1;32m     41\u001b[0m \u001b[38;5;28mprint\u001b[39m(data)\n",
      "File \u001b[0;32m/opt/anaconda3/envs/TORCH_TEXT_38/lib/python3.8/site-packages/mysql/connector/cursor.py:537\u001b[0m, in \u001b[0;36mMySQLCursor.execute\u001b[0;34m(self, operation, params, multi)\u001b[0m\n\u001b[1;32m    534\u001b[0m     \u001b[38;5;28;01mreturn\u001b[39;00m \u001b[38;5;28mself\u001b[39m\u001b[38;5;241m.\u001b[39m_execute_iter(\u001b[38;5;28mself\u001b[39m\u001b[38;5;241m.\u001b[39m_connection\u001b[38;5;241m.\u001b[39mcmd_query_iter(stmt))\n\u001b[1;32m    536\u001b[0m \u001b[38;5;28;01mtry\u001b[39;00m:\n\u001b[0;32m--> 537\u001b[0m     \u001b[38;5;28mself\u001b[39m\u001b[38;5;241m.\u001b[39m_handle_result(\u001b[38;5;28;43mself\u001b[39;49m\u001b[38;5;241;43m.\u001b[39;49m\u001b[43m_connection\u001b[49m\u001b[38;5;241;43m.\u001b[39;49m\u001b[43mcmd_query\u001b[49m\u001b[43m(\u001b[49m\u001b[43mstmt\u001b[49m\u001b[43m)\u001b[49m)\n\u001b[1;32m    538\u001b[0m \u001b[38;5;28;01mexcept\u001b[39;00m InterfaceError \u001b[38;5;28;01mas\u001b[39;00m err:\n\u001b[1;32m    539\u001b[0m     \u001b[38;5;28;01mif\u001b[39;00m \u001b[38;5;28mself\u001b[39m\u001b[38;5;241m.\u001b[39m_connection\u001b[38;5;241m.\u001b[39mhave_next_result:\n",
      "File \u001b[0;32m/opt/anaconda3/envs/TORCH_TEXT_38/lib/python3.8/site-packages/mysql/connector/opentelemetry/context_propagation.py:97\u001b[0m, in \u001b[0;36mwith_context_propagation.<locals>.wrapper\u001b[0;34m(cnx, *args, **kwargs)\u001b[0m\n\u001b[1;32m     95\u001b[0m \u001b[38;5;66;03m# pylint: disable=possibly-used-before-assignment\u001b[39;00m\n\u001b[1;32m     96\u001b[0m \u001b[38;5;28;01mif\u001b[39;00m \u001b[38;5;129;01mnot\u001b[39;00m OTEL_ENABLED \u001b[38;5;129;01mor\u001b[39;00m \u001b[38;5;129;01mnot\u001b[39;00m cnx\u001b[38;5;241m.\u001b[39motel_context_propagation:\n\u001b[0;32m---> 97\u001b[0m     \u001b[38;5;28;01mreturn\u001b[39;00m \u001b[43mmethod\u001b[49m\u001b[43m(\u001b[49m\u001b[43mcnx\u001b[49m\u001b[43m,\u001b[49m\u001b[43m \u001b[49m\u001b[38;5;241;43m*\u001b[39;49m\u001b[43margs\u001b[49m\u001b[43m,\u001b[49m\u001b[43m \u001b[49m\u001b[38;5;241;43m*\u001b[39;49m\u001b[38;5;241;43m*\u001b[39;49m\u001b[43mkwargs\u001b[49m\u001b[43m)\u001b[49m\n\u001b[1;32m     99\u001b[0m current_span \u001b[38;5;241m=\u001b[39m trace\u001b[38;5;241m.\u001b[39mget_current_span()\n\u001b[1;32m    100\u001b[0m tp_header \u001b[38;5;241m=\u001b[39m \u001b[38;5;28;01mNone\u001b[39;00m\n",
      "File \u001b[0;32m/opt/anaconda3/envs/TORCH_TEXT_38/lib/python3.8/site-packages/mysql/connector/connection.py:859\u001b[0m, in \u001b[0;36mMySQLConnection.cmd_query\u001b[0;34m(self, query, raw, buffered, raw_as_string)\u001b[0m\n\u001b[1;32m    857\u001b[0m query \u001b[38;5;241m=\u001b[39m \u001b[38;5;28mbytes\u001b[39m(packet)\n\u001b[1;32m    858\u001b[0m \u001b[38;5;28;01mtry\u001b[39;00m:\n\u001b[0;32m--> 859\u001b[0m     result \u001b[38;5;241m=\u001b[39m \u001b[38;5;28;43mself\u001b[39;49m\u001b[38;5;241;43m.\u001b[39;49m\u001b[43m_handle_result\u001b[49m\u001b[43m(\u001b[49m\u001b[38;5;28;43mself\u001b[39;49m\u001b[38;5;241;43m.\u001b[39;49m\u001b[43m_send_cmd\u001b[49m\u001b[43m(\u001b[49m\u001b[43mServerCmd\u001b[49m\u001b[38;5;241;43m.\u001b[39;49m\u001b[43mQUERY\u001b[49m\u001b[43m,\u001b[49m\u001b[43m \u001b[49m\u001b[43mquery\u001b[49m\u001b[43m)\u001b[49m\u001b[43m)\u001b[49m\n\u001b[1;32m    860\u001b[0m \u001b[38;5;28;01mexcept\u001b[39;00m ProgrammingError \u001b[38;5;28;01mas\u001b[39;00m err:\n\u001b[1;32m    861\u001b[0m     \u001b[38;5;28;01mif\u001b[39;00m err\u001b[38;5;241m.\u001b[39merrno \u001b[38;5;241m==\u001b[39m \u001b[38;5;241m3948\u001b[39m \u001b[38;5;129;01mand\u001b[39;00m \u001b[38;5;124m\"\u001b[39m\u001b[38;5;124mLoading local data is disabled\u001b[39m\u001b[38;5;124m\"\u001b[39m \u001b[38;5;129;01min\u001b[39;00m err\u001b[38;5;241m.\u001b[39mmsg:\n",
      "File \u001b[0;32m/opt/anaconda3/envs/TORCH_TEXT_38/lib/python3.8/site-packages/mysql/connector/connection.py:635\u001b[0m, in \u001b[0;36mMySQLConnection._handle_result\u001b[0;34m(self, packet)\u001b[0m\n\u001b[1;32m    633\u001b[0m     \u001b[38;5;28;01mreturn\u001b[39;00m \u001b[38;5;28mself\u001b[39m\u001b[38;5;241m.\u001b[39m_handle_eof(packet)\n\u001b[1;32m    634\u001b[0m \u001b[38;5;28;01mif\u001b[39;00m packet[\u001b[38;5;241m4\u001b[39m] \u001b[38;5;241m==\u001b[39m \u001b[38;5;241m255\u001b[39m:\n\u001b[0;32m--> 635\u001b[0m     \u001b[38;5;28;01mraise\u001b[39;00m get_exception(packet)\n\u001b[1;32m    637\u001b[0m \u001b[38;5;66;03m# We have a text result set\u001b[39;00m\n\u001b[1;32m    638\u001b[0m column_count \u001b[38;5;241m=\u001b[39m \u001b[38;5;28mself\u001b[39m\u001b[38;5;241m.\u001b[39m_protocol\u001b[38;5;241m.\u001b[39mparse_column_count(packet)\n",
      "\u001b[0;31mDatabaseError\u001b[0m: 1366 (HY000): Incorrect integer value: '중국' for column 'year' at row 1"
     ]
    }
   ],
   "source": [
    "# My SQL 데이터베이스 연결\n",
    "conn = mysql.connector.connect(\n",
    "    host = 'localhost',\n",
    "    user = 'root',\n",
    "    password = 'signcity114',\n",
    "    database = 'MyDB'\n",
    ")\n",
    "\n",
    "# 연결 확인\n",
    "if conn.is_connected():\n",
    "    print(\"MySQL에 성공적으로 연결되었습니다\")\n",
    "else:\n",
    "    print(\"MySQL 연결 실패\")\n",
    "\n",
    "cursor = conn.cursor()\n",
    "\n",
    "webdriver_path = '/Users/anhyojun/WebDriver/chromedriver'\n",
    "service = Service(webdriver_path)\n",
    "driver = webdriver.Chrome(service=service)\n",
    "\n",
    "insert_query = \"\"\"\n",
    "INSERT INTO movie\n",
    "VALUES (%s, %s, %s, %s, %s, %s, %s, %s, %s, %s, %s, %s, %s)\"\"\"\n",
    "\n",
    "for i in range(46341, 60000):\n",
    "    data = movie_crawling(webdriver_path, service, driver, i)\n",
    "    if data == '존재하지 않는 영화입니다.':\n",
    "        print(data)\n",
    "        continue\n",
    "    elif data == '성인용 컨텐츠입니다. 로그인 해 주세요.':\n",
    "        print(data)\n",
    "        continue\n",
    "    elif data == '영화 정보 불충분':\n",
    "        print(data)\n",
    "        continue\n",
    "    elif data == '일시적으로 서비스 장애가 발생하였습니다.':\n",
    "        print(data)\n",
    "        continue\n",
    "    cursor.execute(insert_query, data)\n",
    "    conn.commit()\n",
    "    print(data)"
   ]
  },
  {
   "cell_type": "code",
   "execution_count": null,
   "metadata": {},
   "outputs": [],
   "source": []
  },
  {
   "cell_type": "code",
   "execution_count": null,
   "metadata": {},
   "outputs": [],
   "source": []
  },
  {
   "cell_type": "code",
   "execution_count": null,
   "metadata": {},
   "outputs": [],
   "source": []
  },
  {
   "cell_type": "code",
   "execution_count": 54,
   "metadata": {},
   "outputs": [
    {
     "data": {
      "text/plain": [
       "[415,\n",
       " '언지프',\n",
       " 'Unzipped',\n",
       " '미국',\n",
       " '15세이상관람가',\n",
       " '다큐멘터리',\n",
       " 73,\n",
       " None,\n",
       " 7903,\n",
       " '더글러스 키브',\n",
       " '흥미진진하고 즐거움을 주는 매우 사적인 패션 디자이너 마즈라히는 Nanlook of the North, Samantha Stevens 등 다양한 문화계의 우상들에게 영감을 얻으면서 좌절과 기쁨과 공포로 가득한 모델들이 걸어다니는 진짜 패션쇼를 만들어내기 위해 분주하다. 그는 중요한 잡지 편집자를 위해 자신의 디자인을 재검토하고 루브르에서 기록으로 남아 있는 패션 콜렉션을 보기 위해 파리로 여행하기도 한다.  쇼가 가까워지자 그는 디자인에 생명을 불어넣고, 케이트 못, 린다 에반젤리스타, 신디 크로포드 같은 세계 톱모델들과 계약을 체결하는 과정을 거치면서 유명인사들과 비평가들로 들어찬 쇼장에서 대담하고 복잡미묘하게 신경을 곤두서게 하는 쇼를 진행한다.',\n",
       " 'https://image.cine21.com/resize/cine21/poster/2005/0615/M0010197_[X230,330].jpg']"
      ]
     },
     "execution_count": 54,
     "metadata": {},
     "output_type": "execute_result"
    }
   ],
   "source": [
    "webdriver_path = '/Users/anhyojun/WebDriver/chromedriver'\n",
    "service = Service(webdriver_path)\n",
    "driver = webdriver.Chrome(service=service)\n",
    "movie_crawling(webdriver_path, service, driver, 415)"
   ]
  }
 ],
 "metadata": {
  "kernelspec": {
   "display_name": "TORCH_TEXT_38",
   "language": "python",
   "name": "python3"
  },
  "language_info": {
   "codemirror_mode": {
    "name": "ipython",
    "version": 3
   },
   "file_extension": ".py",
   "mimetype": "text/x-python",
   "name": "python",
   "nbconvert_exporter": "python",
   "pygments_lexer": "ipython3",
   "version": "3.8.18"
  }
 },
 "nbformat": 4,
 "nbformat_minor": 2
}
