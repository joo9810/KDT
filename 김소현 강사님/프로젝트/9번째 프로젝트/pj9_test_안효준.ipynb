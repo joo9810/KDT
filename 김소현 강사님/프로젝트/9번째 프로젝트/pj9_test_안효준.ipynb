{
 "cells": [
  {
   "cell_type": "code",
   "execution_count": 1,
   "metadata": {},
   "outputs": [],
   "source": [
    "import requests\n",
    "import pandas as pd\n",
    "import numpy as np\n",
    "from bs4 import BeautifulSoup\n",
    "from PIL import Image\n",
    "from io import BytesIO\n",
    "import mysql.connector\n",
    "from selenium import webdriver\n",
    "from selenium.webdriver.chrome.service import Service\n",
    "import time\n",
    "from user_agent import generate_user_agent, generate_navigator\n",
    "from selenium.common.exceptions import UnexpectedAlertPresentException\n",
    "import requests\n",
    "import datetime\n",
    "\n",
    "import mysql\n",
    "import matplotlib.pyplot as plt\n",
    "import cv2 \n",
    "import os\n",
    "import glob\n",
    "import joblib\n",
    "\n",
    "from torchvision import transforms, models\n",
    "from torch.utils.data import Dataset, DataLoader\n",
    "import torch\n",
    "import torch.nn as nn\n",
    "import torch.optim as optim\n",
    "from torchvision.models import ResNet50_Weights\n",
    "import  torch.nn.functional as F\n",
    "\n",
    "\n",
    "import MeCab\n",
    "from konlpy.tag import Okt\n",
    "\n",
    "from sklearn.feature_extraction.text import TfidfVectorizer\n",
    "from sklearn.model_selection import train_test_split\n",
    "\n",
    "import sys\n",
    "sys.path.append('/Users/anhyojun/WorkSpace/KDT2/MyModule')\n",
    "from KDTModule import *"
   ]
  },
  {
   "cell_type": "code",
   "execution_count": 2,
   "metadata": {},
   "outputs": [
    {
     "data": {
      "text/plain": [
       "<torch._C.Generator at 0x17abf0e10>"
      ]
     },
     "execution_count": 2,
     "metadata": {},
     "output_type": "execute_result"
    }
   ],
   "source": [
    "torch.manual_seed(1)"
   ]
  },
  {
   "cell_type": "code",
   "execution_count": 3,
   "metadata": {},
   "outputs": [],
   "source": [
    "movie = pd.read_csv('movieDF.csv')"
   ]
  },
  {
   "cell_type": "code",
   "execution_count": 4,
   "metadata": {},
   "outputs": [],
   "source": [
    "story = movie['story']\n",
    "grade_dict = {'전체 관람가' : 0, '12세이상관람가' : 1, '15세이상관람가' : 2, '청소년 관람불가' : 3}\n",
    "grade = movie['grade'].replace(grade_dict)"
   ]
  },
  {
   "cell_type": "code",
   "execution_count": 5,
   "metadata": {},
   "outputs": [],
   "source": [
    "text_list = list(story.values)\n",
    "label_list = list(grade.values)"
   ]
  },
  {
   "cell_type": "code",
   "execution_count": 6,
   "metadata": {},
   "outputs": [
    {
     "data": {
      "text/plain": [
       "(['LA 경찰국 강력계의 빈센트 한나(알 파치노) 반장은 두 번의 이혼 경력과 순탄치 않은 세 번째 결혼생활로 불안하고 우울한 일상을 이어간다. 어느 날 특급 우편 차량을 급습하는 사건이 일어나고 호송 요원 세 명이 무참히 살해되자 한나는 특유의 예리한 감으로 닐 맥컬리(로버트 드 니로)의 존재를 찾아낸다. 자신의 팀원들을 가족처럼 보살피는 빈틈없는 프로 범죄자 닐은 자신을 쫓는 한나를 비웃듯 따돌리고 닐의 용의주도하고 프로페셔널한 면모에 한나는 닐에 대한 관심과 승부욕이 생기기 시작하는데… 액션의 전설이 다시 부활한다!',\n",
       "  '미국 4대 항공사인 엔디버 항공사의 사장이자 재력가인 톰 멀론은 성공의 상징이며 언제나 매스컴의 주목을 받고 있는 유명인사다. 뉴욕시의 과학발명품 경연대회가 있던 날 톰과 케이트의 아들인 숀이 납치된다. 범인들은 숀의 몸값으로 2백만 달러를 요구한다. FBI에서 사건을 맡지만 톰은 아들을 구하겠다는 일념으로 돈을 들고 약속 장소로 나간다. 1차 작전이 실패하고 극도로 불안한 톰은 방송에 출연해 유괴범을 잡는 사람에게 4백만 달러의 현상금을 지불하겠다는 선전포고를 한다.',\n",
       "  '에드워드는 망해가는 회사를 사들여 나누어서 비싸게 파는 일을 하는 부유하고도 냉정한 사업가다. 사업차 로스엔젤레스로 간 그는 그 곳에서 비비안이라는 창녀를 만나 하룻밤을 지낸다. 그는 영화를 보면서 웃거나 목욕을 하며 노래를 부르는 그녀의 모습을 보고 하루가 아니라 한 주 동안 자신과 같이 지낼 것을 제안한다. 그리고 비비안은 에드워드와 중요한 자리에 참석하기 위해 완전히 딴 사람으로 변신한다. 계약 기간 동안 같이 지내게 된 리차드와 비비안은 서로에게 호감을 느낀다. 에드워드는 비비안과 함께 잠시 일에서 벗어나 한가로운 시간을 보내며 회사를 나누어 팔기만 하는 자신의 일에 대해 다시 한번 생각하게 된다.  계약했던 기간이 다 지나고 에드워드는 그녀를 계속 만나고 싶어하지만 비비안은 숨겨진 여자로 관계를 지속시키고 싶어하지 않는다. 결국 그녀는 그를 떠나는데..',\n",
       "  '사랑이 짧으면 슬픔은 길어진다! 벤은 할리우드에서 유망한 극작가이다. 그의 작품은 좋은 평판을 받고 있지만 그와 반대로 벤의 몸은 이미 알콜 없이는 하루도 살 수 없는 지경이다. 벤은 알콜로 인해 더 이상 직장에 근무하지도 못하고 해고를 당한다. 가족, 직장, 친구들 모두 잃게 된 벤은 라스 베가스로 떠난다. 그곳에서 술과 함께 이 세상을 마감할 생각인 것이다. 하지만 벤은 라스베가스에 도착하자마자 창녀 세라를 만나면서 마지막 생의 불꽃을 태운다.',\n",
       "  '“절대 그녀에게서 눈을 떼지 말 것” “절대 경호를 풀지 말 것” “절대 사랑에 빠지지 말 것” 전직 대통령을 경호했던 보디가드(케빈 코스트너)와 세계적인 톱스타 여가수(휘트니 휴스턴)의 이뤄질 수 없는 운명적인 사랑을 그린 모두의 인생 로맨스'],\n",
       " [3, 2, 3, 3, 2])"
      ]
     },
     "execution_count": 6,
     "metadata": {},
     "output_type": "execute_result"
    }
   ],
   "source": [
    "text_list[:5], label_list[:5]"
   ]
  },
  {
   "cell_type": "code",
   "execution_count": 7,
   "metadata": {},
   "outputs": [
    {
     "name": "stdout",
     "output_type": "stream",
     "text": [
      "[train] : 13824\n",
      "[valid] : 3457\n",
      "[test] : 4321\n"
     ]
    }
   ],
   "source": [
    "# 훈련, 검증, 테스트 분리\n",
    "train_texts, test_texts, train_labels, test_labels = train_test_split(text_list, label_list, test_size=0.2,\n",
    "                                                                      stratify=label_list, random_state=42)\n",
    "train_texts, valid_texts, train_labels, valid_labels = train_test_split(train_texts, train_labels, test_size=0.2,\n",
    "                                                                        stratify=train_labels, random_state=42)\n",
    "\n",
    "print(f\"[train] : {len(train_texts)}\")\n",
    "print(f\"[valid] : {len(valid_texts)}\")\n",
    "print(f\"[test] : {len(test_texts)}\")"
   ]
  },
  {
   "cell_type": "code",
   "execution_count": 10,
   "metadata": {},
   "outputs": [
    {
     "data": {
      "text/plain": [
       "'깨소금이라는 별명의 주리와 옥떨메라는 별명의 공주는 단짝으로 학교에서 명물로 통한다. 교장선생님과의 애교섞인 투쟁, 담임선생님과의 깜찍한 설전, 아담한 남학생 슬기와의 골탕먹이기 작전, 남학생 삼수와의 풋풋한 사랑, 언니와 미술선생님 간의 신나는 중매작전이 이루어진다.  그러던 어느 날, 깨소금과 옥떨메는 사소한 일로 다투게 되고 서먹서먹하게 된다. 개학식날 옥떨메의 모습이 보이지 않자 깨소금은 잘못을 뉘우치고 친구들과 옥떨메 찾기에 나선다. 가정형편으로 학교를 그만두고 계란장사를 하는 옥떨메를 발견하고 친구들이 옥떨메돕기운동에 나서 온통 계란소동이 나는데...'"
      ]
     },
     "execution_count": 10,
     "metadata": {},
     "output_type": "execute_result"
    }
   ],
   "source": []
  },
  {
   "cell_type": "code",
   "execution_count": 61,
   "metadata": {},
   "outputs": [
    {
     "data": {
      "text/plain": [
       "'15세미만관람가'"
      ]
     },
     "execution_count": 61,
     "metadata": {},
     "output_type": "execute_result"
    }
   ],
   "source": [
    "sentence = request.form['tweet']\n",
    "\n",
    "class TextModel(nn.Module):\n",
    "    def __init__(self, input_size, output_size, hidden_list, act_func, model, num_layers=1):\n",
    "        super().__init__()\n",
    "        # 입력층 (LSTM)\n",
    "        if model == 'lstm':\n",
    "            self.lstm_layer = nn.LSTM(input_size, hidden_list[0], num_layers, batch_first=True)\n",
    "        elif model == 'rnn':\n",
    "            self.rnn_layer = nn.RNN(input_size, hidden_list[0], num_layers, batch_first=True)\n",
    "        elif model == 'gru':\n",
    "            self.gru_layer = nn.GRU(input_size, hidden_list[0], num_layers, batch_first=True)\n",
    "        # 은닉층\n",
    "        self.hidden_layer_list = nn.ModuleList()\n",
    "        for i in range(len(hidden_list)-1):\n",
    "            self.hidden_layer_list.append(nn.Linear(hidden_list[i], hidden_list[i+1]))\n",
    "        # 출력층\n",
    "        self.output_layer = nn.Linear(hidden_list[-1], output_size)\n",
    "\n",
    "        self.act_func = act_func\n",
    "        self.dropout = nn.Dropout(0.5)\n",
    "        self.model = model\n",
    "        \n",
    "    def forward(self, x):\n",
    "        # 입력층\n",
    "        if self.model == 'lstm':\n",
    "            lstm_out, (hn, cn) = self.lstm_layer(x) # lstm_out : 모든 타입스텝 출력\n",
    "            x = lstm_out[:, -1, :] # 마지막 타입스텝 출력\n",
    "        elif self.model == 'rnn':\n",
    "            rnn_out, hn = self.rnn_layer(x) # rnn_out : 모든 타입스텝 출력\n",
    "            x = rnn_out[:, -1, :] # 마지막 타입스텝 출력\n",
    "        elif self.model == 'gru':\n",
    "            gru_out, hn = self.gru_layer(x) # gru_out : 모든 타입스텝 출력\n",
    "            x = gru_out[:, -1, :] # 마지막 타입스텝 출력\n",
    "        # 은닉층\n",
    "        for layer in self.hidden_layer_list:\n",
    "            x = layer(x)\n",
    "            x = self.act_func(x)\n",
    "            x = self.dropout(x)\n",
    "        # 출력층\n",
    "        return self.output_layer(x) # 로짓값\n",
    "\n",
    "with open('movie_stopword.txt', 'r', encoding='utf-8') as f:\n",
    "    stopwords = [i.strip() for i in f.readlines()]\n",
    "\n",
    "token = Okt().morphs(sentence)\n",
    "clean_token = remove_punctuation(token)\n",
    "clean_token = remove_stopwords(clean_token, stopwords)\n",
    "clean_text = ' '.join(clean_token)\n",
    "textDF = pd.DataFrame({'clean_text' : [clean_text]})\n",
    "\n",
    "loaded_vectorizer = joblib.load('tfidfvectorizer.pkl')\n",
    "text_vector = loaded_vectorizer.transform(textDF['clean_text']).toarray()\n",
    "text_vectorDF = pd.DataFrame(text_vector)\n",
    "\n",
    "best_model = TextModel(input_size = 20000, output_size = 1, hidden_list = [100],\n",
    "                       act_func=F.relu, model='lstm', num_layers=2)\n",
    "best_model.eval()\n",
    "checkpoint = torch.load('movie_model.pth')\n",
    "best_model.load_state_dict(checkpoint['model_state_dict'])\n",
    "\n",
    "tensor = torch.tensor(text_vectorDF.values, dtype=torch.float)\n",
    "# 출력층에서 로짓 값을 반환하므로, sigmoid로 확률을 압축\n",
    "predicted_value = torch.sigmoid(best_model(tensor.unsqueeze(1)))\n",
    "predicted_value = (predicted_value > 0.5).float().item()  # 0.5를 기준으로 0 또는 1로 변환\n",
    "\n",
    "if predicted_value == 0:\n",
    "    predicted_value = '15세미만관람가'\n",
    "elif predicted_value == 1:\n",
    "    predicted_value = '15세이상관람가'\n",
    "\n",
    "predicted_value"
   ]
  }
 ],
 "metadata": {
  "kernelspec": {
   "display_name": "TORCH_TEXT_38",
   "language": "python",
   "name": "python3"
  },
  "language_info": {
   "codemirror_mode": {
    "name": "ipython",
    "version": 3
   },
   "file_extension": ".py",
   "mimetype": "text/x-python",
   "name": "python",
   "nbconvert_exporter": "python",
   "pygments_lexer": "ipython3",
   "version": "3.8.18"
  }
 },
 "nbformat": 4,
 "nbformat_minor": 2
}
