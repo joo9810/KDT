{
 "cells": [
  {
   "cell_type": "code",
   "execution_count": 2,
   "metadata": {},
   "outputs": [],
   "source": [
    "import random"
   ]
  },
  {
   "cell_type": "code",
   "execution_count": 8,
   "metadata": {},
   "outputs": [
    {
     "data": {
      "text/plain": [
       "[{3, 23, 24, 29, 32, 43},\n",
       " {1, 7, 20, 28, 34, 37},\n",
       " {7, 15, 17, 23, 32, 41},\n",
       " {6, 10, 11, 24, 29, 34},\n",
       " {7, 12, 14, 20, 39, 40}]"
      ]
     },
     "execution_count": 8,
     "metadata": {},
     "output_type": "execute_result"
    }
   ],
   "source": [
    "total_list = []\n",
    "\n",
    "for i in range(5):\n",
    "    lotto_list = set()\n",
    "    while True:\n",
    "        number = random.randint(1,45)\n",
    "        lotto_list.add(number)\n",
    "\n",
    "        if len(lotto_list) == 6:\n",
    "            break\n",
    "    total_list.append(lotto_list)\n",
    "\n",
    "total_list"
   ]
  },
  {
   "cell_type": "code",
   "execution_count": null,
   "metadata": {},
   "outputs": [],
   "source": []
  }
 ],
 "metadata": {
  "kernelspec": {
   "display_name": "TORCH_TEXT_38",
   "language": "python",
   "name": "python3"
  },
  "language_info": {
   "codemirror_mode": {
    "name": "ipython",
    "version": 3
   },
   "file_extension": ".py",
   "mimetype": "text/x-python",
   "name": "python",
   "nbconvert_exporter": "python",
   "pygments_lexer": "ipython3",
   "version": "3.8.18"
  }
 },
 "nbformat": 4,
 "nbformat_minor": 2
}
