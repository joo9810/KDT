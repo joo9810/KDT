{
 "cells": [
  {
   "cell_type": "code",
   "execution_count": 1,
   "metadata": {},
   "outputs": [],
   "source": [
    "MODULE_PATH = '/Users/anhyojun/WorkSpace/KDT2/MyModule'\n",
    "import sys\n",
    "sys.path.append(MODULE_PATH)\n",
    "from KDTModule import *\n",
    "\n",
    "import torch\n",
    "import torch.nn as nn\n",
    "from torch.utils.data import Dataset, DataLoader\n",
    "import torch.optim as optim\n",
    "\n",
    "from konlpy.tag import Okt, Kkma\n",
    "import spacy\n",
    "import MeCab\n",
    "\n",
    "from sklearn.model_selection import train_test_split\n",
    "\n",
    "import matplotlib.pyplot as plt\n",
    "\n",
    "from bs4 import BeautifulSoup\n",
    "import requests\n",
    "import datetime\n",
    "\n",
    "from selenium import webdriver\n",
    "from selenium.webdriver.chrome.service import Service\n",
    "from selenium.webdriver.common.by import By\n",
    "import time\n",
    "import os"
   ]
  },
  {
   "cell_type": "code",
   "execution_count": 46,
   "metadata": {},
   "outputs": [],
   "source": [
    "def make_news_txt2(section):\n",
    "    FILE_SAVE_PATH = f'/Users/anhyojun/WorkSpace/LocalData/네이버 뉴스 기사/{section}'\n",
    "\n",
    "    webdriver_path = '/Users/anhyojun/WebDriver/chromedriver'\n",
    "    service = Service(webdriver_path)\n",
    "    driver = webdriver.Chrome(service=service)\n",
    "\n",
    "    if not os.path.exists(FILE_SAVE_PATH):\n",
    "        os.makedirs(FILE_SAVE_PATH)\n",
    "\n",
    "    with open(f'article_link/{section}.txt', 'r', encoding='utf-8') as f:\n",
    "        article_link = f.readlines()\n",
    "\n",
    "    index = 1\n",
    "\n",
    "    for link in article_link:\n",
    "        article_url = link.rstrip()\n",
    "\n",
    "        # 셀레니움으로 html 동적 크롤링\n",
    "        driver.get(article_url)\n",
    "        time.sleep(1)\n",
    "        html = driver.page_source\n",
    "\n",
    "        # BeautifulSoup로 html 파싱\n",
    "        soup = BeautifulSoup(html, 'html.parser')\n",
    "\n",
    "        try:\n",
    "            text = soup.find('div', class_='_article_content').text\n",
    "            split_text = text.split('\\n')\n",
    "            with open(f\"{FILE_SAVE_PATH}/{section}{index}.txt\", 'w', encoding='utf-8') as f:\n",
    "                f.write(split_text[-1])\n",
    "            index += 1\n",
    "        except:\n",
    "            pass\n",
    "\n",
    "    driver.close()"
   ]
  },
  {
   "cell_type": "code",
   "execution_count": null,
   "metadata": {},
   "outputs": [],
   "source": [
    "make_news_txt2('sports')"
   ]
  },
  {
   "cell_type": "code",
   "execution_count": null,
   "metadata": {},
   "outputs": [],
   "source": []
  }
 ],
 "metadata": {
  "kernelspec": {
   "display_name": "TORCH_TEXT_38",
   "language": "python",
   "name": "python3"
  },
  "language_info": {
   "codemirror_mode": {
    "name": "ipython",
    "version": 3
   },
   "file_extension": ".py",
   "mimetype": "text/x-python",
   "name": "python",
   "nbconvert_exporter": "python",
   "pygments_lexer": "ipython3",
   "version": "3.8.18"
  }
 },
 "nbformat": 4,
 "nbformat_minor": 2
}
