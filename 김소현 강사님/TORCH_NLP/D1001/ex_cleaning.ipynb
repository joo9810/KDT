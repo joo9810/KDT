{
 "cells": [
  {
   "cell_type": "markdown",
   "metadata": {},
   "source": [
    "### 자연어 처리를 위한 전처리\n",
    "- 정제\n",
    "    * 토큰화 전후로 진행 됨\n",
    "    * 100% 제거는 어려움!!\n",
    "    * 불용어 제거, 빈도에 따른 제거, 길이에 따른 제거"
   ]
  },
  {
   "cell_type": "code",
   "execution_count": 132,
   "metadata": {},
   "outputs": [],
   "source": [
    "# 모듈 로딩\n",
    "from nltk.corpus import stopwords \n",
    "from nltk.tokenize import word_tokenize"
   ]
  },
  {
   "cell_type": "code",
   "execution_count": 133,
   "metadata": {},
   "outputs": [
    {
     "name": "stdout",
     "output_type": "stream",
     "text": [
      "영어 불용어 : 179개\n",
      "['i', 'me', 'my', 'myself', 'we', 'our', 'ours', 'ourselves', 'you', \"you're\", \"you've\", \"you'll\", \"you'd\", 'your', 'yours', 'yourself', 'yourselves', 'he', 'him', 'his', 'himself', 'she', \"she's\", 'her', 'hers', 'herself', 'it', \"it's\", 'its', 'itself', 'they', 'them', 'their', 'theirs', 'themselves', 'what', 'which', 'who', 'whom', 'this', 'that', \"that'll\", 'these', 'those', 'am', 'is', 'are', 'was', 'were', 'be', 'been', 'being', 'have', 'has', 'had', 'having', 'do', 'does', 'did', 'doing', 'a', 'an', 'the', 'and', 'but', 'if', 'or', 'because', 'as', 'until', 'while', 'of', 'at', 'by', 'for', 'with', 'about', 'against', 'between', 'into', 'through', 'during', 'before', 'after', 'above', 'below', 'to', 'from', 'up', 'down', 'in', 'out', 'on', 'off', 'over', 'under', 'again', 'further', 'then', 'once', 'here', 'there', 'when', 'where', 'why', 'how', 'all', 'any', 'both', 'each', 'few', 'more', 'most', 'other', 'some', 'such', 'no', 'nor', 'not', 'only', 'own', 'same', 'so', 'than', 'too', 'very', 's', 't', 'can', 'will', 'just', 'don', \"don't\", 'should', \"should've\", 'now', 'd', 'll', 'm', 'o', 're', 've', 'y', 'ain', 'aren', \"aren't\", 'couldn', \"couldn't\", 'didn', \"didn't\", 'doesn', \"doesn't\", 'hadn', \"hadn't\", 'hasn', \"hasn't\", 'haven', \"haven't\", 'isn', \"isn't\", 'ma', 'mightn', \"mightn't\", 'mustn', \"mustn't\", 'needn', \"needn't\", 'shan', \"shan't\", 'shouldn', \"shouldn't\", 'wasn', \"wasn't\", 'weren', \"weren't\", 'won', \"won't\", 'wouldn', \"wouldn't\"]\n"
     ]
    }
   ],
   "source": [
    "# NLTK 제공 영어 불용어 리스트 가져오기\n",
    "english_sw = stopwords.words('english')\n",
    "print(f\"영어 불용어 : {len(english_sw)}개\")\n",
    "print(english_sw)\n",
    "\n",
    "# 커스텀 불용어 토큰/단어 추가\n",
    "english_sw.append('not')"
   ]
  },
  {
   "cell_type": "code",
   "execution_count": 134,
   "metadata": {},
   "outputs": [
    {
     "name": "stdout",
     "output_type": "stream",
     "text": [
      "i\n",
      "me my myself we our ours ourselves you you're you've you'll you'd your yours yourself yourselves he him his himself\n",
      "she she's her hers herself it it's its itself they them their theirs themselves what which who whom this that\n",
      "that'll these those am is are was were be "
     ]
    }
   ],
   "source": [
    "for idx, _ in enumerate(english_sw[:50]):\n",
    "    print(_, end=' ' if idx%20 else '\\n')"
   ]
  },
  {
   "cell_type": "code",
   "execution_count": 135,
   "metadata": {},
   "outputs": [],
   "source": [
    "# 토큰에서 불용어 제거하기\n",
    "text = \"##Family is not an important! thing~. It's everything.\""
   ]
  },
  {
   "cell_type": "code",
   "execution_count": 136,
   "metadata": {},
   "outputs": [
    {
     "name": "stdout",
     "output_type": "stream",
     "text": [
      "punctuation - ! : ##Family is not an important thing~. It's everything.\n",
      "punctuation - \" : ##Family is not an important thing~. It's everything.\n",
      "punctuation - # : Family is not an important thing~. It's everything.\n",
      "punctuation - $ : Family is not an important thing~. It's everything.\n",
      "punctuation - % : Family is not an important thing~. It's everything.\n",
      "punctuation - & : Family is not an important thing~. It's everything.\n",
      "punctuation - ' : Family is not an important thing~. Its everything.\n",
      "punctuation - ( : Family is not an important thing~. Its everything.\n",
      "punctuation - ) : Family is not an important thing~. Its everything.\n",
      "punctuation - * : Family is not an important thing~. Its everything.\n",
      "punctuation - + : Family is not an important thing~. Its everything.\n",
      "punctuation - , : Family is not an important thing~. Its everything.\n",
      "punctuation - - : Family is not an important thing~. Its everything.\n",
      "punctuation - . : Family is not an important thing~ Its everything\n",
      "punctuation - / : Family is not an important thing~ Its everything\n",
      "punctuation - : : Family is not an important thing~ Its everything\n",
      "punctuation - ; : Family is not an important thing~ Its everything\n",
      "punctuation - < : Family is not an important thing~ Its everything\n",
      "punctuation - = : Family is not an important thing~ Its everything\n",
      "punctuation - > : Family is not an important thing~ Its everything\n",
      "punctuation - ? : Family is not an important thing~ Its everything\n",
      "punctuation - @ : Family is not an important thing~ Its everything\n",
      "punctuation - [ : Family is not an important thing~ Its everything\n",
      "punctuation - \\ : Family is not an important thing~ Its everything\n",
      "punctuation - ] : Family is not an important thing~ Its everything\n",
      "punctuation - ^ : Family is not an important thing~ Its everything\n",
      "punctuation - _ : Family is not an important thing~ Its everything\n",
      "punctuation - ` : Family is not an important thing~ Its everything\n",
      "punctuation - { : Family is not an important thing~ Its everything\n",
      "punctuation - | : Family is not an important thing~ Its everything\n",
      "punctuation - } : Family is not an important thing~ Its everything\n",
      "punctuation - ~ : Family is not an important thing Its everything\n"
     ]
    }
   ],
   "source": [
    "# 구두점 제거\n",
    "import string \n",
    "punct = string.punctuation\n",
    "for pun in punct:\n",
    "    text = text.replace(pun, '')\n",
    "    print(f\"punctuation - {pun} : {text}\")\n"
   ]
  },
  {
   "cell_type": "code",
   "execution_count": 137,
   "metadata": {},
   "outputs": [
    {
     "name": "stdout",
     "output_type": "stream",
     "text": [
      "['family', 'is', 'not', 'an', 'important', 'thing', 'its', 'everything']\n"
     ]
    }
   ],
   "source": [
    "# 대소문자 통일\n",
    "text = text.lower()\n",
    "\n",
    "# 토큰화 진행\n",
    "tokens = word_tokenize(text)\n",
    "print(tokens)"
   ]
  },
  {
   "cell_type": "code",
   "execution_count": 138,
   "metadata": {},
   "outputs": [],
   "source": [
    "english_sw.append('not')\n",
    "\n",
    "# 불용어 제거 : 분석에 의미가 없는 토큰 제거\n",
    "tokens2 = []\n",
    "for token in tokens:\n",
    "    if token not in english_sw:\n",
    "        # 제거\n",
    "        tokens2.append(token)"
   ]
  },
  {
   "cell_type": "code",
   "execution_count": 139,
   "metadata": {},
   "outputs": [
    {
     "data": {
      "text/plain": [
       "['family', 'important', 'thing', 'everything']"
      ]
     },
     "execution_count": 139,
     "metadata": {},
     "output_type": "execute_result"
    }
   ],
   "source": [
    "# ['family', 'is', 'not', 'an', 'important', 'thing', 'its', 'everything']\n",
    "tokens2"
   ]
  },
  {
   "cell_type": "code",
   "execution_count": null,
   "metadata": {},
   "outputs": [],
   "source": []
  }
 ],
 "metadata": {
  "kernelspec": {
   "display_name": "TORCH_TEXT_38",
   "language": "python",
   "name": "python3"
  },
  "language_info": {
   "codemirror_mode": {
    "name": "ipython",
    "version": 3
   },
   "file_extension": ".py",
   "mimetype": "text/x-python",
   "name": "python",
   "nbconvert_exporter": "python",
   "pygments_lexer": "ipython3",
   "version": "3.8.18"
  }
 },
 "nbformat": 4,
 "nbformat_minor": 2
}
