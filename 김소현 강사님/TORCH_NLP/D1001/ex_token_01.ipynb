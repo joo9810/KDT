{
 "cells": [
  {
   "cell_type": "markdown",
   "metadata": {},
   "source": [
    "### 자연어 처리를 위한 전처리\n",
    "- 토큰화(Tokenizer) : 의미를 가진 최소 단위로 나누는 작업\n",
    "    * 단어 토큰화\n",
    "    * 문장 토큰화\n",
    "    * 바이트 토큰화"
   ]
  },
  {
   "cell_type": "markdown",
   "metadata": {},
   "source": [
    "[1] 모듈 로딩 및 데이터 준비 <hr>"
   ]
  },
  {
   "cell_type": "code",
   "execution_count": 1,
   "metadata": {},
   "outputs": [],
   "source": [
    "# 모듈 로딩\n",
    "from nltk.tokenize import word_tokenize, sent_tokenize, wordpunct_tokenize"
   ]
  },
  {
   "cell_type": "code",
   "execution_count": 2,
   "metadata": {},
   "outputs": [],
   "source": [
    "# 임시 데이터\n",
    "text = \"We're Good Luck ~!!! Happy New Year 2025. !\""
   ]
  },
  {
   "cell_type": "code",
   "execution_count": 3,
   "metadata": {},
   "outputs": [
    {
     "name": "stdout",
     "output_type": "stream",
     "text": [
      "['We', \"'re\", 'Good', 'Luck', '~', '!', '!', '!', 'Happy', 'New', 'Year', '2025.', '!']\n"
     ]
    }
   ],
   "source": [
    "# [1] 단어 단위 토큰화\n",
    "result = word_tokenize(text)\n",
    "\n",
    "print(result)"
   ]
  },
  {
   "cell_type": "code",
   "execution_count": 4,
   "metadata": {},
   "outputs": [
    {
     "name": "stdout",
     "output_type": "stream",
     "text": [
      "[\"We're Good Luck ~!!!\", 'Happy New Year 2025. !']\n"
     ]
    }
   ],
   "source": [
    "# [2] 문장 단위 토큰화\n",
    "result = sent_tokenize(text)\n",
    "\n",
    "print(result)"
   ]
  },
  {
   "cell_type": "code",
   "execution_count": 5,
   "metadata": {},
   "outputs": [
    {
     "name": "stdout",
     "output_type": "stream",
     "text": [
      "['We', \"'\", 're', 'Good', 'Luck', '~!!!', 'Happy', 'New', 'Year', '2025', '.', '!']\n"
     ]
    }
   ],
   "source": [
    "# [3] 단어와 구두점 단위 토큰화\n",
    "result = wordpunct_tokenize(text)\n",
    "print(result)"
   ]
  },
  {
   "cell_type": "markdown",
   "metadata": {},
   "source": [
    "[2] 품사 태깅 <hr>"
   ]
  },
  {
   "cell_type": "code",
   "execution_count": 6,
   "metadata": {},
   "outputs": [],
   "source": [
    "from nltk.tag import pos_tag"
   ]
  },
  {
   "cell_type": "code",
   "execution_count": 7,
   "metadata": {},
   "outputs": [],
   "source": [
    "text = \"I am actively looking for Ph.D. students. and you are a Ph.D. student.\""
   ]
  },
  {
   "cell_type": "code",
   "execution_count": 8,
   "metadata": {},
   "outputs": [
    {
     "name": "stdout",
     "output_type": "stream",
     "text": [
      "['I', 'am', 'actively', 'looking', 'for', 'Ph.D.', 'students', '.', 'and', 'you', 'are', 'a', 'Ph.D.', 'student', '.']\n"
     ]
    }
   ],
   "source": [
    "# 단순 단어기반 토큰화\n",
    "result = word_tokenize(text)\n",
    "print(result)"
   ]
  },
  {
   "cell_type": "code",
   "execution_count": 9,
   "metadata": {},
   "outputs": [
    {
     "data": {
      "text/plain": [
       "[('I', 'PRON'),\n",
       " ('am', 'VERB'),\n",
       " ('actively', 'ADV'),\n",
       " ('looking', 'VERB'),\n",
       " ('for', 'ADP'),\n",
       " ('Ph.D.', 'NOUN'),\n",
       " ('students', 'NOUN'),\n",
       " ('.', '.'),\n",
       " ('and', 'CONJ'),\n",
       " ('you', 'PRON'),\n",
       " ('are', 'VERB'),\n",
       " ('a', 'DET'),\n",
       " ('Ph.D.', 'NOUN'),\n",
       " ('student', 'NOUN'),\n",
       " ('.', '.')]"
      ]
     },
     "execution_count": 9,
     "metadata": {},
     "output_type": "execute_result"
    }
   ],
   "source": [
    "pos_tag(result, tagset='universal')"
   ]
  },
  {
   "cell_type": "markdown",
   "metadata": {},
   "source": [
    "- [3] 어간추출 <hr>"
   ]
  },
  {
   "cell_type": "code",
   "execution_count": 10,
   "metadata": {},
   "outputs": [],
   "source": [
    "# 단어사전에 존재하는 어간으로 추출 즉, 표제어 추출\n",
    "from nltk.stem import WordNetLemmatizer"
   ]
  },
  {
   "cell_type": "code",
   "execution_count": 11,
   "metadata": {},
   "outputs": [],
   "source": [
    "words = ['policy', 'doing', 'organization', 'have', 'going', 'love',\n",
    "         'lives', 'fly', 'dies', 'watched', 'has', 'starting']"
   ]
  },
  {
   "cell_type": "code",
   "execution_count": 13,
   "metadata": {},
   "outputs": [
    {
     "name": "stdout",
     "output_type": "stream",
     "text": [
      "['policy', 'doing', 'organization', 'have', 'going', 'love', 'life', 'fly', 'dy', 'watched', 'ha', 'starting']\n"
     ]
    }
   ],
   "source": [
    "# 표제어 추출\n",
    "print([WordNetLemmatizer().lemmatize(word) for word in words])"
   ]
  },
  {
   "cell_type": "code",
   "execution_count": 15,
   "metadata": {},
   "outputs": [
    {
     "name": "stdout",
     "output_type": "stream",
     "text": [
      "['policy', 'do', 'organization', 'have', 'go', 'love', 'live', 'fly', 'die', 'watch', 'have', 'start']\n"
     ]
    }
   ],
   "source": [
    "print([WordNetLemmatizer().lemmatize(word, pos='v') for word in words])"
   ]
  },
  {
   "cell_type": "code",
   "execution_count": 16,
   "metadata": {},
   "outputs": [],
   "source": [
    "# 단어사전에 존재하지 않을 수 있는 어간으로 추출 즉, 어간 추출\n",
    "# 단어의 형태학적 측면에서 어간 추출하는 방식\n",
    "\n",
    "from nltk.stem import PorterStemmer, LancasterStemmer"
   ]
  },
  {
   "cell_type": "code",
   "execution_count": 19,
   "metadata": {},
   "outputs": [
    {
     "name": "stdout",
     "output_type": "stream",
     "text": [
      "['polici', 'do', 'organ', 'have', 'go', 'love', 'live', 'fli', 'die', 'watch', 'ha', 'start']\n"
     ]
    }
   ],
   "source": [
    "# Porter 알고리즘 기반 형태적 측면 어간추출\n",
    "# words = ['policy', 'doing', 'organization', 'have', 'going', 'love',\n",
    "#          'lives', 'fly', 'dies', 'watched', 'has', 'starting']\n",
    "print([PorterStemmer().stem(word) for word in words])"
   ]
  },
  {
   "cell_type": "code",
   "execution_count": 20,
   "metadata": {},
   "outputs": [
    {
     "name": "stdout",
     "output_type": "stream",
     "text": [
      "['policy', 'doing', 'org', 'hav', 'going', 'lov', 'liv', 'fly', 'die', 'watch', 'has', 'start']\n"
     ]
    }
   ],
   "source": [
    "# Lancaster 알고리즘 기반 형태적 측면 어간추출\n",
    "# words = ['policy', 'doing', 'organization', 'have', 'going', 'love',\n",
    "#          'lives', 'fly', 'dies', 'watched', 'has', 'starting']\n",
    "print([LancasterStemmer().stem(word) for word in words])"
   ]
  }
 ],
 "metadata": {
  "kernelspec": {
   "display_name": "TORCH_TEXT_38",
   "language": "python",
   "name": "python3"
  },
  "language_info": {
   "codemirror_mode": {
    "name": "ipython",
    "version": 3
   },
   "file_extension": ".py",
   "mimetype": "text/x-python",
   "name": "python",
   "nbconvert_exporter": "python",
   "pygments_lexer": "ipython3",
   "version": "3.8.18"
  }
 },
 "nbformat": 4,
 "nbformat_minor": 2
}
